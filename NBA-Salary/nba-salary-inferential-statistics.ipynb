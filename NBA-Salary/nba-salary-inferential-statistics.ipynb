{
 "cells": [
  {
   "cell_type": "code",
   "execution_count": 1,
   "metadata": {
    "executionInfo": {
     "elapsed": 2574,
     "status": "ok",
     "timestamp": 1611198262836,
     "user": {
      "displayName": "Regita Putri Permata",
      "photoUrl": "https://lh3.googleusercontent.com/a-/AOh14GhzCd6_zvyWLaD1iQrW_1w5U86jNHEOuOhIPMVgUR0=s64",
      "userId": "07807283448997122753"
     },
     "user_tz": -420
    },
    "id": "VD6Ea0bb3Ucg",
    "pycharm": {}
   },
   "outputs": [],
   "source": [
    "#Libraries\n",
    "import pandas as pd\n",
    "import numpy as np\n",
    "import scipy.stats as st\n",
    "import matplotlib.pyplot as plt\n",
    "import seaborn as sns\n",
    "\n",
    "#Ignoring warnings\n",
    "import warnings\n",
    "warnings.filterwarnings(\"ignore\")"
   ]
  },
  {
   "cell_type": "code",
   "execution_count": 8,
   "metadata": {
    "colab": {
     "base_uri": "https://localhost:8080/",
     "height": 204
    },
    "executionInfo": {
     "elapsed": 1284,
     "status": "ok",
     "timestamp": 1611198597206,
     "user": {
      "displayName": "Regita Putri Permata",
      "photoUrl": "https://lh3.googleusercontent.com/a-/AOh14GhzCd6_zvyWLaD1iQrW_1w5U86jNHEOuOhIPMVgUR0=s64",
      "userId": "07807283448997122753"
     },
     "user_tz": -420
    },
    "id": "d6Z2On-Z3Ucg",
    "outputId": "70fee716-9823-4ed9-e0a9-00381d9cb677",
    "pycharm": {}
   },
   "outputs": [
    {
     "data": {
      "text/html": [
       "<div>\n",
       "<style scoped>\n",
       "    .dataframe tbody tr th:only-of-type {\n",
       "        vertical-align: middle;\n",
       "    }\n",
       "\n",
       "    .dataframe tbody tr th {\n",
       "        vertical-align: top;\n",
       "    }\n",
       "\n",
       "    .dataframe thead th {\n",
       "        text-align: right;\n",
       "    }\n",
       "</style>\n",
       "<table border=\"1\" class=\"dataframe\">\n",
       "  <thead>\n",
       "    <tr style=\"text-align: right;\">\n",
       "      <th></th>\n",
       "      <th>Unnamed: 0</th>\n",
       "      <th>Player</th>\n",
       "      <th>Tm</th>\n",
       "      <th>season17_18</th>\n",
       "    </tr>\n",
       "  </thead>\n",
       "  <tbody>\n",
       "    <tr>\n",
       "      <th>0</th>\n",
       "      <td>1</td>\n",
       "      <td>Stephen Curry</td>\n",
       "      <td>GSW</td>\n",
       "      <td>34682550.0</td>\n",
       "    </tr>\n",
       "    <tr>\n",
       "      <th>1</th>\n",
       "      <td>2</td>\n",
       "      <td>LeBron James</td>\n",
       "      <td>CLE</td>\n",
       "      <td>33285709.0</td>\n",
       "    </tr>\n",
       "    <tr>\n",
       "      <th>2</th>\n",
       "      <td>3</td>\n",
       "      <td>Paul Millsap</td>\n",
       "      <td>DEN</td>\n",
       "      <td>31269231.0</td>\n",
       "    </tr>\n",
       "    <tr>\n",
       "      <th>3</th>\n",
       "      <td>4</td>\n",
       "      <td>Gordon Hayward</td>\n",
       "      <td>BOS</td>\n",
       "      <td>29727900.0</td>\n",
       "    </tr>\n",
       "    <tr>\n",
       "      <th>4</th>\n",
       "      <td>5</td>\n",
       "      <td>Blake Griffin</td>\n",
       "      <td>DET</td>\n",
       "      <td>29512900.0</td>\n",
       "    </tr>\n",
       "  </tbody>\n",
       "</table>\n",
       "</div>"
      ],
      "text/plain": [
       "   Unnamed: 0          Player   Tm  season17_18\n",
       "0           1   Stephen Curry  GSW   34682550.0\n",
       "1           2    LeBron James  CLE   33285709.0\n",
       "2           3    Paul Millsap  DEN   31269231.0\n",
       "3           4  Gordon Hayward  BOS   29727900.0\n",
       "4           5   Blake Griffin  DET   29512900.0"
      ]
     },
     "execution_count": 8,
     "metadata": {
      "tags": []
     },
     "output_type": "execute_result"
    }
   ],
   "source": [
    "#Reading CSV Dataset\n",
    "df_NBA = pd.read_csv('NBA_salary.csv')\n",
    "df_NBA.head()\n"
   ]
  },
  {
   "cell_type": "code",
   "execution_count": 9,
   "metadata": {
    "colab": {
     "base_uri": "https://localhost:8080/"
    },
    "executionInfo": {
     "elapsed": 1156,
     "status": "ok",
     "timestamp": 1611198605255,
     "user": {
      "displayName": "Regita Putri Permata",
      "photoUrl": "https://lh3.googleusercontent.com/a-/AOh14GhzCd6_zvyWLaD1iQrW_1w5U86jNHEOuOhIPMVgUR0=s64",
      "userId": "07807283448997122753"
     },
     "user_tz": -420
    },
    "id": "ecSTsXij3Uci",
    "outputId": "18bb69eb-2f57-4a96-dd58-73b4008c72aa",
    "pycharm": {}
   },
   "outputs": [
    {
     "name": "stdout",
     "output_type": "stream",
     "text": [
      "<class 'pandas.core.frame.DataFrame'>\n",
      "RangeIndex: 573 entries, 0 to 572\n",
      "Data columns (total 4 columns):\n",
      " #   Column       Non-Null Count  Dtype  \n",
      "---  ------       --------------  -----  \n",
      " 0   Unnamed: 0   573 non-null    int64  \n",
      " 1   Player       573 non-null    object \n",
      " 2   Tm           573 non-null    object \n",
      " 3   season17_18  573 non-null    float64\n",
      "dtypes: float64(1), int64(1), object(2)\n",
      "memory usage: 18.0+ KB\n"
     ]
    }
   ],
   "source": [
    "#DF Key information\n",
    "df_NBA.info()\n"
   ]
  },
  {
   "cell_type": "code",
   "execution_count": 10,
   "metadata": {
    "colab": {
     "base_uri": "https://localhost:8080/",
     "height": 204
    },
    "executionInfo": {
     "elapsed": 1882,
     "status": "ok",
     "timestamp": 1611198613717,
     "user": {
      "displayName": "Regita Putri Permata",
      "photoUrl": "https://lh3.googleusercontent.com/a-/AOh14GhzCd6_zvyWLaD1iQrW_1w5U86jNHEOuOhIPMVgUR0=s64",
      "userId": "07807283448997122753"
     },
     "user_tz": -420
    },
    "id": "3KamWawK3Ucj",
    "outputId": "c85dd2d8-91cf-4c0a-c0ab-6e11c316e8b4",
    "pycharm": {},
    "scrolled": true
   },
   "outputs": [
    {
     "data": {
      "text/html": [
       "<div>\n",
       "<style scoped>\n",
       "    .dataframe tbody tr th:only-of-type {\n",
       "        vertical-align: middle;\n",
       "    }\n",
       "\n",
       "    .dataframe tbody tr th {\n",
       "        vertical-align: top;\n",
       "    }\n",
       "\n",
       "    .dataframe thead th {\n",
       "        text-align: right;\n",
       "    }\n",
       "</style>\n",
       "<table border=\"1\" class=\"dataframe\">\n",
       "  <thead>\n",
       "    <tr style=\"text-align: right;\">\n",
       "      <th></th>\n",
       "      <th>player</th>\n",
       "      <th>team</th>\n",
       "      <th>salary</th>\n",
       "    </tr>\n",
       "  </thead>\n",
       "  <tbody>\n",
       "    <tr>\n",
       "      <th>0</th>\n",
       "      <td>Stephen Curry</td>\n",
       "      <td>GSW</td>\n",
       "      <td>34682550.0</td>\n",
       "    </tr>\n",
       "    <tr>\n",
       "      <th>1</th>\n",
       "      <td>LeBron James</td>\n",
       "      <td>CLE</td>\n",
       "      <td>33285709.0</td>\n",
       "    </tr>\n",
       "    <tr>\n",
       "      <th>2</th>\n",
       "      <td>Paul Millsap</td>\n",
       "      <td>DEN</td>\n",
       "      <td>31269231.0</td>\n",
       "    </tr>\n",
       "    <tr>\n",
       "      <th>3</th>\n",
       "      <td>Gordon Hayward</td>\n",
       "      <td>BOS</td>\n",
       "      <td>29727900.0</td>\n",
       "    </tr>\n",
       "    <tr>\n",
       "      <th>4</th>\n",
       "      <td>Blake Griffin</td>\n",
       "      <td>DET</td>\n",
       "      <td>29512900.0</td>\n",
       "    </tr>\n",
       "  </tbody>\n",
       "</table>\n",
       "</div>"
      ],
      "text/plain": [
       "           player team      salary\n",
       "0   Stephen Curry  GSW  34682550.0\n",
       "1    LeBron James  CLE  33285709.0\n",
       "2    Paul Millsap  DEN  31269231.0\n",
       "3  Gordon Hayward  BOS  29727900.0\n",
       "4   Blake Griffin  DET  29512900.0"
      ]
     },
     "execution_count": 10,
     "metadata": {
      "tags": []
     },
     "output_type": "execute_result"
    }
   ],
   "source": [
    "#Renaming and deleting columns\n",
    "df_NBA.columns = ['cod', 'player', 'team', 'salary']\n",
    "del df_NBA['cod']\n",
    "df_NBA.head()\n"
   ]
  },
  {
   "cell_type": "markdown",
   "metadata": {
    "id": "_DyJRxz13Uck",
    "pycharm": {}
   },
   "source": [
    "---\n",
    "## Visualizing players by team"
   ]
  },
  {
   "cell_type": "code",
   "execution_count": 11,
   "metadata": {
    "colab": {
     "base_uri": "https://localhost:8080/",
     "height": 400
    },
    "executionInfo": {
     "elapsed": 1355,
     "status": "ok",
     "timestamp": 1611198617832,
     "user": {
      "displayName": "Regita Putri Permata",
      "photoUrl": "https://lh3.googleusercontent.com/a-/AOh14GhzCd6_zvyWLaD1iQrW_1w5U86jNHEOuOhIPMVgUR0=s64",
      "userId": "07807283448997122753"
     },
     "user_tz": -420
    },
    "id": "CSIo7byL3Uck",
    "outputId": "7dfe3258-318d-494e-ffcb-1cbd49a6754b",
    "pycharm": {},
    "scrolled": false
   },
   "outputs": [
    {
     "data": {
      "text/plain": [
       "<seaborn.axisgrid.FacetGrid at 0x7f8a7646b6d8>"
      ]
     },
     "execution_count": 11,
     "metadata": {
      "tags": []
     },
     "output_type": "execute_result"
    },
    {
     "data": {
      "image/png": "[encoded data removed]",
      "text/plain": [
       "<Figure size 900x360 with 1 Axes>"
      ]
     },
     "metadata": {
      "needs_background": "light",
      "tags": []
     },
     "output_type": "display_data"
    }
   ],
   "source": [
    "team_index = df_NBA['team'].value_counts()\n",
    "sns.catplot(data=df_NBA,\n",
    "            x='team',\n",
    "            order=team_index.index,\n",
    "            kind='count',\n",
    "            aspect=2.5,\n",
    "            palette='GnBu_d')"
   ]
  },
  {
   "cell_type": "markdown",
   "metadata": {
    "id": "5GYMnNRc3Ucl",
    "pycharm": {}
   },
   "source": [
    "## Salary Distribution"
   ]
  },
  {
   "cell_type": "code",
   "execution_count": 12,
   "metadata": {
    "colab": {
     "base_uri": "https://localhost:8080/",
     "height": 307
    },
    "executionInfo": {
     "elapsed": 1204,
     "status": "ok",
     "timestamp": 1611198624460,
     "user": {
      "displayName": "Regita Putri Permata",
      "photoUrl": "https://lh3.googleusercontent.com/a-/AOh14GhzCd6_zvyWLaD1iQrW_1w5U86jNHEOuOhIPMVgUR0=s64",
      "userId": "07807283448997122753"
     },
     "user_tz": -420
    },
    "id": "liwjZ6FP3Ucl",
    "outputId": "eda2d322-f191-41af-d49c-f7d35c1a7f90",
    "pycharm": {}
   },
   "outputs": [
    {
     "data": {
      "text/plain": [
       "<matplotlib.axes._subplots.AxesSubplot at 0x7f8a446527f0>"
      ]
     },
     "execution_count": 12,
     "metadata": {
      "tags": []
     },
     "output_type": "execute_result"
    },
    {
     "data": {
      "image/png": "[encoded data removed]",
      "text/plain": [
       "<Figure size 576x288 with 1 Axes>"
      ]
     },
     "metadata": {
      "needs_background": "light",
      "tags": []
     },
     "output_type": "display_data"
    }
   ],
   "source": [
    "#Histogram and KDE\n",
    "plt.figure(figsize=(8, 4))\n",
    "sns.distplot(df_NBA['salary'], bins=40)\n"
   ]
  },
  {
   "cell_type": "code",
   "execution_count": 13,
   "metadata": {
    "colab": {
     "base_uri": "https://localhost:8080/",
     "height": 289
    },
    "executionInfo": {
     "elapsed": 1443,
     "status": "ok",
     "timestamp": 1611198626746,
     "user": {
      "displayName": "Regita Putri Permata",
      "photoUrl": "https://lh3.googleusercontent.com/a-/AOh14GhzCd6_zvyWLaD1iQrW_1w5U86jNHEOuOhIPMVgUR0=s64",
      "userId": "07807283448997122753"
     },
     "user_tz": -420
    },
    "id": "uHcmFVgQ3Ucm",
    "outputId": "f5ae506e-6fbc-4363-e5b6-a6541d1acc95",
    "pycharm": {}
   },
   "outputs": [
    {
     "data": {
      "image/png": "[encoded data removed]",
      "text/plain": [
       "<Figure size 576x288 with 1 Axes>"
      ]
     },
     "metadata": {
      "needs_background": "light",
      "tags": []
     },
     "output_type": "display_data"
    }
   ],
   "source": [
    "#Probability Density Function (PDF) Chart\n",
    "x = df_NBA['salary']\n",
    "\n",
    "plt.figure(figsize=(8, 4))\n",
    "plt.plot(x, st.norm.pdf(x, x.mean(), x.std()))\n",
    "plt.show()\n"
   ]
  },
  {
   "cell_type": "markdown",
   "metadata": {
    "id": "k_c4QluP3Ucm",
    "pycharm": {}
   },
   "source": [
    "_Based on the probability density function plot is possible to identify a normal distibution, however, with a huge bilateral symmetry (right). Using a logarithm function is possible to \"correct\" it._"
   ]
  },
  {
   "cell_type": "markdown",
   "metadata": {
    "id": "518Hb1Ki3Ucn",
    "pycharm": {
     "metadata": false,
     "name": "#%%\n"
    }
   },
   "source": [
    "## Normalizing the salary data"
   ]
  },
  {
   "cell_type": "code",
   "execution_count": 14,
   "metadata": {
    "colab": {
     "base_uri": "https://localhost:8080/",
     "height": 297
    },
    "executionInfo": {
     "elapsed": 1321,
     "status": "ok",
     "timestamp": 1611198630696,
     "user": {
      "displayName": "Regita Putri Permata",
      "photoUrl": "https://lh3.googleusercontent.com/a-/AOh14GhzCd6_zvyWLaD1iQrW_1w5U86jNHEOuOhIPMVgUR0=s64",
      "userId": "07807283448997122753"
     },
     "user_tz": -420
    },
    "id": "0XADJpAj3Ucn",
    "outputId": "83295214-fc29-4d07-cfa5-e382174e6f7d",
    "pycharm": {}
   },
   "outputs": [
    {
     "data": {
      "text/plain": [
       "<matplotlib.axes._subplots.AxesSubplot at 0x7f8a436294e0>"
      ]
     },
     "execution_count": 14,
     "metadata": {
      "tags": []
     },
     "output_type": "execute_result"
    },
    {
     "data": {
      "image/png": "[encoded data removed]",
      "text/plain": [
       "<Figure size 432x288 with 1 Axes>"
      ]
     },
     "metadata": {
      "needs_background": "light",
      "tags": []
     },
     "output_type": "display_data"
    }
   ],
   "source": [
    "#Creating a column with the salary log to normalize the distribution\n",
    "df_NBA['salary_log'] = np.log1p(df_NBA['salary'])\n",
    "sns.distplot(df_NBA['salary_log'], bins=25)\n"
   ]
  },
  {
   "cell_type": "code",
   "execution_count": 15,
   "metadata": {
    "colab": {
     "base_uri": "https://localhost:8080/",
     "height": 297
    },
    "executionInfo": {
     "elapsed": 1145,
     "status": "ok",
     "timestamp": 1611198644218,
     "user": {
      "displayName": "Regita Putri Permata",
      "photoUrl": "https://lh3.googleusercontent.com/a-/AOh14GhzCd6_zvyWLaD1iQrW_1w5U86jNHEOuOhIPMVgUR0=s64",
      "userId": "07807283448997122753"
     },
     "user_tz": -420
    },
    "id": "3pmK9de93Ucn",
    "outputId": "8b923841-f396-4f47-85d5-ed9513a2077a",
    "pycharm": {}
   },
   "outputs": [
    {
     "data": {
      "text/plain": [
       "<matplotlib.axes._subplots.AxesSubplot at 0x7f8a43626ba8>"
      ]
     },
     "execution_count": 15,
     "metadata": {
      "tags": []
     },
     "output_type": "execute_result"
    },
    {
     "data": {
      "image/png": "[encoded data removed]",
      "text/plain": [
       "<Figure size 432x288 with 1 Axes>"
      ]
     },
     "metadata": {
      "needs_background": "light",
      "tags": []
     },
     "output_type": "display_data"
    }
   ],
   "source": [
    "#Dividing by the mean and standard deviation to standardize the serie in a new column\n",
    "df_NBA['norm_log_salary'] = ((df_NBA['salary_log'] - df_NBA['salary_log'].mean()) / df_NBA['salary_log'].std())\n",
    "sns.distplot(df_NBA['norm_log_salary'], bins=25)\n"
   ]
  },
  {
   "cell_type": "markdown",
   "metadata": {
    "id": "DnJxLP-L3Uco",
    "pycharm": {}
   },
   "source": [
    "## Mean and Standard Deviation"
   ]
  },
  {
   "cell_type": "code",
   "execution_count": 16,
   "metadata": {
    "colab": {
     "base_uri": "https://localhost:8080/"
    },
    "executionInfo": {
     "elapsed": 1199,
     "status": "ok",
     "timestamp": 1611198690648,
     "user": {
      "displayName": "Regita Putri Permata",
      "photoUrl": "https://lh3.googleusercontent.com/a-/AOh14GhzCd6_zvyWLaD1iQrW_1w5U86jNHEOuOhIPMVgUR0=s64",
      "userId": "07807283448997122753"
     },
     "user_tz": -420
    },
    "id": "lsQrqdvo3Uco",
    "outputId": "d3eb5134-1647-4487-9170-05cf5d7a4740",
    "pycharm": {
     "metadata": false
    }
   },
   "outputs": [
    {
     "name": "stdout",
     "output_type": "stream",
     "text": [
      "Mean: 0.0000\n",
      "Standard: 1.0000\n"
     ]
    }
   ],
   "source": [
    "print(f\"\"\"Mean: {df_NBA.norm_log_salary.mean():.4f}\n",
    "Standard: {df_NBA.norm_log_salary.std():.4f}\"\"\") \n"
   ]
  },
  {
   "cell_type": "markdown",
   "metadata": {
    "id": "d1EAKoEE7Gz0"
   },
   "source": [
    "Bentuk normal standar sehingga Mean dan standard deviasi adalah 0,1"
   ]
  },
  {
   "cell_type": "code",
   "execution_count": 32,
   "metadata": {
    "colab": {
     "base_uri": "https://localhost:8080/"
    },
    "executionInfo": {
     "elapsed": 1210,
     "status": "ok",
     "timestamp": 1611199758391,
     "user": {
      "displayName": "Regita Putri Permata",
      "photoUrl": "https://lh3.googleusercontent.com/a-/AOh14GhzCd6_zvyWLaD1iQrW_1w5U86jNHEOuOhIPMVgUR0=s64",
      "userId": "07807283448997122753"
     },
     "user_tz": -420
    },
    "id": "my9d6Whb783h",
    "outputId": "ad60d24b-5010-4cb4-9c1e-e05f24033988"
   },
   "outputs": [
    {
     "name": "stdout",
     "output_type": "stream",
     "text": [
      "x bar is 5858945.886561954\n"
     ]
    }
   ],
   "source": [
    "#Berapa point estimation dari rata-rata salary?\n",
    "mean_salary = df_NBA.salary.mean()\n",
    "print ('x bar is '+ str(mean_salary))"
   ]
  },
  {
   "cell_type": "code",
   "execution_count": 39,
   "metadata": {
    "colab": {
     "base_uri": "https://localhost:8080/"
    },
    "executionInfo": {
     "elapsed": 1130,
     "status": "ok",
     "timestamp": 1611199869634,
     "user": {
      "displayName": "Regita Putri Permata",
      "photoUrl": "https://lh3.googleusercontent.com/a-/AOh14GhzCd6_zvyWLaD1iQrW_1w5U86jNHEOuOhIPMVgUR0=s64",
      "userId": "07807283448997122753"
     },
     "user_tz": -420
    },
    "id": "fmTvCwVW8ZXS",
    "outputId": "698d0dde-8773-4cdc-8be9-8a05cabeec8f"
   },
   "outputs": [
    {
     "data": {
      "text/plain": [
       "team\n",
       "CLE    9.806325e+06\n",
       "OKC    8.952937e+06\n",
       "GSW    8.593428e+06\n",
       "Name: salary, dtype: float64"
      ]
     },
     "execution_count": 39,
     "metadata": {
      "tags": []
     },
     "output_type": "execute_result"
    }
   ],
   "source": [
    "#berapa rata-rata salary tertinggi berdasarkan team ?\n",
    "df_NBA.groupby(\"team\")['salary'].mean().sort_values(ascending=False).head(3)"
   ]
  },
  {
   "cell_type": "code",
   "execution_count": 41,
   "metadata": {
    "colab": {
     "base_uri": "https://localhost:8080/",
     "height": 633
    },
    "executionInfo": {
     "elapsed": 1652,
     "status": "ok",
     "timestamp": 1611199979754,
     "user": {
      "displayName": "Regita Putri Permata",
      "photoUrl": "https://lh3.googleusercontent.com/a-/AOh14GhzCd6_zvyWLaD1iQrW_1w5U86jNHEOuOhIPMVgUR0=s64",
      "userId": "07807283448997122753"
     },
     "user_tz": -420
    },
    "id": "zMcKx63f_454",
    "outputId": "8871290f-ca22-4ab0-ed9f-bfa6a65c8397"
   },
   "outputs": [
    {
     "name": "stdout",
     "output_type": "stream",
     "text": [
      "AxesSubplot(0.125,0.125;0.775x0.755)\n"
     ]
    },
    {
     "data": {
      "image/png": "[encoded data removed]",
      "text/plain": [
       "<Figure size 720x720 with 1 Axes>"
      ]
     },
     "metadata": {
      "needs_background": "light",
      "tags": []
     },
     "output_type": "display_data"
    }
   ],
   "source": [
    "import seaborn as sns\n",
    "plt.figure(figsize=(10, 10))\n",
    "OS = sns.boxplot(x=\"team\", y=\"salary\", data=df_NBA)\n",
    "print(OS)"
   ]
  },
  {
   "cell_type": "code",
   "execution_count": 42,
   "metadata": {
    "colab": {
     "base_uri": "https://localhost:8080/",
     "height": 633
    },
    "executionInfo": {
     "elapsed": 1271,
     "status": "ok",
     "timestamp": 1611200111426,
     "user": {
      "displayName": "Regita Putri Permata",
      "photoUrl": "https://lh3.googleusercontent.com/a-/AOh14GhzCd6_zvyWLaD1iQrW_1w5U86jNHEOuOhIPMVgUR0=s64",
      "userId": "07807283448997122753"
     },
     "user_tz": -420
    },
    "id": "oU8egVtsAPrC",
    "outputId": "1f37c78c-1f50-4106-9160-2a3095182a73"
   },
   "outputs": [
    {
     "name": "stdout",
     "output_type": "stream",
     "text": [
      "AxesSubplot(0.125,0.125;0.775x0.755)\n"
     ]
    },
    {
     "data": {
      "image/png": "[encoded data removed]",
      "text/plain": [
       "<Figure size 720x720 with 1 Axes>"
      ]
     },
     "metadata": {
      "needs_background": "light",
      "tags": []
     },
     "output_type": "display_data"
    }
   ],
   "source": [
    "#boxplot dengan rata2 salary 3 team tertinggi\n",
    "list_team = ['CLE','OKC','GSW']\n",
    "filter_3_team= df_NBA[df_NBA['team'].isin(list_team)]\n",
    "plt.figure(figsize=(10, 10))\n",
    "OS1 = sns.boxplot(x=\"team\", y=\"salary\", data=filter_3_team)\n",
    "print(OS1)"
   ]
  },
  {
   "cell_type": "code",
   "execution_count": 35,
   "metadata": {
    "colab": {
     "base_uri": "https://localhost:8080/"
    },
    "executionInfo": {
     "elapsed": 1383,
     "status": "ok",
     "timestamp": 1611199811271,
     "user": {
      "displayName": "Regita Putri Permata",
      "photoUrl": "https://lh3.googleusercontent.com/a-/AOh14GhzCd6_zvyWLaD1iQrW_1w5U86jNHEOuOhIPMVgUR0=s64",
      "userId": "07807283448997122753"
     },
     "user_tz": -420
    },
    "id": "V7S4YCrd8UCn",
    "outputId": "27777abf-a424-495b-d07c-d82e0c6df042"
   },
   "outputs": [
    {
     "name": "stdout",
     "output_type": "stream",
     "text": [
      "standar deviation is 10163157.541681465\n",
      "sample size is 3.7416573867739413\n",
      "margin error is 5323787.4884291645\n",
      "CI 95% from salary of CLE between 535158.3981327899,11182733.374991119\n"
     ]
    }
   ],
   "source": [
    "#Berapakah 95% Confidence Interval dari rata-rata salary yang kategori 3 kategori tertinggi?\n",
    "#filter dulu berdasarkan team dengan salary tertinggi\n",
    "team_cle = df_NBA[df_NBA['team']=='CLE']\n",
    "#standar deviation\n",
    "std = team_cle.salary.std()\n",
    "print ('standar deviation is '+ str(std))\n",
    "#sample size\n",
    "n = np.sqrt(len(team_cle))\n",
    "print ('sample size is '+ str(n))\n",
    "# margin error\n",
    "e = 1.96*(std/n)\n",
    "print ('margin error is '+ str(e))\n",
    "#Confidence Interval\n",
    "print ('CI 95% from salary of CLE between ' + str(mean_salary-e) +','+ str(mean_salary+e))"
   ]
  },
  {
   "cell_type": "markdown",
   "metadata": {
    "id": "RSGKuYmc3Ucp",
    "pycharm": {}
   },
   "source": [
    "## P-Value to  2 std"
   ]
  },
  {
   "cell_type": "code",
   "execution_count": 44,
   "metadata": {
    "colab": {
     "base_uri": "https://localhost:8080/"
    },
    "executionInfo": {
     "elapsed": 1169,
     "status": "ok",
     "timestamp": 1611200355070,
     "user": {
      "displayName": "Regita Putri Permata",
      "photoUrl": "https://lh3.googleusercontent.com/a-/AOh14GhzCd6_zvyWLaD1iQrW_1w5U86jNHEOuOhIPMVgUR0=s64",
      "userId": "07807283448997122753"
     },
     "user_tz": -420
    },
    "id": "rN3MLu-43Ucp",
    "outputId": "83a22b23-90bc-4653-8f95-5229875331cf",
    "pycharm": {}
   },
   "outputs": [
    {
     "data": {
      "text/plain": [
       "0.04550026389635878"
      ]
     },
     "execution_count": 44,
     "metadata": {
      "tags": []
     },
     "output_type": "execute_result"
    }
   ],
   "source": [
    "norm_mean = df_NBA.norm_log_salary.mean()\n",
    "norm_std = df_NBA.norm_log_salary.std()\n",
    "\n",
    "p_value = st.norm(norm_mean, norm_std).sf(2*norm_std) * 2 #to sides\n",
    "p_value\n",
    "#p-value kurang dari 0,05 sehingga berada diluar area distribusi normal.\n"
   ]
  },
  {
   "cell_type": "markdown",
   "metadata": {
    "id": "qxPgVIjZ3Ucq",
    "pycharm": {}
   },
   "source": [
    "## Calculating z-score"
   ]
  },
  {
   "cell_type": "code",
   "execution_count": null,
   "metadata": {
    "id": "MhieDC3F3Ucq",
    "outputId": "0f5066c8-f356-4af8-f06a-ab82cdc911b0",
    "pycharm": {}
   },
   "outputs": [
    {
     "name": "stdout",
     "output_type": "stream",
     "text": [
      "-1.9600 <--------> 1.9600\n"
     ]
    }
   ],
   "source": [
    "z_score_inf = st.norm.interval(alpha=0.95, loc=norm_mean, scale=norm_std)[0]\n",
    "z_score_sup = st.norm.interval(alpha=0.95, loc=norm_mean, scale=norm_std)[1]\n",
    "\n",
    "print(f'{z_score_inf:.4f} <--------> {z_score_sup:.4f}')\n"
   ]
  },
  {
   "cell_type": "markdown",
   "metadata": {
    "id": "u6Yy8tH13Ucq",
    "pycharm": {}
   },
   "source": [
    "__With the Alpha limits of 0.95 we can run the inference and find out which players are earning above or below average with a 95% confidence level.__"
   ]
  },
  {
   "cell_type": "markdown",
   "metadata": {
    "id": "AkVPbDcy3Ucr",
    "pycharm": {}
   },
   "source": [
    "---"
   ]
  },
  {
   "cell_type": "markdown",
   "metadata": {
    "id": "5yRs5byu3Ucs",
    "pycharm": {}
   },
   "source": [
    "## Hypothesis:\n",
    "Pada musim 2017-2018 apakah ada pemain NBA yang memiliki gaji **tinggi** atau **rendah** daripada rata-rata?"
   ]
  },
  {
   "cell_type": "markdown",
   "metadata": {
    "id": "ZQ-BrfQQ3Ucs"
   },
   "source": [
    "---\n",
    "### __Lower than the average__\n"
   ]
  },
  {
   "cell_type": "code",
   "execution_count": null,
   "metadata": {
    "id": "hCmRvEGf3Uct",
    "outputId": "deba3567-872d-4ffc-ebe7-70873d34deda",
    "pycharm": {},
    "scrolled": false
   },
   "outputs": [
    {
     "data": {
      "text/html": [
       "<div>\n",
       "<style scoped>\n",
       "    .dataframe tbody tr th:only-of-type {\n",
       "        vertical-align: middle;\n",
       "    }\n",
       "\n",
       "    .dataframe tbody tr th {\n",
       "        vertical-align: top;\n",
       "    }\n",
       "\n",
       "    .dataframe thead th {\n",
       "        text-align: right;\n",
       "    }\n",
       "</style>\n",
       "<table border=\"1\" class=\"dataframe\">\n",
       "  <thead>\n",
       "    <tr style=\"text-align: right;\">\n",
       "      <th></th>\n",
       "      <th>player</th>\n",
       "      <th>team</th>\n",
       "      <th>salary</th>\n",
       "      <th>salary_log</th>\n",
       "      <th>norm_log_salary</th>\n",
       "    </tr>\n",
       "  </thead>\n",
       "  <tbody>\n",
       "    <tr>\n",
       "      <th>528</th>\n",
       "      <td>Demetrius Jackson</td>\n",
       "      <td>HOU</td>\n",
       "      <td>74159.0</td>\n",
       "      <td>11.213980</td>\n",
       "      <td>-1.988587</td>\n",
       "    </tr>\n",
       "    <tr>\n",
       "      <th>529</th>\n",
       "      <td>Georgios Papagiannis</td>\n",
       "      <td>POR</td>\n",
       "      <td>74159.0</td>\n",
       "      <td>11.213980</td>\n",
       "      <td>-1.988587</td>\n",
       "    </tr>\n",
       "    <tr>\n",
       "      <th>530</th>\n",
       "      <td>Larry Drew</td>\n",
       "      <td>NOP</td>\n",
       "      <td>74159.0</td>\n",
       "      <td>11.213980</td>\n",
       "      <td>-1.988587</td>\n",
       "    </tr>\n",
       "    <tr>\n",
       "      <th>531</th>\n",
       "      <td>Scotty Hopson</td>\n",
       "      <td>DAL</td>\n",
       "      <td>74159.0</td>\n",
       "      <td>11.213980</td>\n",
       "      <td>-1.988587</td>\n",
       "    </tr>\n",
       "    <tr>\n",
       "      <th>532</th>\n",
       "      <td>Isaiah Canaan</td>\n",
       "      <td>HOU</td>\n",
       "      <td>53465.0</td>\n",
       "      <td>10.886801</td>\n",
       "      <td>-2.179385</td>\n",
       "    </tr>\n",
       "    <tr>\n",
       "      <th>533</th>\n",
       "      <td>Tyler Cavanaugh</td>\n",
       "      <td>ATL</td>\n",
       "      <td>50000.0</td>\n",
       "      <td>10.819798</td>\n",
       "      <td>-2.218459</td>\n",
       "    </tr>\n",
       "    <tr>\n",
       "      <th>534</th>\n",
       "      <td>Kyle Collinsworth</td>\n",
       "      <td>DAL</td>\n",
       "      <td>50000.0</td>\n",
       "      <td>10.819798</td>\n",
       "      <td>-2.218459</td>\n",
       "    </tr>\n",
       "    <tr>\n",
       "      <th>535</th>\n",
       "      <td>Demetrius Jackson</td>\n",
       "      <td>HOU</td>\n",
       "      <td>50000.0</td>\n",
       "      <td>10.819798</td>\n",
       "      <td>-2.218459</td>\n",
       "    </tr>\n",
       "    <tr>\n",
       "      <th>536</th>\n",
       "      <td>Daniel Ochefu</td>\n",
       "      <td>WAS</td>\n",
       "      <td>50000.0</td>\n",
       "      <td>10.819798</td>\n",
       "      <td>-2.218459</td>\n",
       "    </tr>\n",
       "    <tr>\n",
       "      <th>537</th>\n",
       "      <td>Michael Young</td>\n",
       "      <td>WAS</td>\n",
       "      <td>50000.0</td>\n",
       "      <td>10.819798</td>\n",
       "      <td>-2.218459</td>\n",
       "    </tr>\n",
       "    <tr>\n",
       "      <th>538</th>\n",
       "      <td>Nate Wolters</td>\n",
       "      <td>UTA</td>\n",
       "      <td>50000.0</td>\n",
       "      <td>10.819798</td>\n",
       "      <td>-2.218459</td>\n",
       "    </tr>\n",
       "    <tr>\n",
       "      <th>539</th>\n",
       "      <td>Naz Mitrou-Long</td>\n",
       "      <td>UTA</td>\n",
       "      <td>50000.0</td>\n",
       "      <td>10.819798</td>\n",
       "      <td>-2.218459</td>\n",
       "    </tr>\n",
       "    <tr>\n",
       "      <th>540</th>\n",
       "      <td>Eric Griffin</td>\n",
       "      <td>UTA</td>\n",
       "      <td>50000.0</td>\n",
       "      <td>10.819798</td>\n",
       "      <td>-2.218459</td>\n",
       "    </tr>\n",
       "    <tr>\n",
       "      <th>541</th>\n",
       "      <td>Jacob Pullen</td>\n",
       "      <td>PHI</td>\n",
       "      <td>50000.0</td>\n",
       "      <td>10.819798</td>\n",
       "      <td>-2.218459</td>\n",
       "    </tr>\n",
       "    <tr>\n",
       "      <th>542</th>\n",
       "      <td>James Michael McAdoo</td>\n",
       "      <td>PHI</td>\n",
       "      <td>50000.0</td>\n",
       "      <td>10.819798</td>\n",
       "      <td>-2.218459</td>\n",
       "    </tr>\n",
       "    <tr>\n",
       "      <th>543</th>\n",
       "      <td>Nigel Hayes</td>\n",
       "      <td>NYK</td>\n",
       "      <td>50000.0</td>\n",
       "      <td>10.819798</td>\n",
       "      <td>-2.218459</td>\n",
       "    </tr>\n",
       "    <tr>\n",
       "      <th>544</th>\n",
       "      <td>Jalen Moore</td>\n",
       "      <td>MIL</td>\n",
       "      <td>50000.0</td>\n",
       "      <td>10.819798</td>\n",
       "      <td>-2.218459</td>\n",
       "    </tr>\n",
       "    <tr>\n",
       "      <th>545</th>\n",
       "      <td>Gary Payton</td>\n",
       "      <td>MIL</td>\n",
       "      <td>50000.0</td>\n",
       "      <td>10.819798</td>\n",
       "      <td>-2.218459</td>\n",
       "    </tr>\n",
       "    <tr>\n",
       "      <th>546</th>\n",
       "      <td>Matt Williams</td>\n",
       "      <td>MIA</td>\n",
       "      <td>50000.0</td>\n",
       "      <td>10.819798</td>\n",
       "      <td>-2.218459</td>\n",
       "    </tr>\n",
       "    <tr>\n",
       "      <th>547</th>\n",
       "      <td>Vince Hunter</td>\n",
       "      <td>MEM</td>\n",
       "      <td>50000.0</td>\n",
       "      <td>10.819798</td>\n",
       "      <td>-2.218459</td>\n",
       "    </tr>\n",
       "    <tr>\n",
       "      <th>548</th>\n",
       "      <td>Vander Blue</td>\n",
       "      <td>LAL</td>\n",
       "      <td>50000.0</td>\n",
       "      <td>10.819798</td>\n",
       "      <td>-2.218459</td>\n",
       "    </tr>\n",
       "    <tr>\n",
       "      <th>549</th>\n",
       "      <td>V.J. Beachem</td>\n",
       "      <td>LAL</td>\n",
       "      <td>50000.0</td>\n",
       "      <td>10.819798</td>\n",
       "      <td>-2.218459</td>\n",
       "    </tr>\n",
       "    <tr>\n",
       "      <th>550</th>\n",
       "      <td>Briante Weber</td>\n",
       "      <td>LAL</td>\n",
       "      <td>50000.0</td>\n",
       "      <td>10.819798</td>\n",
       "      <td>-2.218459</td>\n",
       "    </tr>\n",
       "    <tr>\n",
       "      <th>551</th>\n",
       "      <td>Jamil Wilson</td>\n",
       "      <td>LAC</td>\n",
       "      <td>50000.0</td>\n",
       "      <td>10.819798</td>\n",
       "      <td>-2.218459</td>\n",
       "    </tr>\n",
       "    <tr>\n",
       "      <th>552</th>\n",
       "      <td>Briante Weber</td>\n",
       "      <td>HOU</td>\n",
       "      <td>50000.0</td>\n",
       "      <td>10.819798</td>\n",
       "      <td>-2.218459</td>\n",
       "    </tr>\n",
       "    <tr>\n",
       "      <th>553</th>\n",
       "      <td>Luis Montero</td>\n",
       "      <td>DET</td>\n",
       "      <td>50000.0</td>\n",
       "      <td>10.819798</td>\n",
       "      <td>-2.218459</td>\n",
       "    </tr>\n",
       "    <tr>\n",
       "      <th>554</th>\n",
       "      <td>Gian Clavell</td>\n",
       "      <td>DAL</td>\n",
       "      <td>50000.0</td>\n",
       "      <td>10.819798</td>\n",
       "      <td>-2.218459</td>\n",
       "    </tr>\n",
       "    <tr>\n",
       "      <th>555</th>\n",
       "      <td>Antonius Cleveland</td>\n",
       "      <td>DAL</td>\n",
       "      <td>50000.0</td>\n",
       "      <td>10.819798</td>\n",
       "      <td>-2.218459</td>\n",
       "    </tr>\n",
       "    <tr>\n",
       "      <th>556</th>\n",
       "      <td>Diamond Stone</td>\n",
       "      <td>CHI</td>\n",
       "      <td>50000.0</td>\n",
       "      <td>10.819798</td>\n",
       "      <td>-2.218459</td>\n",
       "    </tr>\n",
       "    <tr>\n",
       "      <th>557</th>\n",
       "      <td>Yakuba Ouattara</td>\n",
       "      <td>BRK</td>\n",
       "      <td>50000.0</td>\n",
       "      <td>10.819798</td>\n",
       "      <td>-2.218459</td>\n",
       "    </tr>\n",
       "    <tr>\n",
       "      <th>558</th>\n",
       "      <td>Jeremy Evans</td>\n",
       "      <td>ATL</td>\n",
       "      <td>50000.0</td>\n",
       "      <td>10.819798</td>\n",
       "      <td>-2.218459</td>\n",
       "    </tr>\n",
       "    <tr>\n",
       "      <th>559</th>\n",
       "      <td>Nigel Hayes</td>\n",
       "      <td>LAL</td>\n",
       "      <td>46080.0</td>\n",
       "      <td>10.738156</td>\n",
       "      <td>-2.266070</td>\n",
       "    </tr>\n",
       "    <tr>\n",
       "      <th>560</th>\n",
       "      <td>Nigel Hayes</td>\n",
       "      <td>TOR</td>\n",
       "      <td>46080.0</td>\n",
       "      <td>10.738156</td>\n",
       "      <td>-2.266070</td>\n",
       "    </tr>\n",
       "    <tr>\n",
       "      <th>561</th>\n",
       "      <td>Rodney Purvis</td>\n",
       "      <td>ORL</td>\n",
       "      <td>46080.0</td>\n",
       "      <td>10.738156</td>\n",
       "      <td>-2.266070</td>\n",
       "    </tr>\n",
       "    <tr>\n",
       "      <th>562</th>\n",
       "      <td>Xavier Rathan-Mayes</td>\n",
       "      <td>MEM</td>\n",
       "      <td>46080.0</td>\n",
       "      <td>10.738156</td>\n",
       "      <td>-2.266070</td>\n",
       "    </tr>\n",
       "    <tr>\n",
       "      <th>563</th>\n",
       "      <td>Trey McKinney-Jones</td>\n",
       "      <td>IND</td>\n",
       "      <td>46080.0</td>\n",
       "      <td>10.738156</td>\n",
       "      <td>-2.266070</td>\n",
       "    </tr>\n",
       "    <tr>\n",
       "      <th>564</th>\n",
       "      <td>Jameel Warney</td>\n",
       "      <td>DAL</td>\n",
       "      <td>46080.0</td>\n",
       "      <td>10.738156</td>\n",
       "      <td>-2.266070</td>\n",
       "    </tr>\n",
       "    <tr>\n",
       "      <th>565</th>\n",
       "      <td>Marcus Thornton</td>\n",
       "      <td>CLE</td>\n",
       "      <td>46080.0</td>\n",
       "      <td>10.738156</td>\n",
       "      <td>-2.266070</td>\n",
       "    </tr>\n",
       "    <tr>\n",
       "      <th>566</th>\n",
       "      <td>DeAndre Liggins</td>\n",
       "      <td>ATL</td>\n",
       "      <td>26773.0</td>\n",
       "      <td>10.195187</td>\n",
       "      <td>-2.582709</td>\n",
       "    </tr>\n",
       "    <tr>\n",
       "      <th>567</th>\n",
       "      <td>Axel Toupane</td>\n",
       "      <td>NOP</td>\n",
       "      <td>25000.0</td>\n",
       "      <td>10.126671</td>\n",
       "      <td>-2.622664</td>\n",
       "    </tr>\n",
       "    <tr>\n",
       "      <th>568</th>\n",
       "      <td>Quinn Cook</td>\n",
       "      <td>NOP</td>\n",
       "      <td>25000.0</td>\n",
       "      <td>10.126671</td>\n",
       "      <td>-2.622664</td>\n",
       "    </tr>\n",
       "    <tr>\n",
       "      <th>569</th>\n",
       "      <td>Chris Johnson</td>\n",
       "      <td>HOU</td>\n",
       "      <td>25000.0</td>\n",
       "      <td>10.126671</td>\n",
       "      <td>-2.622664</td>\n",
       "    </tr>\n",
       "    <tr>\n",
       "      <th>570</th>\n",
       "      <td>Beno Udrih</td>\n",
       "      <td>DET</td>\n",
       "      <td>25000.0</td>\n",
       "      <td>10.126671</td>\n",
       "      <td>-2.622664</td>\n",
       "    </tr>\n",
       "    <tr>\n",
       "      <th>571</th>\n",
       "      <td>Joel Bolomboy</td>\n",
       "      <td>MIL</td>\n",
       "      <td>22248.0</td>\n",
       "      <td>10.010052</td>\n",
       "      <td>-2.690672</td>\n",
       "    </tr>\n",
       "    <tr>\n",
       "      <th>572</th>\n",
       "      <td>Jarell Eddie</td>\n",
       "      <td>CHI</td>\n",
       "      <td>17224.0</td>\n",
       "      <td>9.754117</td>\n",
       "      <td>-2.839924</td>\n",
       "    </tr>\n",
       "  </tbody>\n",
       "</table>\n",
       "</div>"
      ],
      "text/plain": [
       "                   player team       ...         salary_log  norm_log_salary\n",
       "528     Demetrius Jackson  HOU       ...          11.213980        -1.988587\n",
       "529  Georgios Papagiannis  POR       ...          11.213980        -1.988587\n",
       "530            Larry Drew  NOP       ...          11.213980        -1.988587\n",
       "531         Scotty Hopson  DAL       ...          11.213980        -1.988587\n",
       "532         Isaiah Canaan  HOU       ...          10.886801        -2.179385\n",
       "533       Tyler Cavanaugh  ATL       ...          10.819798        -2.218459\n",
       "534     Kyle Collinsworth  DAL       ...          10.819798        -2.218459\n",
       "535     Demetrius Jackson  HOU       ...          10.819798        -2.218459\n",
       "536         Daniel Ochefu  WAS       ...          10.819798        -2.218459\n",
       "537         Michael Young  WAS       ...          10.819798        -2.218459\n",
       "538          Nate Wolters  UTA       ...          10.819798        -2.218459\n",
       "539       Naz Mitrou-Long  UTA       ...          10.819798        -2.218459\n",
       "540          Eric Griffin  UTA       ...          10.819798        -2.218459\n",
       "541          Jacob Pullen  PHI       ...          10.819798        -2.218459\n",
       "542  James Michael McAdoo  PHI       ...          10.819798        -2.218459\n",
       "543           Nigel Hayes  NYK       ...          10.819798        -2.218459\n",
       "544           Jalen Moore  MIL       ...          10.819798        -2.218459\n",
       "545           Gary Payton  MIL       ...          10.819798        -2.218459\n",
       "546         Matt Williams  MIA       ...          10.819798        -2.218459\n",
       "547          Vince Hunter  MEM       ...          10.819798        -2.218459\n",
       "548           Vander Blue  LAL       ...          10.819798        -2.218459\n",
       "549          V.J. Beachem  LAL       ...          10.819798        -2.218459\n",
       "550         Briante Weber  LAL       ...          10.819798        -2.218459\n",
       "551          Jamil Wilson  LAC       ...          10.819798        -2.218459\n",
       "552         Briante Weber  HOU       ...          10.819798        -2.218459\n",
       "553          Luis Montero  DET       ...          10.819798        -2.218459\n",
       "554          Gian Clavell  DAL       ...          10.819798        -2.218459\n",
       "555    Antonius Cleveland  DAL       ...          10.819798        -2.218459\n",
       "556         Diamond Stone  CHI       ...          10.819798        -2.218459\n",
       "557       Yakuba Ouattara  BRK       ...          10.819798        -2.218459\n",
       "558          Jeremy Evans  ATL       ...          10.819798        -2.218459\n",
       "559           Nigel Hayes  LAL       ...          10.738156        -2.266070\n",
       "560           Nigel Hayes  TOR       ...          10.738156        -2.266070\n",
       "561         Rodney Purvis  ORL       ...          10.738156        -2.266070\n",
       "562   Xavier Rathan-Mayes  MEM       ...          10.738156        -2.266070\n",
       "563   Trey McKinney-Jones  IND       ...          10.738156        -2.266070\n",
       "564         Jameel Warney  DAL       ...          10.738156        -2.266070\n",
       "565       Marcus Thornton  CLE       ...          10.738156        -2.266070\n",
       "566       DeAndre Liggins  ATL       ...          10.195187        -2.582709\n",
       "567          Axel Toupane  NOP       ...          10.126671        -2.622664\n",
       "568            Quinn Cook  NOP       ...          10.126671        -2.622664\n",
       "569         Chris Johnson  HOU       ...          10.126671        -2.622664\n",
       "570            Beno Udrih  DET       ...          10.126671        -2.622664\n",
       "571         Joel Bolomboy  MIL       ...          10.010052        -2.690672\n",
       "572          Jarell Eddie  CHI       ...           9.754117        -2.839924\n",
       "\n",
       "[45 rows x 5 columns]"
      ]
     },
     "execution_count": 13,
     "metadata": {
      "tags": []
     },
     "output_type": "execute_result"
    }
   ],
   "source": [
    "#Players\n",
    "df_NBA_lower = df_NBA[df_NBA['norm_log_salary'] < z_score_inf]\n",
    "df_NBA_lower\n"
   ]
  },
  {
   "cell_type": "code",
   "execution_count": null,
   "metadata": {
    "id": "SYNOi0ms3Ucv",
    "outputId": "c8b18df2-5c76-45ac-f240-3208ae4ab606"
   },
   "outputs": [
    {
     "data": {
      "text/plain": [
       "DAL    5\n",
       "HOU    5\n",
       "LAL    4\n",
       "ATL    3\n",
       "MIL    3\n",
       "NOP    3\n",
       "UTA    3\n",
       "CHI    2\n",
       "DET    2\n",
       "PHI    2\n",
       "MEM    2\n",
       "WAS    2\n",
       "POR    1\n",
       "NYK    1\n",
       "MIA    1\n",
       "CLE    1\n",
       "BRK    1\n",
       "IND    1\n",
       "ORL    1\n",
       "TOR    1\n",
       "LAC    1\n",
       "Name: team, dtype: int64"
      ]
     },
     "execution_count": 14,
     "metadata": {
      "tags": []
     },
     "output_type": "execute_result"
    }
   ],
   "source": [
    "#Players by team\n",
    "team_index = df_NBA_lower['team'].value_counts()\n",
    "team_index\n"
   ]
  },
  {
   "cell_type": "code",
   "execution_count": null,
   "metadata": {
    "id": "sZi_DaKL3Ucw",
    "outputId": "2118505c-2671-4ae6-ce8c-c08b1313868a",
    "pycharm": {
     "metadata": false
    }
   },
   "outputs": [
    {
     "data": {
      "text/plain": [
       "<matplotlib.axes._subplots.AxesSubplot at 0x7fd5f2d47208>"
      ]
     },
     "execution_count": 15,
     "metadata": {
      "tags": []
     },
     "output_type": "execute_result"
    },
    {
     "data": {
      "image/png": "[encoded data removed]",
      "text/plain": [
       "<Figure size 864x360 with 1 Axes>"
      ]
     },
     "metadata": {
      "tags": []
     },
     "output_type": "display_data"
    }
   ],
   "source": [
    "#Plot players by team\n",
    "plt.figure(figsize=(12, 5))\n",
    "sns.countplot(df_NBA_lower['team'],\n",
    "              order=team_index.index,\n",
    "              palette='Blues_r')\n"
   ]
  },
  {
   "cell_type": "code",
   "execution_count": null,
   "metadata": {
    "id": "B_FEuHTE3Ucw",
    "outputId": "2062a7b9-6285-462b-f602-223e3083427e"
   },
   "outputs": [
    {
     "name": "stdout",
     "output_type": "stream",
     "text": [
      "Players with a lower salary than the average: \n",
      "Total - 45\n",
      "Rate - 7.85%\n"
     ]
    }
   ],
   "source": [
    "print(f\"\"\"Players with a lower salary than the average: \n",
    "Total - {df_NBA_lower.shape[0]}\n",
    "Rate - {df_NBA_lower.shape[0] / df_NBA.shape[0] * 100:.2f}%\"\"\")\n"
   ]
  },
  {
   "cell_type": "markdown",
   "metadata": {
    "id": "eQ9hZc4G3Ucx"
   },
   "source": [
    "Berdasarkan Dataset itu kita dapat menegaskan dengan kepastian 95% bahwa saat ini ada __45 players__ berpenghasilan kurang dari gaji rata-rata. Ini mewakili total __7.85%__.\n",
    "Jadi: **Gagal menolak H0**\n",
    "\n",
    "---"
   ]
  },
  {
   "cell_type": "markdown",
   "metadata": {
    "id": "rHHRNxVo3Ucx"
   },
   "source": [
    "### __Higher than the average__\n"
   ]
  },
  {
   "cell_type": "code",
   "execution_count": null,
   "metadata": {
    "id": "_WdXeGxy3Ucx",
    "outputId": "182851eb-1abc-4129-d9f5-f2fbb9f08063"
   },
   "outputs": [
    {
     "data": {
      "text/html": [
       "<div>\n",
       "<style scoped>\n",
       "    .dataframe tbody tr th:only-of-type {\n",
       "        vertical-align: middle;\n",
       "    }\n",
       "\n",
       "    .dataframe tbody tr th {\n",
       "        vertical-align: top;\n",
       "    }\n",
       "\n",
       "    .dataframe thead th {\n",
       "        text-align: right;\n",
       "    }\n",
       "</style>\n",
       "<table border=\"1\" class=\"dataframe\">\n",
       "  <thead>\n",
       "    <tr style=\"text-align: right;\">\n",
       "      <th></th>\n",
       "      <th>player</th>\n",
       "      <th>team</th>\n",
       "      <th>salary</th>\n",
       "      <th>salary_log</th>\n",
       "      <th>norm_log_salary</th>\n",
       "    </tr>\n",
       "  </thead>\n",
       "  <tbody>\n",
       "  </tbody>\n",
       "</table>\n",
       "</div>"
      ],
      "text/plain": [
       "Empty DataFrame\n",
       "Columns: [player, team, salary, salary_log, norm_log_salary]\n",
       "Index: []"
      ]
     },
     "execution_count": 17,
     "metadata": {
      "tags": []
     },
     "output_type": "execute_result"
    }
   ],
   "source": [
    "#Players\n",
    "df_NBA_higher = df_NBA[df_NBA['norm_log_salary'] > z_score_sup]\n",
    "df_NBA_higher\n"
   ]
  },
  {
   "cell_type": "code",
   "execution_count": null,
   "metadata": {
    "id": "uBEnB7753Ucy",
    "outputId": "1a1a85a9-3348-4115-9653-f95c8f8d59a7",
    "scrolled": true
   },
   "outputs": [
    {
     "name": "stdout",
     "output_type": "stream",
     "text": [
      "Players with a higher salary than the average: \n",
      "Total - 0\n",
      "Rate - 0.00%\n"
     ]
    }
   ],
   "source": [
    "print(f\"\"\"Players with a higher salary than the average: \n",
    "Total - {df_NBA_higher.shape[0]}\n",
    "Rate - {df_NBA_higher.shape[0] / df_NBA.shape[0] * 100:.2f}%\"\"\")\n"
   ]
  },
  {
   "cell_type": "code",
   "execution_count": null,
   "metadata": {
    "id": "njiTn8xj3Ucy",
    "outputId": "4cf765bb-64ee-4fe0-8491-4a3668470add"
   },
   "outputs": [
    {
     "name": "stdout",
     "output_type": "stream",
     "text": [
      "P-value: 0.055\n",
      "Alpha Max: 0.945\n",
      "We can confirm that the highest salary is on the distribution!\n"
     ]
    }
   ],
   "source": [
    "#p-value and alpha max to the highest salary\n",
    "p_value = st.norm(norm_mean, norm_std).sf(df_NBA['norm_log_salary'].max())\n",
    "alpha = 1 - p_value\n",
    "print(f'P-value: {p_value:.3f}\\nAlpha Max: {alpha:.3f}\\nWe can confirm that the highest salary is on the distribution!')\n"
   ]
  },
  {
   "cell_type": "markdown",
   "metadata": {
    "id": "l20c6t8d3Ucz"
   },
   "source": [
    "Based on that Dataset we can affirm with 95% certainty that currently there are __no__ players earning higher than the average salary. The highest salary is on the average distribution. Therefore: **Reject H0**"
   ]
  },
  {
   "cell_type": "code",
   "execution_count": 46,
   "metadata": {
    "colab": {
     "base_uri": "https://localhost:8080/"
    },
    "executionInfo": {
     "elapsed": 661,
     "status": "ok",
     "timestamp": 1611201677132,
     "user": {
      "displayName": "Regita Putri Permata",
      "photoUrl": "https://lh3.googleusercontent.com/a-/AOh14GhzCd6_zvyWLaD1iQrW_1w5U86jNHEOuOhIPMVgUR0=s64",
      "userId": "07807283448997122753"
     },
     "user_tz": -420
    },
    "id": "gfjNKG0DFtrc",
    "outputId": "589b2c58-5855-4bca-f10f-0498a3320ad8"
   },
   "outputs": [
    {
     "name": "stdout",
     "output_type": "stream",
     "text": [
      "cle mean value: 9806324.92857143\n",
      "gsw mean value: 8593427.8125\n",
      "cle std value: 9793463.657757653\n",
      "gsw std value: 9912966.478798136\n",
      "p-value 0.7477309462545472\n",
      "we accept null hypothesis\n"
     ]
    }
   ],
   "source": [
    "#melakukan uji t-test 2 sampel. antara team CLE dan Team GSW\n",
    "from scipy.stats import ttest_ind\n",
    "import numpy as np\n",
    "team_cle = df_NBA[df_NBA['team']=='CLE']['salary']\n",
    "team_gsw=df_NBA[df_NBA['team']=='GSW']['salary']\n",
    "cle_mean = np.mean(team_cle)\n",
    "gsw_mean = np.mean(team_gsw)\n",
    "print(\"cle mean value:\",cle_mean)\n",
    "print(\"gsw mean value:\",gsw_mean)\n",
    "cle_std = np.std(team_cle)\n",
    "gsw_std = np.std(team_gsw)\n",
    "print(\"cle std value:\",cle_std)\n",
    "print(\"gsw std value:\",gsw_std)\n",
    "ttest,pval = ttest_ind(team_cle,team_gsw)\n",
    "print(\"p-value\",pval)\n",
    "if pval <0.05:\n",
    "  print(\"we reject null hypothesis\")\n",
    "else:\n",
    "  print(\"we accept null hypothesis\")"
   ]
  },
  {
   "cell_type": "markdown",
   "metadata": {
    "id": "SwiQkR0WGrgm"
   },
   "source": [
    "dengan gagal tolak H0 artinya tidak ada perbedaan antara rata-rata gaji team CLE dan teamn GSW"
   ]
  }
 ],
 "metadata": {
  "colab": {
   "name": "inferential-statistics.ipynb",
   "provenance": []
  },
  "kernelspec": {
   "display_name": "Python 3",
   "language": "python",
   "name": "python3"
  },
  "language_info": {
   "codemirror_mode": {
    "name": "ipython",
    "version": 3
   },
   "file_extension": ".py",
   "mimetype": "text/x-python",
   "name": "python",
   "nbconvert_exporter": "python",
   "pygments_lexer": "ipython3",
   "version": "3.8.5"
  }
 },
 "nbformat": 4,
 "nbformat_minor": 1
}
