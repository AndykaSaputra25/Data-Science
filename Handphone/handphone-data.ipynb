{
 "cells": [
  {
   "cell_type": "code",
   "execution_count": 2,
   "metadata": {},
   "outputs": [],
   "source": [
    "import pandas as pd\n",
    "import numpy as np\n",
    "import seaborn as sns\n",
    "import matplotlib.pyplot as plt\n",
    "%matplotlib inline\n",
    "\n",
    "from sklearn.preprocessing import StandardScaler\n",
    "from sklearn.decomposition import PCA\n",
    "from sklearn import decomposition"
   ]
  },
  {
   "cell_type": "code",
   "execution_count": 3,
   "metadata": {},
   "outputs": [
    {
     "data": {
      "text/html": [
       "<div>\n",
       "<style scoped>\n",
       "    .dataframe tbody tr th:only-of-type {\n",
       "        vertical-align: middle;\n",
       "    }\n",
       "\n",
       "    .dataframe tbody tr th {\n",
       "        vertical-align: top;\n",
       "    }\n",
       "\n",
       "    .dataframe thead th {\n",
       "        text-align: right;\n",
       "    }\n",
       "</style>\n",
       "<table border=\"1\" class=\"dataframe\">\n",
       "  <thead>\n",
       "    <tr style=\"text-align: right;\">\n",
       "      <th></th>\n",
       "      <th>date</th>\n",
       "      <th>sku_name</th>\n",
       "      <th>product_id</th>\n",
       "      <th>merchant_code</th>\n",
       "      <th>merchant_badge</th>\n",
       "      <th>product_type</th>\n",
       "      <th>merchant_city</th>\n",
       "      <th>cod</th>\n",
       "      <th>price</th>\n",
       "      <th>stock</th>\n",
       "      <th>daily_gmv</th>\n",
       "      <th>daily_sold</th>\n",
       "      <th>daily_view</th>\n",
       "      <th>rating</th>\n",
       "      <th>total_review</th>\n",
       "      <th>total_sold</th>\n",
       "    </tr>\n",
       "  </thead>\n",
       "  <tbody>\n",
       "    <tr>\n",
       "      <th>0</th>\n",
       "      <td>3/11/2020</td>\n",
       "      <td>HUAWEI NOVA 5T RAM 8GB INTERNAL 128GB</td>\n",
       "      <td>E1</td>\n",
       "      <td>1.0</td>\n",
       "      <td>PM</td>\n",
       "      <td>Huawei nova 5T</td>\n",
       "      <td>Kota Kediri</td>\n",
       "      <td>False</td>\n",
       "      <td>4500000</td>\n",
       "      <td>1</td>\n",
       "      <td>0</td>\n",
       "      <td>0</td>\n",
       "      <td>0</td>\n",
       "      <td>95</td>\n",
       "      <td>37</td>\n",
       "      <td>74</td>\n",
       "    </tr>\n",
       "    <tr>\n",
       "      <th>1</th>\n",
       "      <td>3/26/2020</td>\n",
       "      <td>Huawei Nova 5T (8GB/128GB) - Crush Green</td>\n",
       "      <td>F1</td>\n",
       "      <td>2.0</td>\n",
       "      <td>OS</td>\n",
       "      <td>Huawei nova 5T</td>\n",
       "      <td>Kota Administrasi Jakarta Utara</td>\n",
       "      <td>False</td>\n",
       "      <td>4999000</td>\n",
       "      <td>5</td>\n",
       "      <td>0</td>\n",
       "      <td>0</td>\n",
       "      <td>0</td>\n",
       "      <td>0</td>\n",
       "      <td>0</td>\n",
       "      <td>2</td>\n",
       "    </tr>\n",
       "    <tr>\n",
       "      <th>2</th>\n",
       "      <td>3/23/2020</td>\n",
       "      <td>HUAWEI NOVA 5T RAM 8/128 GARANSI RESMI HUAWEI ...</td>\n",
       "      <td>F2</td>\n",
       "      <td>3.0</td>\n",
       "      <td>PM</td>\n",
       "      <td>Huawei nova 5T</td>\n",
       "      <td>Kota Administrasi Jakarta Barat</td>\n",
       "      <td>False</td>\n",
       "      <td>4589900</td>\n",
       "      <td>16</td>\n",
       "      <td>0</td>\n",
       "      <td>0</td>\n",
       "      <td>0</td>\n",
       "      <td>96</td>\n",
       "      <td>12</td>\n",
       "      <td>19</td>\n",
       "    </tr>\n",
       "    <tr>\n",
       "      <th>3</th>\n",
       "      <td>4/29/2020</td>\n",
       "      <td>HUAWEI NOVA 5T RAM 8/128GB GARANSI RESMI HUAWE...</td>\n",
       "      <td>E2</td>\n",
       "      <td>4.0</td>\n",
       "      <td>OS</td>\n",
       "      <td>Huawei nova 5T</td>\n",
       "      <td>Kota Surabaya</td>\n",
       "      <td>False</td>\n",
       "      <td>4698500</td>\n",
       "      <td>5</td>\n",
       "      <td>0</td>\n",
       "      <td>0</td>\n",
       "      <td>0</td>\n",
       "      <td>99</td>\n",
       "      <td>42</td>\n",
       "      <td>63</td>\n",
       "    </tr>\n",
       "    <tr>\n",
       "      <th>4</th>\n",
       "      <td>4/15/2020</td>\n",
       "      <td>nokia 3310 reborn</td>\n",
       "      <td>C1</td>\n",
       "      <td>5.0</td>\n",
       "      <td>RM</td>\n",
       "      <td>Nokia 1</td>\n",
       "      <td>Kab. Bangkalan</td>\n",
       "      <td>True</td>\n",
       "      <td>1000000</td>\n",
       "      <td>999999</td>\n",
       "      <td>0</td>\n",
       "      <td>0</td>\n",
       "      <td>3</td>\n",
       "      <td>100</td>\n",
       "      <td>18</td>\n",
       "      <td>82</td>\n",
       "    </tr>\n",
       "  </tbody>\n",
       "</table>\n",
       "</div>"
      ],
      "text/plain": [
       "        date                                           sku_name product_id  \\\n",
       "0  3/11/2020              HUAWEI NOVA 5T RAM 8GB INTERNAL 128GB         E1   \n",
       "1  3/26/2020           Huawei Nova 5T (8GB/128GB) - Crush Green         F1   \n",
       "2  3/23/2020  HUAWEI NOVA 5T RAM 8/128 GARANSI RESMI HUAWEI ...         F2   \n",
       "3  4/29/2020  HUAWEI NOVA 5T RAM 8/128GB GARANSI RESMI HUAWE...         E2   \n",
       "4  4/15/2020                                  nokia 3310 reborn         C1   \n",
       "\n",
       "   merchant_code merchant_badge    product_type  \\\n",
       "0            1.0             PM  Huawei nova 5T   \n",
       "1            2.0             OS  Huawei nova 5T   \n",
       "2            3.0             PM  Huawei nova 5T   \n",
       "3            4.0             OS  Huawei nova 5T   \n",
       "4            5.0             RM         Nokia 1   \n",
       "\n",
       "                     merchant_city    cod    price   stock  daily_gmv  \\\n",
       "0                      Kota Kediri  False  4500000       1          0   \n",
       "1  Kota Administrasi Jakarta Utara  False  4999000       5          0   \n",
       "2  Kota Administrasi Jakarta Barat  False  4589900      16          0   \n",
       "3                    Kota Surabaya  False  4698500       5          0   \n",
       "4                   Kab. Bangkalan   True  1000000  999999          0   \n",
       "\n",
       "   daily_sold  daily_view  rating  total_review  total_sold  \n",
       "0           0           0      95            37          74  \n",
       "1           0           0       0             0           2  \n",
       "2           0           0      96            12          19  \n",
       "3           0           0      99            42          63  \n",
       "4           0           3     100            18          82  "
      ]
     },
     "execution_count": 3,
     "metadata": {},
     "output_type": "execute_result"
    }
   ],
   "source": [
    "bms=pd.read_csv(\"marketplace.csv\")\n",
    "bms.head()"
   ]
  },
  {
   "cell_type": "markdown",
   "metadata": {},
   "source": [
    "## 1. Berapa banyak observasi yang ada dalam dataset? Dan kolom mana yang tidak memiliki nilai duplikat / nilai unik?"
   ]
  },
  {
   "cell_type": "code",
   "execution_count": 4,
   "metadata": {},
   "outputs": [
    {
     "data": {
      "text/plain": [
       "(26014, 16)"
      ]
     },
     "execution_count": 4,
     "metadata": {},
     "output_type": "execute_result"
    }
   ],
   "source": [
    "bms.shape"
   ]
  },
  {
   "cell_type": "code",
   "execution_count": 5,
   "metadata": {},
   "outputs": [
    {
     "name": "stdout",
     "output_type": "stream",
     "text": [
      "0\n"
     ]
    },
    {
     "data": {
      "text/html": [
       "<div>\n",
       "<style scoped>\n",
       "    .dataframe tbody tr th:only-of-type {\n",
       "        vertical-align: middle;\n",
       "    }\n",
       "\n",
       "    .dataframe tbody tr th {\n",
       "        vertical-align: top;\n",
       "    }\n",
       "\n",
       "    .dataframe thead th {\n",
       "        text-align: right;\n",
       "    }\n",
       "</style>\n",
       "<table border=\"1\" class=\"dataframe\">\n",
       "  <thead>\n",
       "    <tr style=\"text-align: right;\">\n",
       "      <th></th>\n",
       "      <th>date</th>\n",
       "      <th>sku_name</th>\n",
       "      <th>product_id</th>\n",
       "      <th>merchant_code</th>\n",
       "      <th>merchant_badge</th>\n",
       "      <th>product_type</th>\n",
       "      <th>merchant_city</th>\n",
       "      <th>cod</th>\n",
       "      <th>price</th>\n",
       "      <th>stock</th>\n",
       "      <th>daily_gmv</th>\n",
       "      <th>daily_sold</th>\n",
       "      <th>daily_view</th>\n",
       "      <th>rating</th>\n",
       "      <th>total_review</th>\n",
       "      <th>total_sold</th>\n",
       "    </tr>\n",
       "  </thead>\n",
       "  <tbody>\n",
       "  </tbody>\n",
       "</table>\n",
       "</div>"
      ],
      "text/plain": [
       "Empty DataFrame\n",
       "Columns: [date, sku_name, product_id, merchant_code, merchant_badge, product_type, merchant_city, cod, price, stock, daily_gmv, daily_sold, daily_view, rating, total_review, total_sold]\n",
       "Index: []"
      ]
     },
     "execution_count": 5,
     "metadata": {},
     "output_type": "execute_result"
    }
   ],
   "source": [
    "dup = bms.duplicated()\n",
    "print(dup.sum())\n",
    "bms[dup]"
   ]
  },
  {
   "cell_type": "code",
   "execution_count": 6,
   "metadata": {},
   "outputs": [
    {
     "data": {
      "text/plain": [
       "True"
      ]
     },
     "execution_count": 6,
     "metadata": {},
     "output_type": "execute_result"
    }
   ],
   "source": [
    "any(bms['sku_name'].duplicated())"
   ]
  },
  {
   "cell_type": "code",
   "execution_count": 7,
   "metadata": {},
   "outputs": [
    {
     "data": {
      "text/plain": [
       "True"
      ]
     },
     "execution_count": 7,
     "metadata": {},
     "output_type": "execute_result"
    }
   ],
   "source": [
    "any(bms['product_id'].duplicated())"
   ]
  },
  {
   "cell_type": "code",
   "execution_count": 8,
   "metadata": {},
   "outputs": [
    {
     "data": {
      "text/plain": [
       "True"
      ]
     },
     "execution_count": 8,
     "metadata": {},
     "output_type": "execute_result"
    }
   ],
   "source": [
    "any(bms['merchant_city'].duplicated())"
   ]
  },
  {
   "cell_type": "markdown",
   "metadata": {},
   "source": [
    "## 2. Periksa tipe data dalam dataset. Lakukan beberapa perubahan tipe data jika ada tipe data yang salah"
   ]
  },
  {
   "cell_type": "code",
   "execution_count": 9,
   "metadata": {},
   "outputs": [
    {
     "data": {
      "text/html": [
       "<div>\n",
       "<style scoped>\n",
       "    .dataframe tbody tr th:only-of-type {\n",
       "        vertical-align: middle;\n",
       "    }\n",
       "\n",
       "    .dataframe tbody tr th {\n",
       "        vertical-align: top;\n",
       "    }\n",
       "\n",
       "    .dataframe thead th {\n",
       "        text-align: right;\n",
       "    }\n",
       "</style>\n",
       "<table border=\"1\" class=\"dataframe\">\n",
       "  <thead>\n",
       "    <tr style=\"text-align: right;\">\n",
       "      <th></th>\n",
       "      <th>merchant_code</th>\n",
       "      <th>price</th>\n",
       "      <th>stock</th>\n",
       "      <th>daily_gmv</th>\n",
       "      <th>daily_sold</th>\n",
       "      <th>daily_view</th>\n",
       "      <th>rating</th>\n",
       "      <th>total_review</th>\n",
       "      <th>total_sold</th>\n",
       "    </tr>\n",
       "  </thead>\n",
       "  <tbody>\n",
       "    <tr>\n",
       "      <th>count</th>\n",
       "      <td>26007.000000</td>\n",
       "      <td>2.601400e+04</td>\n",
       "      <td>26014.000000</td>\n",
       "      <td>2.601400e+04</td>\n",
       "      <td>26014.000000</td>\n",
       "      <td>26014.000000</td>\n",
       "      <td>26014.000000</td>\n",
       "      <td>26014.000000</td>\n",
       "      <td>26014.000000</td>\n",
       "    </tr>\n",
       "    <tr>\n",
       "      <th>mean</th>\n",
       "      <td>1562.011112</td>\n",
       "      <td>3.890569e+06</td>\n",
       "      <td>344553.702083</td>\n",
       "      <td>1.582145e+06</td>\n",
       "      <td>0.737257</td>\n",
       "      <td>58.814331</td>\n",
       "      <td>98.339279</td>\n",
       "      <td>46.343969</td>\n",
       "      <td>152.429807</td>\n",
       "    </tr>\n",
       "    <tr>\n",
       "      <th>std</th>\n",
       "      <td>1041.170081</td>\n",
       "      <td>3.868790e+06</td>\n",
       "      <td>474104.795100</td>\n",
       "      <td>1.603716e+07</td>\n",
       "      <td>7.453432</td>\n",
       "      <td>473.091001</td>\n",
       "      <td>5.485507</td>\n",
       "      <td>91.149600</td>\n",
       "      <td>321.367828</td>\n",
       "    </tr>\n",
       "    <tr>\n",
       "      <th>min</th>\n",
       "      <td>1.000000</td>\n",
       "      <td>5.350000e+05</td>\n",
       "      <td>0.000000</td>\n",
       "      <td>-2.342700e+08</td>\n",
       "      <td>-82.000000</td>\n",
       "      <td>0.000000</td>\n",
       "      <td>0.000000</td>\n",
       "      <td>0.000000</td>\n",
       "      <td>0.000000</td>\n",
       "    </tr>\n",
       "    <tr>\n",
       "      <th>25%</th>\n",
       "      <td>854.000000</td>\n",
       "      <td>1.770000e+06</td>\n",
       "      <td>4.000000</td>\n",
       "      <td>0.000000e+00</td>\n",
       "      <td>0.000000</td>\n",
       "      <td>2.000000</td>\n",
       "      <td>98.000000</td>\n",
       "      <td>10.000000</td>\n",
       "      <td>27.000000</td>\n",
       "    </tr>\n",
       "    <tr>\n",
       "      <th>50%</th>\n",
       "      <td>1252.000000</td>\n",
       "      <td>2.599999e+06</td>\n",
       "      <td>37.000000</td>\n",
       "      <td>0.000000e+00</td>\n",
       "      <td>0.000000</td>\n",
       "      <td>5.000000</td>\n",
       "      <td>100.000000</td>\n",
       "      <td>24.000000</td>\n",
       "      <td>63.000000</td>\n",
       "    </tr>\n",
       "    <tr>\n",
       "      <th>75%</th>\n",
       "      <td>2287.000000</td>\n",
       "      <td>4.093925e+06</td>\n",
       "      <td>999972.000000</td>\n",
       "      <td>0.000000e+00</td>\n",
       "      <td>0.000000</td>\n",
       "      <td>21.000000</td>\n",
       "      <td>100.000000</td>\n",
       "      <td>44.000000</td>\n",
       "      <td>144.000000</td>\n",
       "    </tr>\n",
       "    <tr>\n",
       "      <th>max</th>\n",
       "      <td>4247.000000</td>\n",
       "      <td>5.000000e+07</td>\n",
       "      <td>999999.000000</td>\n",
       "      <td>9.415350e+08</td>\n",
       "      <td>441.000000</td>\n",
       "      <td>38993.000000</td>\n",
       "      <td>100.000000</td>\n",
       "      <td>2842.000000</td>\n",
       "      <td>7724.000000</td>\n",
       "    </tr>\n",
       "  </tbody>\n",
       "</table>\n",
       "</div>"
      ],
      "text/plain": [
       "       merchant_code         price          stock     daily_gmv    daily_sold  \\\n",
       "count   26007.000000  2.601400e+04   26014.000000  2.601400e+04  26014.000000   \n",
       "mean     1562.011112  3.890569e+06  344553.702083  1.582145e+06      0.737257   \n",
       "std      1041.170081  3.868790e+06  474104.795100  1.603716e+07      7.453432   \n",
       "min         1.000000  5.350000e+05       0.000000 -2.342700e+08    -82.000000   \n",
       "25%       854.000000  1.770000e+06       4.000000  0.000000e+00      0.000000   \n",
       "50%      1252.000000  2.599999e+06      37.000000  0.000000e+00      0.000000   \n",
       "75%      2287.000000  4.093925e+06  999972.000000  0.000000e+00      0.000000   \n",
       "max      4247.000000  5.000000e+07  999999.000000  9.415350e+08    441.000000   \n",
       "\n",
       "         daily_view        rating  total_review    total_sold  \n",
       "count  26014.000000  26014.000000  26014.000000  26014.000000  \n",
       "mean      58.814331     98.339279     46.343969    152.429807  \n",
       "std      473.091001      5.485507     91.149600    321.367828  \n",
       "min        0.000000      0.000000      0.000000      0.000000  \n",
       "25%        2.000000     98.000000     10.000000     27.000000  \n",
       "50%        5.000000    100.000000     24.000000     63.000000  \n",
       "75%       21.000000    100.000000     44.000000    144.000000  \n",
       "max    38993.000000    100.000000   2842.000000   7724.000000  "
      ]
     },
     "execution_count": 9,
     "metadata": {},
     "output_type": "execute_result"
    }
   ],
   "source": [
    "bms.describe()"
   ]
  },
  {
   "cell_type": "code",
   "execution_count": 10,
   "metadata": {},
   "outputs": [
    {
     "data": {
      "text/plain": [
       "date               object\n",
       "sku_name           object\n",
       "product_id         object\n",
       "merchant_code     float64\n",
       "merchant_badge     object\n",
       "product_type       object\n",
       "merchant_city      object\n",
       "cod                  bool\n",
       "price               int64\n",
       "stock               int64\n",
       "daily_gmv           int64\n",
       "daily_sold          int64\n",
       "daily_view          int64\n",
       "rating              int64\n",
       "total_review        int64\n",
       "total_sold          int64\n",
       "dtype: object"
      ]
     },
     "execution_count": 10,
     "metadata": {},
     "output_type": "execute_result"
    }
   ],
   "source": [
    "bms.dtypes"
   ]
  },
  {
   "cell_type": "code",
   "execution_count": 11,
   "metadata": {},
   "outputs": [
    {
     "data": {
      "text/plain": [
       "date              datetime64[ns]\n",
       "sku_name                  object\n",
       "product_id                object\n",
       "merchant_code            float64\n",
       "merchant_badge            object\n",
       "product_type              object\n",
       "merchant_city             object\n",
       "cod                         bool\n",
       "price                      int64\n",
       "stock                      int64\n",
       "daily_gmv                  int64\n",
       "daily_sold                 int64\n",
       "daily_view                 int64\n",
       "rating                     int64\n",
       "total_review               int64\n",
       "total_sold                 int64\n",
       "dtype: object"
      ]
     },
     "execution_count": 11,
     "metadata": {},
     "output_type": "execute_result"
    }
   ],
   "source": [
    "bms[\"date\"] = bms[\"date\"].astype('datetime64')\n",
    "bms.dtypes"
   ]
  },
  {
   "cell_type": "code",
   "execution_count": 12,
   "metadata": {},
   "outputs": [
    {
     "data": {
      "text/html": [
       "<div>\n",
       "<style scoped>\n",
       "    .dataframe tbody tr th:only-of-type {\n",
       "        vertical-align: middle;\n",
       "    }\n",
       "\n",
       "    .dataframe tbody tr th {\n",
       "        vertical-align: top;\n",
       "    }\n",
       "\n",
       "    .dataframe thead th {\n",
       "        text-align: right;\n",
       "    }\n",
       "</style>\n",
       "<table border=\"1\" class=\"dataframe\">\n",
       "  <thead>\n",
       "    <tr style=\"text-align: right;\">\n",
       "      <th></th>\n",
       "      <th>date</th>\n",
       "      <th>sku_name</th>\n",
       "      <th>product_id</th>\n",
       "      <th>merchant_code</th>\n",
       "      <th>merchant_badge</th>\n",
       "      <th>product_type</th>\n",
       "      <th>merchant_city</th>\n",
       "      <th>cod</th>\n",
       "      <th>price</th>\n",
       "      <th>stock</th>\n",
       "      <th>daily_gmv</th>\n",
       "      <th>daily_sold</th>\n",
       "      <th>daily_view</th>\n",
       "      <th>rating</th>\n",
       "      <th>total_review</th>\n",
       "      <th>total_sold</th>\n",
       "    </tr>\n",
       "  </thead>\n",
       "  <tbody>\n",
       "    <tr>\n",
       "      <th>0</th>\n",
       "      <td>2020-03-11</td>\n",
       "      <td>HUAWEI NOVA 5T RAM 8GB INTERNAL 128GB</td>\n",
       "      <td>E1</td>\n",
       "      <td>1.0</td>\n",
       "      <td>PM</td>\n",
       "      <td>Huawei nova 5T</td>\n",
       "      <td>Kota Kediri</td>\n",
       "      <td>False</td>\n",
       "      <td>4500000</td>\n",
       "      <td>1</td>\n",
       "      <td>0</td>\n",
       "      <td>0</td>\n",
       "      <td>0</td>\n",
       "      <td>95</td>\n",
       "      <td>37</td>\n",
       "      <td>74</td>\n",
       "    </tr>\n",
       "    <tr>\n",
       "      <th>6467</th>\n",
       "      <td>2020-03-11</td>\n",
       "      <td>Samsung J6+ 3/32 Garansi Resmi - Hitam</td>\n",
       "      <td>C544</td>\n",
       "      <td>1878.0</td>\n",
       "      <td>PM</td>\n",
       "      <td>Samsung Galaxy J6</td>\n",
       "      <td>Kota Administrasi Jakarta Timur</td>\n",
       "      <td>False</td>\n",
       "      <td>2200000</td>\n",
       "      <td>999992</td>\n",
       "      <td>0</td>\n",
       "      <td>0</td>\n",
       "      <td>0</td>\n",
       "      <td>100</td>\n",
       "      <td>46</td>\n",
       "      <td>136</td>\n",
       "    </tr>\n",
       "    <tr>\n",
       "      <th>6463</th>\n",
       "      <td>2020-03-11</td>\n",
       "      <td>Samsung Galaxy J6 (4/64)</td>\n",
       "      <td>C543</td>\n",
       "      <td>1266.0</td>\n",
       "      <td>PM</td>\n",
       "      <td>Samsung Galaxy J6</td>\n",
       "      <td>Kota Surabaya</td>\n",
       "      <td>False</td>\n",
       "      <td>2500000</td>\n",
       "      <td>999999</td>\n",
       "      <td>0</td>\n",
       "      <td>0</td>\n",
       "      <td>0</td>\n",
       "      <td>100</td>\n",
       "      <td>21</td>\n",
       "      <td>35</td>\n",
       "    </tr>\n",
       "    <tr>\n",
       "      <th>6452</th>\n",
       "      <td>2020-03-11</td>\n",
       "      <td>INFINIX HOT 7 PRO 6/64 GARANSI RESMI INFINIX -...</td>\n",
       "      <td>E1183</td>\n",
       "      <td>1869.0</td>\n",
       "      <td>PM</td>\n",
       "      <td>Infinix Hot 7 Pro</td>\n",
       "      <td>Kota Administrasi Jakarta Utara</td>\n",
       "      <td>False</td>\n",
       "      <td>2000000</td>\n",
       "      <td>999954</td>\n",
       "      <td>0</td>\n",
       "      <td>0</td>\n",
       "      <td>0</td>\n",
       "      <td>100</td>\n",
       "      <td>52</td>\n",
       "      <td>259</td>\n",
       "    </tr>\n",
       "    <tr>\n",
       "      <th>6444</th>\n",
       "      <td>2020-03-11</td>\n",
       "      <td>hp xiaomi mi mix 2s</td>\n",
       "      <td>D649</td>\n",
       "      <td>1866.0</td>\n",
       "      <td>PM</td>\n",
       "      <td>Xiaomi Mi Mix 2S</td>\n",
       "      <td>Kota Sukabumi</td>\n",
       "      <td>False</td>\n",
       "      <td>5100000</td>\n",
       "      <td>999941</td>\n",
       "      <td>0</td>\n",
       "      <td>0</td>\n",
       "      <td>0</td>\n",
       "      <td>100</td>\n",
       "      <td>34</td>\n",
       "      <td>86</td>\n",
       "    </tr>\n",
       "    <tr>\n",
       "      <th>...</th>\n",
       "      <td>...</td>\n",
       "      <td>...</td>\n",
       "      <td>...</td>\n",
       "      <td>...</td>\n",
       "      <td>...</td>\n",
       "      <td>...</td>\n",
       "      <td>...</td>\n",
       "      <td>...</td>\n",
       "      <td>...</td>\n",
       "      <td>...</td>\n",
       "      <td>...</td>\n",
       "      <td>...</td>\n",
       "      <td>...</td>\n",
       "      <td>...</td>\n",
       "      <td>...</td>\n",
       "      <td>...</td>\n",
       "    </tr>\n",
       "    <tr>\n",
       "      <th>276</th>\n",
       "      <td>2020-04-30</td>\n",
       "      <td>Realme X2 Pro 12GB / 256GB 12 GB / 256 GB Whit...</td>\n",
       "      <td>F20</td>\n",
       "      <td>47.0</td>\n",
       "      <td>RM</td>\n",
       "      <td>Realme 6</td>\n",
       "      <td>Kota Administrasi Jakarta Barat</td>\n",
       "      <td>False</td>\n",
       "      <td>7110000</td>\n",
       "      <td>32</td>\n",
       "      <td>0</td>\n",
       "      <td>0</td>\n",
       "      <td>53</td>\n",
       "      <td>98</td>\n",
       "      <td>72</td>\n",
       "      <td>75</td>\n",
       "    </tr>\n",
       "    <tr>\n",
       "      <th>2545</th>\n",
       "      <td>2020-04-30</td>\n",
       "      <td>iPhone 256GB X (s) Max Garansi Resmi Apple 1 T...</td>\n",
       "      <td>C323</td>\n",
       "      <td>240.0</td>\n",
       "      <td>RM</td>\n",
       "      <td>Apple iPhone XS Max</td>\n",
       "      <td>Kota Surabaya</td>\n",
       "      <td>False</td>\n",
       "      <td>17250000</td>\n",
       "      <td>999999</td>\n",
       "      <td>0</td>\n",
       "      <td>0</td>\n",
       "      <td>3</td>\n",
       "      <td>100</td>\n",
       "      <td>11</td>\n",
       "      <td>45</td>\n",
       "    </tr>\n",
       "    <tr>\n",
       "      <th>18994</th>\n",
       "      <td>2020-04-30</td>\n",
       "      <td>READY STOCK iPhone Jet Black 7 PLUS 256 gb ORI...</td>\n",
       "      <td>B567</td>\n",
       "      <td>2354.0</td>\n",
       "      <td>PM</td>\n",
       "      <td>Apple iPhone 7 Plus</td>\n",
       "      <td>Kota Administrasi Jakarta Barat</td>\n",
       "      <td>False</td>\n",
       "      <td>12600000</td>\n",
       "      <td>999999</td>\n",
       "      <td>0</td>\n",
       "      <td>0</td>\n",
       "      <td>1</td>\n",
       "      <td>100</td>\n",
       "      <td>4</td>\n",
       "      <td>9</td>\n",
       "    </tr>\n",
       "    <tr>\n",
       "      <th>18747</th>\n",
       "      <td>2020-04-30</td>\n",
       "      <td>iphone 6plus</td>\n",
       "      <td>D1848</td>\n",
       "      <td>3682.0</td>\n",
       "      <td>PM</td>\n",
       "      <td>Apple iPhone 6 Plus</td>\n",
       "      <td>Kab. Jember</td>\n",
       "      <td>False</td>\n",
       "      <td>4000000</td>\n",
       "      <td>999987</td>\n",
       "      <td>0</td>\n",
       "      <td>0</td>\n",
       "      <td>3</td>\n",
       "      <td>100</td>\n",
       "      <td>8</td>\n",
       "      <td>19</td>\n",
       "    </tr>\n",
       "    <tr>\n",
       "      <th>18744</th>\n",
       "      <td>2020-04-30</td>\n",
       "      <td>iphone 6+ 16gb garansi platinum 1tahun warna grey</td>\n",
       "      <td>A437</td>\n",
       "      <td>2873.0</td>\n",
       "      <td>PM</td>\n",
       "      <td>Apple iPhone 6 Plus</td>\n",
       "      <td>Kota Administrasi Jakarta Barat</td>\n",
       "      <td>False</td>\n",
       "      <td>4400000</td>\n",
       "      <td>999985</td>\n",
       "      <td>0</td>\n",
       "      <td>0</td>\n",
       "      <td>5</td>\n",
       "      <td>100</td>\n",
       "      <td>4</td>\n",
       "      <td>77</td>\n",
       "    </tr>\n",
       "  </tbody>\n",
       "</table>\n",
       "<p>26014 rows × 16 columns</p>\n",
       "</div>"
      ],
      "text/plain": [
       "            date                                           sku_name  \\\n",
       "0     2020-03-11              HUAWEI NOVA 5T RAM 8GB INTERNAL 128GB   \n",
       "6467  2020-03-11             Samsung J6+ 3/32 Garansi Resmi - Hitam   \n",
       "6463  2020-03-11                           Samsung Galaxy J6 (4/64)   \n",
       "6452  2020-03-11  INFINIX HOT 7 PRO 6/64 GARANSI RESMI INFINIX -...   \n",
       "6444  2020-03-11                                hp xiaomi mi mix 2s   \n",
       "...          ...                                                ...   \n",
       "276   2020-04-30  Realme X2 Pro 12GB / 256GB 12 GB / 256 GB Whit...   \n",
       "2545  2020-04-30  iPhone 256GB X (s) Max Garansi Resmi Apple 1 T...   \n",
       "18994 2020-04-30  READY STOCK iPhone Jet Black 7 PLUS 256 gb ORI...   \n",
       "18747 2020-04-30                                       iphone 6plus   \n",
       "18744 2020-04-30  iphone 6+ 16gb garansi platinum 1tahun warna grey   \n",
       "\n",
       "      product_id  merchant_code merchant_badge         product_type  \\\n",
       "0             E1            1.0             PM       Huawei nova 5T   \n",
       "6467        C544         1878.0             PM    Samsung Galaxy J6   \n",
       "6463        C543         1266.0             PM    Samsung Galaxy J6   \n",
       "6452       E1183         1869.0             PM    Infinix Hot 7 Pro   \n",
       "6444        D649         1866.0             PM     Xiaomi Mi Mix 2S   \n",
       "...          ...            ...            ...                  ...   \n",
       "276          F20           47.0             RM             Realme 6   \n",
       "2545        C323          240.0             RM  Apple iPhone XS Max   \n",
       "18994       B567         2354.0             PM  Apple iPhone 7 Plus   \n",
       "18747      D1848         3682.0             PM  Apple iPhone 6 Plus   \n",
       "18744       A437         2873.0             PM  Apple iPhone 6 Plus   \n",
       "\n",
       "                         merchant_city    cod     price   stock  daily_gmv  \\\n",
       "0                          Kota Kediri  False   4500000       1          0   \n",
       "6467   Kota Administrasi Jakarta Timur  False   2200000  999992          0   \n",
       "6463                     Kota Surabaya  False   2500000  999999          0   \n",
       "6452   Kota Administrasi Jakarta Utara  False   2000000  999954          0   \n",
       "6444                     Kota Sukabumi  False   5100000  999941          0   \n",
       "...                                ...    ...       ...     ...        ...   \n",
       "276    Kota Administrasi Jakarta Barat  False   7110000      32          0   \n",
       "2545                     Kota Surabaya  False  17250000  999999          0   \n",
       "18994  Kota Administrasi Jakarta Barat  False  12600000  999999          0   \n",
       "18747                      Kab. Jember  False   4000000  999987          0   \n",
       "18744  Kota Administrasi Jakarta Barat  False   4400000  999985          0   \n",
       "\n",
       "       daily_sold  daily_view  rating  total_review  total_sold  \n",
       "0               0           0      95            37          74  \n",
       "6467            0           0     100            46         136  \n",
       "6463            0           0     100            21          35  \n",
       "6452            0           0     100            52         259  \n",
       "6444            0           0     100            34          86  \n",
       "...           ...         ...     ...           ...         ...  \n",
       "276             0          53      98            72          75  \n",
       "2545            0           3     100            11          45  \n",
       "18994           0           1     100             4           9  \n",
       "18747           0           3     100             8          19  \n",
       "18744           0           5     100             4          77  \n",
       "\n",
       "[26014 rows x 16 columns]"
      ]
     },
     "execution_count": 12,
     "metadata": {},
     "output_type": "execute_result"
    }
   ],
   "source": [
    "bms.sort_values(by=[\"date\"])"
   ]
  },
  {
   "cell_type": "markdown",
   "metadata": {},
   "source": [
    "## 3. Apakah ada nilai dalam variabel yang nol? Yang mana Jika ada beberapa variabel null pada dataset tersebut, silahkan isi nilainya dengan 0"
   ]
  },
  {
   "cell_type": "code",
   "execution_count": 13,
   "metadata": {},
   "outputs": [
    {
     "name": "stdout",
     "output_type": "stream",
     "text": [
      "<class 'pandas.core.frame.DataFrame'>\n",
      "RangeIndex: 26014 entries, 0 to 26013\n",
      "Data columns (total 16 columns):\n",
      " #   Column          Non-Null Count  Dtype         \n",
      "---  ------          --------------  -----         \n",
      " 0   date            26014 non-null  datetime64[ns]\n",
      " 1   sku_name        26014 non-null  object        \n",
      " 2   product_id      26014 non-null  object        \n",
      " 3   merchant_code   26007 non-null  float64       \n",
      " 4   merchant_badge  26014 non-null  object        \n",
      " 5   product_type    26014 non-null  object        \n",
      " 6   merchant_city   26014 non-null  object        \n",
      " 7   cod             26014 non-null  bool          \n",
      " 8   price           26014 non-null  int64         \n",
      " 9   stock           26014 non-null  int64         \n",
      " 10  daily_gmv       26014 non-null  int64         \n",
      " 11  daily_sold      26014 non-null  int64         \n",
      " 12  daily_view      26014 non-null  int64         \n",
      " 13  rating          26014 non-null  int64         \n",
      " 14  total_review    26014 non-null  int64         \n",
      " 15  total_sold      26014 non-null  int64         \n",
      "dtypes: bool(1), datetime64[ns](1), float64(1), int64(8), object(5)\n",
      "memory usage: 2.5+ MB\n"
     ]
    }
   ],
   "source": [
    "bms.info()"
   ]
  },
  {
   "cell_type": "code",
   "execution_count": 14,
   "metadata": {},
   "outputs": [
    {
     "data": {
      "text/plain": [
       "date              0\n",
       "sku_name          0\n",
       "product_id        0\n",
       "merchant_code     7\n",
       "merchant_badge    0\n",
       "product_type      0\n",
       "merchant_city     0\n",
       "cod               0\n",
       "price             0\n",
       "stock             0\n",
       "daily_gmv         0\n",
       "daily_sold        0\n",
       "daily_view        0\n",
       "rating            0\n",
       "total_review      0\n",
       "total_sold        0\n",
       "dtype: int64"
      ]
     },
     "execution_count": 14,
     "metadata": {},
     "output_type": "execute_result"
    }
   ],
   "source": [
    "bms.isnull().sum()"
   ]
  },
  {
   "cell_type": "code",
   "execution_count": 15,
   "metadata": {},
   "outputs": [],
   "source": [
    "bms[\"merchant_code\"]=bms[\"merchant_code\"].fillna(0)"
   ]
  },
  {
   "cell_type": "code",
   "execution_count": 16,
   "metadata": {},
   "outputs": [
    {
     "data": {
      "text/plain": [
       "date              0\n",
       "sku_name          0\n",
       "product_id        0\n",
       "merchant_code     0\n",
       "merchant_badge    0\n",
       "product_type      0\n",
       "merchant_city     0\n",
       "cod               0\n",
       "price             0\n",
       "stock             0\n",
       "daily_gmv         0\n",
       "daily_sold        0\n",
       "daily_view        0\n",
       "rating            0\n",
       "total_review      0\n",
       "total_sold        0\n",
       "dtype: int64"
      ]
     },
     "execution_count": 16,
     "metadata": {},
     "output_type": "execute_result"
    }
   ],
   "source": [
    "bms.isnull().sum()"
   ]
  },
  {
   "cell_type": "markdown",
   "metadata": {},
   "source": [
    "## 4. Apa jenis produk kategori yang dijual dalam kumpulan data"
   ]
  },
  {
   "cell_type": "code",
   "execution_count": 17,
   "metadata": {},
   "outputs": [
    {
     "data": {
      "text/plain": [
       "Realme 6                          2161\n",
       "Samsung Galaxy A10s               1062\n",
       "Xiaomi Redmi Note 8               1025\n",
       "Xiaomi Redmi 7A                    860\n",
       "Xiaomi Redmi 6A                    747\n",
       "                                  ... \n",
       "Asus ZenFone Lite (L1) ZA551KL       1\n",
       "Huawei P10 Plus                      1\n",
       "vivo Y51                             1\n",
       "vivo Z1                              1\n",
       "Asus Zenfone 3 Max ZC553KL           1\n",
       "Name: product_type, Length: 361, dtype: int64"
      ]
     },
     "execution_count": 17,
     "metadata": {},
     "output_type": "execute_result"
    }
   ],
   "source": [
    "# mendapatkan jumlah nilai unik\n",
    "bms['product_type'].value_counts()"
   ]
  },
  {
   "cell_type": "code",
   "execution_count": 18,
   "metadata": {},
   "outputs": [
    {
     "data": {
      "text/plain": [
       "<matplotlib.axes._subplots.AxesSubplot at 0x55c07d8>"
      ]
     },
     "execution_count": 18,
     "metadata": {},
     "output_type": "execute_result"
    },
    {
     "data": {
      "image/png": "[encoded data removed]",
      "text/plain": [
       "<Figure size 432x288 with 1 Axes>"
      ]
     },
     "metadata": {
      "needs_background": "light"
     },
     "output_type": "display_data"
    }
   ],
   "source": [
    "bms[\"product_type\"].value_counts().head(25).plot(kind=\"bar\")"
   ]
  },
  {
   "cell_type": "markdown",
   "metadata": {},
   "source": [
    "## 5. Jenis produk apa yang termasuk dalam 3 produk teratas dalam penjualan?"
   ]
  },
  {
   "cell_type": "code",
   "execution_count": 19,
   "metadata": {},
   "outputs": [
    {
     "data": {
      "text/plain": [
       "product_type\n",
       "Samsung Galaxy A10s    525852\n",
       "Xiaomi Redmi 6A        332426\n",
       "Realme 6               277352\n",
       "Name: total_sold, dtype: int64"
      ]
     },
     "execution_count": 19,
     "metadata": {},
     "output_type": "execute_result"
    }
   ],
   "source": [
    "treeUp = bms.groupby(\"product_type\")['total_sold'].sum().sort_values(ascending = False)\n",
    "treeUp.head(3)"
   ]
  },
  {
   "cell_type": "code",
   "execution_count": 20,
   "metadata": {},
   "outputs": [
    {
     "data": {
      "text/plain": [
       "<matplotlib.axes._subplots.AxesSubplot at 0xff37370>"
      ]
     },
     "execution_count": 20,
     "metadata": {},
     "output_type": "execute_result"
    },
    {
     "data": {
      "image/png": "[encoded data removed]",
      "text/plain": [
       "<Figure size 432x288 with 1 Axes>"
      ]
     },
     "metadata": {
      "needs_background": "light"
     },
     "output_type": "display_data"
    }
   ],
   "source": [
    "treeUp.head(3).plot(kind=\"bar\")"
   ]
  },
  {
   "cell_type": "markdown",
   "metadata": {},
   "source": [
    "## 6. Produk teratas pertama: harga rata-rata, variasi harga jual visualisasi distribusi dengan histogram"
   ]
  },
  {
   "cell_type": "code",
   "execution_count": 21,
   "metadata": {},
   "outputs": [
    {
     "data": {
      "text/plain": [
       "product_type\n",
       "Samsung Galaxy A10s    525852\n",
       "Name: total_sold, dtype: int64"
      ]
     },
     "execution_count": 21,
     "metadata": {},
     "output_type": "execute_result"
    }
   ],
   "source": [
    "treeUp.head(1)"
   ]
  },
  {
   "cell_type": "code",
   "execution_count": 22,
   "metadata": {},
   "outputs": [
    {
     "data": {
      "text/html": [
       "<div>\n",
       "<style scoped>\n",
       "    .dataframe tbody tr th:only-of-type {\n",
       "        vertical-align: middle;\n",
       "    }\n",
       "\n",
       "    .dataframe tbody tr th {\n",
       "        vertical-align: top;\n",
       "    }\n",
       "\n",
       "    .dataframe thead th {\n",
       "        text-align: right;\n",
       "    }\n",
       "</style>\n",
       "<table border=\"1\" class=\"dataframe\">\n",
       "  <thead>\n",
       "    <tr style=\"text-align: right;\">\n",
       "      <th></th>\n",
       "      <th>date</th>\n",
       "      <th>sku_name</th>\n",
       "      <th>product_id</th>\n",
       "      <th>merchant_code</th>\n",
       "      <th>merchant_badge</th>\n",
       "      <th>product_type</th>\n",
       "      <th>merchant_city</th>\n",
       "      <th>cod</th>\n",
       "      <th>price</th>\n",
       "      <th>stock</th>\n",
       "      <th>daily_gmv</th>\n",
       "      <th>daily_sold</th>\n",
       "      <th>daily_view</th>\n",
       "      <th>rating</th>\n",
       "      <th>total_review</th>\n",
       "      <th>total_sold</th>\n",
       "    </tr>\n",
       "  </thead>\n",
       "  <tbody>\n",
       "    <tr>\n",
       "      <th>2554</th>\n",
       "      <td>2020-04-08</td>\n",
       "      <td>Samsung A10S 2/32 garansi resmi - Random</td>\n",
       "      <td>E159</td>\n",
       "      <td>676.0</td>\n",
       "      <td>RM</td>\n",
       "      <td>Samsung Galaxy A10s</td>\n",
       "      <td>Kab. Bantul</td>\n",
       "      <td>False</td>\n",
       "      <td>1581000</td>\n",
       "      <td>0</td>\n",
       "      <td>1581000</td>\n",
       "      <td>1</td>\n",
       "      <td>19</td>\n",
       "      <td>100</td>\n",
       "      <td>50</td>\n",
       "      <td>186</td>\n",
       "    </tr>\n",
       "    <tr>\n",
       "      <th>2555</th>\n",
       "      <td>2020-04-26</td>\n",
       "      <td>SAMSUNG GALAXY A10S 2GB 32GB GARANSI RESMI SEIN</td>\n",
       "      <td>E160</td>\n",
       "      <td>43.0</td>\n",
       "      <td>RM</td>\n",
       "      <td>Samsung Galaxy A10s</td>\n",
       "      <td>Kota Administrasi Jakarta Utara</td>\n",
       "      <td>False</td>\n",
       "      <td>1650000</td>\n",
       "      <td>17</td>\n",
       "      <td>0</td>\n",
       "      <td>0</td>\n",
       "      <td>2</td>\n",
       "      <td>99</td>\n",
       "      <td>25</td>\n",
       "      <td>26</td>\n",
       "    </tr>\n",
       "    <tr>\n",
       "      <th>2556</th>\n",
       "      <td>2020-04-18</td>\n",
       "      <td>Samsung A10s New Garansi Resmi</td>\n",
       "      <td>F122</td>\n",
       "      <td>677.0</td>\n",
       "      <td>RM</td>\n",
       "      <td>Samsung Galaxy A10s</td>\n",
       "      <td>Kab. Bantul</td>\n",
       "      <td>False</td>\n",
       "      <td>1609400</td>\n",
       "      <td>10</td>\n",
       "      <td>0</td>\n",
       "      <td>0</td>\n",
       "      <td>2</td>\n",
       "      <td>100</td>\n",
       "      <td>21</td>\n",
       "      <td>73</td>\n",
       "    </tr>\n",
       "    <tr>\n",
       "      <th>2557</th>\n",
       "      <td>2020-04-15</td>\n",
       "      <td>SAMSUNG GALAXY A10S - [2/32] - GARANSI RESMI S...</td>\n",
       "      <td>E161</td>\n",
       "      <td>678.0</td>\n",
       "      <td>RM</td>\n",
       "      <td>Samsung Galaxy A10s</td>\n",
       "      <td>Kota Administrasi Jakarta Utara</td>\n",
       "      <td>False</td>\n",
       "      <td>1589900</td>\n",
       "      <td>3</td>\n",
       "      <td>0</td>\n",
       "      <td>0</td>\n",
       "      <td>11</td>\n",
       "      <td>100</td>\n",
       "      <td>21</td>\n",
       "      <td>329</td>\n",
       "    </tr>\n",
       "    <tr>\n",
       "      <th>2558</th>\n",
       "      <td>2020-04-14</td>\n",
       "      <td>Samsung A10s New Garansi Resmi</td>\n",
       "      <td>F122</td>\n",
       "      <td>677.0</td>\n",
       "      <td>RM</td>\n",
       "      <td>Samsung Galaxy A10s</td>\n",
       "      <td>Kab. Bantul</td>\n",
       "      <td>False</td>\n",
       "      <td>1609400</td>\n",
       "      <td>10</td>\n",
       "      <td>0</td>\n",
       "      <td>0</td>\n",
       "      <td>7</td>\n",
       "      <td>100</td>\n",
       "      <td>21</td>\n",
       "      <td>73</td>\n",
       "    </tr>\n",
       "    <tr>\n",
       "      <th>...</th>\n",
       "      <td>...</td>\n",
       "      <td>...</td>\n",
       "      <td>...</td>\n",
       "      <td>...</td>\n",
       "      <td>...</td>\n",
       "      <td>...</td>\n",
       "      <td>...</td>\n",
       "      <td>...</td>\n",
       "      <td>...</td>\n",
       "      <td>...</td>\n",
       "      <td>...</td>\n",
       "      <td>...</td>\n",
       "      <td>...</td>\n",
       "      <td>...</td>\n",
       "      <td>...</td>\n",
       "      <td>...</td>\n",
       "    </tr>\n",
       "    <tr>\n",
       "      <th>25326</th>\n",
       "      <td>2020-04-04</td>\n",
       "      <td>Samsung Galaxy A10s 2/32 RAM 2GB ROM 32GB GARA...</td>\n",
       "      <td>E3287</td>\n",
       "      <td>805.0</td>\n",
       "      <td>OS</td>\n",
       "      <td>Samsung Galaxy A10s</td>\n",
       "      <td>Kota Administrasi Jakarta Pusat</td>\n",
       "      <td>False</td>\n",
       "      <td>1621000</td>\n",
       "      <td>7</td>\n",
       "      <td>25936000</td>\n",
       "      <td>16</td>\n",
       "      <td>565</td>\n",
       "      <td>98</td>\n",
       "      <td>529</td>\n",
       "      <td>4100</td>\n",
       "    </tr>\n",
       "    <tr>\n",
       "      <th>25327</th>\n",
       "      <td>2020-04-06</td>\n",
       "      <td>Samsung Galaxy A10s 2/32 2GB 32GB Garansi Resm...</td>\n",
       "      <td>E328</td>\n",
       "      <td>819.0</td>\n",
       "      <td>OS</td>\n",
       "      <td>Samsung Galaxy A10s</td>\n",
       "      <td>Kota Administrasi Jakarta Pusat</td>\n",
       "      <td>False</td>\n",
       "      <td>1650000</td>\n",
       "      <td>8</td>\n",
       "      <td>3300000</td>\n",
       "      <td>2</td>\n",
       "      <td>236</td>\n",
       "      <td>94</td>\n",
       "      <td>35</td>\n",
       "      <td>241</td>\n",
       "    </tr>\n",
       "    <tr>\n",
       "      <th>25328</th>\n",
       "      <td>2020-04-18</td>\n",
       "      <td>Samsung Galaxy A10S Smartphone [32GB/ 2GB] Red...</td>\n",
       "      <td>E324</td>\n",
       "      <td>822.0</td>\n",
       "      <td>OS</td>\n",
       "      <td>Samsung Galaxy A10s</td>\n",
       "      <td>Kota Administrasi Jakarta Pusat</td>\n",
       "      <td>False</td>\n",
       "      <td>1629000</td>\n",
       "      <td>18</td>\n",
       "      <td>3258000</td>\n",
       "      <td>2</td>\n",
       "      <td>32</td>\n",
       "      <td>98</td>\n",
       "      <td>36</td>\n",
       "      <td>203</td>\n",
       "    </tr>\n",
       "    <tr>\n",
       "      <th>25329</th>\n",
       "      <td>2020-04-27</td>\n",
       "      <td>Samsung Galaxy A10S Smartphone [32GB/ 2GB] Bla...</td>\n",
       "      <td>E3281</td>\n",
       "      <td>822.0</td>\n",
       "      <td>OS</td>\n",
       "      <td>Samsung Galaxy A10s</td>\n",
       "      <td>Kota Administrasi Jakarta Pusat</td>\n",
       "      <td>False</td>\n",
       "      <td>1635000</td>\n",
       "      <td>20</td>\n",
       "      <td>0</td>\n",
       "      <td>0</td>\n",
       "      <td>663</td>\n",
       "      <td>99</td>\n",
       "      <td>203</td>\n",
       "      <td>1431</td>\n",
       "    </tr>\n",
       "    <tr>\n",
       "      <th>25330</th>\n",
       "      <td>2020-04-07</td>\n",
       "      <td>Samsung Galaxy A10S</td>\n",
       "      <td>E317</td>\n",
       "      <td>856.0</td>\n",
       "      <td>OS</td>\n",
       "      <td>Samsung Galaxy A10s</td>\n",
       "      <td>Kab. Cirebon</td>\n",
       "      <td>False</td>\n",
       "      <td>1635000</td>\n",
       "      <td>10</td>\n",
       "      <td>-1635000</td>\n",
       "      <td>-1</td>\n",
       "      <td>57</td>\n",
       "      <td>98</td>\n",
       "      <td>46</td>\n",
       "      <td>581</td>\n",
       "    </tr>\n",
       "  </tbody>\n",
       "</table>\n",
       "<p>1062 rows × 16 columns</p>\n",
       "</div>"
      ],
      "text/plain": [
       "            date                                           sku_name  \\\n",
       "2554  2020-04-08           Samsung A10S 2/32 garansi resmi - Random   \n",
       "2555  2020-04-26    SAMSUNG GALAXY A10S 2GB 32GB GARANSI RESMI SEIN   \n",
       "2556  2020-04-18                     Samsung A10s New Garansi Resmi   \n",
       "2557  2020-04-15  SAMSUNG GALAXY A10S - [2/32] - GARANSI RESMI S...   \n",
       "2558  2020-04-14                     Samsung A10s New Garansi Resmi   \n",
       "...          ...                                                ...   \n",
       "25326 2020-04-04  Samsung Galaxy A10s 2/32 RAM 2GB ROM 32GB GARA...   \n",
       "25327 2020-04-06  Samsung Galaxy A10s 2/32 2GB 32GB Garansi Resm...   \n",
       "25328 2020-04-18  Samsung Galaxy A10S Smartphone [32GB/ 2GB] Red...   \n",
       "25329 2020-04-27  Samsung Galaxy A10S Smartphone [32GB/ 2GB] Bla...   \n",
       "25330 2020-04-07                                Samsung Galaxy A10S   \n",
       "\n",
       "      product_id  merchant_code merchant_badge         product_type  \\\n",
       "2554        E159          676.0             RM  Samsung Galaxy A10s   \n",
       "2555        E160           43.0             RM  Samsung Galaxy A10s   \n",
       "2556        F122          677.0             RM  Samsung Galaxy A10s   \n",
       "2557        E161          678.0             RM  Samsung Galaxy A10s   \n",
       "2558        F122          677.0             RM  Samsung Galaxy A10s   \n",
       "...          ...            ...            ...                  ...   \n",
       "25326      E3287          805.0             OS  Samsung Galaxy A10s   \n",
       "25327       E328          819.0             OS  Samsung Galaxy A10s   \n",
       "25328       E324          822.0             OS  Samsung Galaxy A10s   \n",
       "25329      E3281          822.0             OS  Samsung Galaxy A10s   \n",
       "25330       E317          856.0             OS  Samsung Galaxy A10s   \n",
       "\n",
       "                         merchant_city    cod    price  stock  daily_gmv  \\\n",
       "2554                       Kab. Bantul  False  1581000      0    1581000   \n",
       "2555   Kota Administrasi Jakarta Utara  False  1650000     17          0   \n",
       "2556                       Kab. Bantul  False  1609400     10          0   \n",
       "2557   Kota Administrasi Jakarta Utara  False  1589900      3          0   \n",
       "2558                       Kab. Bantul  False  1609400     10          0   \n",
       "...                                ...    ...      ...    ...        ...   \n",
       "25326  Kota Administrasi Jakarta Pusat  False  1621000      7   25936000   \n",
       "25327  Kota Administrasi Jakarta Pusat  False  1650000      8    3300000   \n",
       "25328  Kota Administrasi Jakarta Pusat  False  1629000     18    3258000   \n",
       "25329  Kota Administrasi Jakarta Pusat  False  1635000     20          0   \n",
       "25330                     Kab. Cirebon  False  1635000     10   -1635000   \n",
       "\n",
       "       daily_sold  daily_view  rating  total_review  total_sold  \n",
       "2554            1          19     100            50         186  \n",
       "2555            0           2      99            25          26  \n",
       "2556            0           2     100            21          73  \n",
       "2557            0          11     100            21         329  \n",
       "2558            0           7     100            21          73  \n",
       "...           ...         ...     ...           ...         ...  \n",
       "25326          16         565      98           529        4100  \n",
       "25327           2         236      94            35         241  \n",
       "25328           2          32      98            36         203  \n",
       "25329           0         663      99           203        1431  \n",
       "25330          -1          57      98            46         581  \n",
       "\n",
       "[1062 rows x 16 columns]"
      ]
     },
     "execution_count": 22,
     "metadata": {},
     "output_type": "execute_result"
    }
   ],
   "source": [
    "samsung = bms[bms['product_type'] == 'Samsung Galaxy A10s']\n",
    "samsung"
   ]
  },
  {
   "cell_type": "code",
   "execution_count": 23,
   "metadata": {},
   "outputs": [
    {
     "data": {
      "text/html": [
       "<div>\n",
       "<style scoped>\n",
       "    .dataframe tbody tr th:only-of-type {\n",
       "        vertical-align: middle;\n",
       "    }\n",
       "\n",
       "    .dataframe tbody tr th {\n",
       "        vertical-align: top;\n",
       "    }\n",
       "\n",
       "    .dataframe thead th {\n",
       "        text-align: right;\n",
       "    }\n",
       "</style>\n",
       "<table border=\"1\" class=\"dataframe\">\n",
       "  <thead>\n",
       "    <tr style=\"text-align: right;\">\n",
       "      <th></th>\n",
       "      <th>merchant_code</th>\n",
       "      <th>price</th>\n",
       "      <th>stock</th>\n",
       "      <th>daily_gmv</th>\n",
       "      <th>daily_sold</th>\n",
       "      <th>daily_view</th>\n",
       "      <th>rating</th>\n",
       "      <th>total_review</th>\n",
       "      <th>total_sold</th>\n",
       "    </tr>\n",
       "  </thead>\n",
       "  <tbody>\n",
       "    <tr>\n",
       "      <th>count</th>\n",
       "      <td>1062.000000</td>\n",
       "      <td>1.062000e+03</td>\n",
       "      <td>1062.000000</td>\n",
       "      <td>1.062000e+03</td>\n",
       "      <td>1062.000000</td>\n",
       "      <td>1062.000000</td>\n",
       "      <td>1062.000000</td>\n",
       "      <td>1062.000000</td>\n",
       "      <td>1062.000000</td>\n",
       "    </tr>\n",
       "    <tr>\n",
       "      <th>mean</th>\n",
       "      <td>2091.317326</td>\n",
       "      <td>1.622651e+06</td>\n",
       "      <td>10479.354049</td>\n",
       "      <td>5.119869e+06</td>\n",
       "      <td>3.180791</td>\n",
       "      <td>44.287194</td>\n",
       "      <td>98.691149</td>\n",
       "      <td>52.347458</td>\n",
       "      <td>495.152542</td>\n",
       "    </tr>\n",
       "    <tr>\n",
       "      <th>std</th>\n",
       "      <td>915.227777</td>\n",
       "      <td>4.856473e+04</td>\n",
       "      <td>101278.453939</td>\n",
       "      <td>2.278007e+07</td>\n",
       "      <td>14.239942</td>\n",
       "      <td>129.024256</td>\n",
       "      <td>2.087776</td>\n",
       "      <td>67.491241</td>\n",
       "      <td>626.638576</td>\n",
       "    </tr>\n",
       "    <tr>\n",
       "      <th>min</th>\n",
       "      <td>43.000000</td>\n",
       "      <td>1.575000e+06</td>\n",
       "      <td>0.000000</td>\n",
       "      <td>-5.286600e+07</td>\n",
       "      <td>-33.000000</td>\n",
       "      <td>0.000000</td>\n",
       "      <td>77.000000</td>\n",
       "      <td>1.000000</td>\n",
       "      <td>7.000000</td>\n",
       "    </tr>\n",
       "    <tr>\n",
       "      <th>25%</th>\n",
       "      <td>1593.250000</td>\n",
       "      <td>1.600000e+06</td>\n",
       "      <td>2.000000</td>\n",
       "      <td>0.000000e+00</td>\n",
       "      <td>0.000000</td>\n",
       "      <td>3.000000</td>\n",
       "      <td>98.000000</td>\n",
       "      <td>19.000000</td>\n",
       "      <td>120.250000</td>\n",
       "    </tr>\n",
       "    <tr>\n",
       "      <th>50%</th>\n",
       "      <td>2039.000000</td>\n",
       "      <td>1.610000e+06</td>\n",
       "      <td>4.000000</td>\n",
       "      <td>0.000000e+00</td>\n",
       "      <td>0.000000</td>\n",
       "      <td>9.000000</td>\n",
       "      <td>99.000000</td>\n",
       "      <td>33.000000</td>\n",
       "      <td>291.500000</td>\n",
       "    </tr>\n",
       "    <tr>\n",
       "      <th>75%</th>\n",
       "      <td>2135.000000</td>\n",
       "      <td>1.625000e+06</td>\n",
       "      <td>10.000000</td>\n",
       "      <td>1.617750e+06</td>\n",
       "      <td>1.000000</td>\n",
       "      <td>26.750000</td>\n",
       "      <td>100.000000</td>\n",
       "      <td>56.750000</td>\n",
       "      <td>611.250000</td>\n",
       "    </tr>\n",
       "    <tr>\n",
       "      <th>max</th>\n",
       "      <td>3894.000000</td>\n",
       "      <td>2.000000e+06</td>\n",
       "      <td>999960.000000</td>\n",
       "      <td>3.845380e+08</td>\n",
       "      <td>242.000000</td>\n",
       "      <td>1467.000000</td>\n",
       "      <td>100.000000</td>\n",
       "      <td>570.000000</td>\n",
       "      <td>4290.000000</td>\n",
       "    </tr>\n",
       "  </tbody>\n",
       "</table>\n",
       "</div>"
      ],
      "text/plain": [
       "       merchant_code         price          stock     daily_gmv   daily_sold  \\\n",
       "count    1062.000000  1.062000e+03    1062.000000  1.062000e+03  1062.000000   \n",
       "mean     2091.317326  1.622651e+06   10479.354049  5.119869e+06     3.180791   \n",
       "std       915.227777  4.856473e+04  101278.453939  2.278007e+07    14.239942   \n",
       "min        43.000000  1.575000e+06       0.000000 -5.286600e+07   -33.000000   \n",
       "25%      1593.250000  1.600000e+06       2.000000  0.000000e+00     0.000000   \n",
       "50%      2039.000000  1.610000e+06       4.000000  0.000000e+00     0.000000   \n",
       "75%      2135.000000  1.625000e+06      10.000000  1.617750e+06     1.000000   \n",
       "max      3894.000000  2.000000e+06  999960.000000  3.845380e+08   242.000000   \n",
       "\n",
       "        daily_view       rating  total_review   total_sold  \n",
       "count  1062.000000  1062.000000   1062.000000  1062.000000  \n",
       "mean     44.287194    98.691149     52.347458   495.152542  \n",
       "std     129.024256     2.087776     67.491241   626.638576  \n",
       "min       0.000000    77.000000      1.000000     7.000000  \n",
       "25%       3.000000    98.000000     19.000000   120.250000  \n",
       "50%       9.000000    99.000000     33.000000   291.500000  \n",
       "75%      26.750000   100.000000     56.750000   611.250000  \n",
       "max    1467.000000   100.000000    570.000000  4290.000000  "
      ]
     },
     "execution_count": 23,
     "metadata": {},
     "output_type": "execute_result"
    }
   ],
   "source": [
    "samsung.describe()"
   ]
  },
  {
   "cell_type": "code",
   "execution_count": 36,
   "metadata": {},
   "outputs": [
    {
     "data": {
      "text/plain": [
       "<matplotlib.axes._subplots.AxesSubplot at 0x10a6cbe0>"
      ]
     },
     "execution_count": 36,
     "metadata": {},
     "output_type": "execute_result"
    },
    {
     "data": {
      "image/png": "[encoded data removed]",
      "text/plain": [
       "<Figure size 576x288 with 1 Axes>"
      ]
     },
     "metadata": {
      "needs_background": "light"
     },
     "output_type": "display_data"
    }
   ],
   "source": [
    "plt.figure(figsize=(8, 4))\n",
    "sns.distplot(samsung['price'], bins=40)"
   ]
  },
  {
   "cell_type": "markdown",
   "metadata": {},
   "source": [
    "## 7. Filter dataset hanya dengan 'Samsung Galaxy A10s' dan temukan 3 kota pedagang terlaris. Tunjukkan dengan beberapa boxplot distribusi harga antara kota pedagang tersebut"
   ]
  },
  {
   "cell_type": "code",
   "execution_count": 26,
   "metadata": {},
   "outputs": [
    {
     "data": {
      "text/plain": [
       "merchant_city\n",
       "Kota Administrasi Jakarta Pusat    71373\n",
       "Kab. Sleman                        57790\n",
       "Kab. Bantul                        46091\n",
       "Name: total_sold, dtype: int64"
      ]
     },
     "execution_count": 26,
     "metadata": {},
     "output_type": "execute_result"
    }
   ],
   "source": [
    "samsung.groupby('merchant_city')['total_sold'].sum().sort_values(ascending = False).head(3)"
   ]
  },
  {
   "cell_type": "code",
   "execution_count": 31,
   "metadata": {},
   "outputs": [
    {
     "data": {
      "image/png": "[encoded data removed]",
      "text/plain": [
       "<Figure size 1080x1080 with 1 Axes>"
      ]
     },
     "metadata": {
      "needs_background": "light"
     },
     "output_type": "display_data"
    }
   ],
   "source": [
    "treeCity = ['Kota Administrasi Jakarta Pusat', 'Kab. Sleman', 'Kab. Bantul']\n",
    "filterCity = bms[bms['merchant_city'].isin(treeCity)]\n",
    "plt.figure(figsize=(15,15))\n",
    "box = sns.boxplot(x='merchant_city', y='total_sold', data=filterCity)"
   ]
  },
  {
   "cell_type": "markdown",
   "metadata": {},
   "source": [
    "## 8. Ujilah perbedaan total_sold produk Samsung Galaxy A10 dengan Xiaomi Redmi 6A menggunakan t-sample test"
   ]
  },
  {
   "cell_type": "code",
   "execution_count": 32,
   "metadata": {},
   "outputs": [
    {
     "name": "stdout",
     "output_type": "stream",
     "text": [
      "samsung mean value: 495.1525423728813\n",
      "redmi mean value: 445.0147255689424\n",
      "samsung std value: 626.3434790554674\n",
      "redmi std value: 580.394664272472\n",
      "p-value 0.08442284533312362\n",
      "we accept null hypothesis\n"
     ]
    }
   ],
   "source": [
    "#melakukan uji t-test 2 sampel. antara Samsung Galaxy A10 dan Redmi 6A\n",
    "from scipy.stats import ttest_ind\n",
    "produk_samsung = bms[bms['product_type']=='Samsung Galaxy A10s']['total_sold']\n",
    "produk_redmi = bms[bms['product_type']=='Xiaomi Redmi 6A']['total_sold']\n",
    "samsung_mean = np.mean(produk_samsung)\n",
    "redmi_mean = np.mean(produk_redmi)\n",
    "print(\"samsung mean value:\",samsung_mean)\n",
    "print(\"redmi mean value:\",redmi_mean)\n",
    "samsung_std = np.std(produk_samsung)\n",
    "redmi_std = np.std(produk_redmi)\n",
    "print(\"samsung std value:\",samsung_std)\n",
    "print(\"redmi std value:\",redmi_std)\n",
    "ttest,pval = ttest_ind(produk_samsung,produk_redmi)\n",
    "print(\"p-value\",pval)\n",
    "if pval <0.05:\n",
    "  print(\"we reject null hypothesis\")\n",
    "else:\n",
    "  print(\"we accept null hypothesis\")"
   ]
  },
  {
   "cell_type": "markdown",
   "metadata": {},
   "source": [
    "## 9. Kesimpulan"
   ]
  },
  {
   "cell_type": "markdown",
   "metadata": {},
   "source": [
    "Data ini merupakan data penjualan produk handphone. Menurut data penjualan terjadi pada 11-03-2020 s/d 30-04-2020 kurang lebih selama dua bulan. Beberapa merk handphone yang terjual di seluruh indonesia. Ternyata merk handphone yang banyak terjual pertama Samsung Galaxy A10S sebanyak 525.852, kedua Xiaomi Redmi 6A sebanyak 332.426, dan ketiga Realme 6 sebanyak 277.352.\n",
    "Pada Samsung Galaxy A10S terdepat 3 daerah yang mana penjualan hanphone ini paling laris, pertama Kota Administrasi Jakarta Pusat terjual 71.373, kedua Kab. Sleman terjual 57.790, ketiga Kab. Bantul terjual 46091.\n",
    "Sekarang mencoba membandingkan antara Samsung Galaxy A10 dengan Xiaomi Redmi 6A. Untuk rata-rata hingga standart deviasi penjualan samsung lebih unggul daripada redmi"
   ]
  }
 ],
 "metadata": {
  "kernelspec": {
   "display_name": "Python 3",
   "language": "python",
   "name": "python3"
  },
  "language_info": {
   "codemirror_mode": {
    "name": "ipython",
    "version": 3
   },
   "file_extension": ".py",
   "mimetype": "text/x-python",
   "name": "python",
   "nbconvert_exporter": "python",
   "pygments_lexer": "ipython3",
   "version": "3.8.5"
  }
 },
 "nbformat": 4,
 "nbformat_minor": 4
}
