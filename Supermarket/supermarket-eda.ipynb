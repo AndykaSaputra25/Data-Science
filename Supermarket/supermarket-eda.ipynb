{
 "cells": [
  {
   "cell_type": "code",
   "execution_count": 15,
   "metadata": {
    "executionInfo": {
     "elapsed": 1521,
     "status": "ok",
     "timestamp": 1610152296084,
     "user": {
      "displayName": "Regita Putri Permata",
      "photoUrl": "https://lh3.googleusercontent.com/a-/AOh14GhzCd6_zvyWLaD1iQrW_1w5U86jNHEOuOhIPMVgUR0=s64",
      "userId": "07807283448997122753"
     },
     "user_tz": -420
    },
    "id": "7wjbRjtEJK45"
   },
   "outputs": [],
   "source": [
    "import pandas as pd\n",
    "import numpy as np\n",
    "import seaborn as sns\n",
    "import matplotlib.pyplot as plt\n",
    "%matplotlib inline\n",
    "\n",
    "from sklearn.preprocessing import StandardScaler\n",
    "from sklearn.decomposition import PCA\n",
    "from sklearn import decomposition"
   ]
  },
  {
   "cell_type": "code",
   "execution_count": 16,
   "metadata": {
    "colab": {
     "base_uri": "https://localhost:8080/",
     "height": 340
    },
    "executionInfo": {
     "elapsed": 4511,
     "status": "ok",
     "timestamp": 1610152299127,
     "user": {
      "displayName": "Regita Putri Permata",
      "photoUrl": "https://lh3.googleusercontent.com/a-/AOh14GhzCd6_zvyWLaD1iQrW_1w5U86jNHEOuOhIPMVgUR0=s64",
      "userId": "07807283448997122753"
     },
     "user_tz": -420
    },
    "id": "2LueqhOTLeaX",
    "outputId": "a2b00250-9fb9-4fa3-ff85-fb747fc4f2da"
   },
   "outputs": [
    {
     "data": {
      "text/html": [
       "<div>\n",
       "<style scoped>\n",
       "    .dataframe tbody tr th:only-of-type {\n",
       "        vertical-align: middle;\n",
       "    }\n",
       "\n",
       "    .dataframe tbody tr th {\n",
       "        vertical-align: top;\n",
       "    }\n",
       "\n",
       "    .dataframe thead th {\n",
       "        text-align: right;\n",
       "    }\n",
       "</style>\n",
       "<table border=\"1\" class=\"dataframe\">\n",
       "  <thead>\n",
       "    <tr style=\"text-align: right;\">\n",
       "      <th></th>\n",
       "      <th>Item_Weight</th>\n",
       "      <th>Item_Fat_Content</th>\n",
       "      <th>Item_Visibility</th>\n",
       "      <th>Item_Type</th>\n",
       "      <th>Item_MRP</th>\n",
       "      <th>Outlet_Identifier</th>\n",
       "      <th>Outlet_Establishment_Year</th>\n",
       "      <th>Outlet_Size</th>\n",
       "      <th>Outlet_Location_Type</th>\n",
       "      <th>Outlet_Type</th>\n",
       "      <th>Item_Outlet_Sales</th>\n",
       "    </tr>\n",
       "    <tr>\n",
       "      <th>Item_Identifier</th>\n",
       "      <th></th>\n",
       "      <th></th>\n",
       "      <th></th>\n",
       "      <th></th>\n",
       "      <th></th>\n",
       "      <th></th>\n",
       "      <th></th>\n",
       "      <th></th>\n",
       "      <th></th>\n",
       "      <th></th>\n",
       "      <th></th>\n",
       "    </tr>\n",
       "  </thead>\n",
       "  <tbody>\n",
       "    <tr>\n",
       "      <th>FDA15</th>\n",
       "      <td>9.30</td>\n",
       "      <td>Low Fat</td>\n",
       "      <td>0.016047</td>\n",
       "      <td>Dairy</td>\n",
       "      <td>249.8092</td>\n",
       "      <td>OUT049</td>\n",
       "      <td>1999</td>\n",
       "      <td>Medium</td>\n",
       "      <td>Tier 1</td>\n",
       "      <td>Supermarket Type1</td>\n",
       "      <td>3735.1380</td>\n",
       "    </tr>\n",
       "    <tr>\n",
       "      <th>DRC01</th>\n",
       "      <td>5.92</td>\n",
       "      <td>Regular</td>\n",
       "      <td>0.019278</td>\n",
       "      <td>Soft Drinks</td>\n",
       "      <td>48.2692</td>\n",
       "      <td>OUT018</td>\n",
       "      <td>2009</td>\n",
       "      <td>Medium</td>\n",
       "      <td>Tier 3</td>\n",
       "      <td>Supermarket Type2</td>\n",
       "      <td>443.4228</td>\n",
       "    </tr>\n",
       "    <tr>\n",
       "      <th>FDN15</th>\n",
       "      <td>17.50</td>\n",
       "      <td>Low Fat</td>\n",
       "      <td>0.016760</td>\n",
       "      <td>Meat</td>\n",
       "      <td>141.6180</td>\n",
       "      <td>OUT049</td>\n",
       "      <td>1999</td>\n",
       "      <td>Medium</td>\n",
       "      <td>Tier 1</td>\n",
       "      <td>Supermarket Type1</td>\n",
       "      <td>2097.2700</td>\n",
       "    </tr>\n",
       "    <tr>\n",
       "      <th>FDX07</th>\n",
       "      <td>19.20</td>\n",
       "      <td>Regular</td>\n",
       "      <td>0.000000</td>\n",
       "      <td>Fruits and Vegetables</td>\n",
       "      <td>182.0950</td>\n",
       "      <td>OUT010</td>\n",
       "      <td>1998</td>\n",
       "      <td>NaN</td>\n",
       "      <td>Tier 3</td>\n",
       "      <td>Grocery Store</td>\n",
       "      <td>732.3800</td>\n",
       "    </tr>\n",
       "    <tr>\n",
       "      <th>NCD19</th>\n",
       "      <td>8.93</td>\n",
       "      <td>Low Fat</td>\n",
       "      <td>0.000000</td>\n",
       "      <td>Household</td>\n",
       "      <td>53.8614</td>\n",
       "      <td>OUT013</td>\n",
       "      <td>1987</td>\n",
       "      <td>High</td>\n",
       "      <td>Tier 3</td>\n",
       "      <td>Supermarket Type1</td>\n",
       "      <td>994.7052</td>\n",
       "    </tr>\n",
       "  </tbody>\n",
       "</table>\n",
       "</div>"
      ],
      "text/plain": [
       "                 Item_Weight  ... Item_Outlet_Sales\n",
       "Item_Identifier               ...                  \n",
       "FDA15                   9.30  ...         3735.1380\n",
       "DRC01                   5.92  ...          443.4228\n",
       "FDN15                  17.50  ...         2097.2700\n",
       "FDX07                  19.20  ...          732.3800\n",
       "NCD19                   8.93  ...          994.7052\n",
       "\n",
       "[5 rows x 11 columns]"
      ]
     },
     "execution_count": 16,
     "metadata": {
      "tags": []
     },
     "output_type": "execute_result"
    }
   ],
   "source": [
    "bms = pd.read_csv('bms.csv', sep=';', index_col=0)\n",
    "bms.head()"
   ]
  },
  {
   "cell_type": "code",
   "execution_count": 17,
   "metadata": {
    "colab": {
     "base_uri": "https://localhost:8080/"
    },
    "executionInfo": {
     "elapsed": 4459,
     "status": "ok",
     "timestamp": 1610152299129,
     "user": {
      "displayName": "Regita Putri Permata",
      "photoUrl": "https://lh3.googleusercontent.com/a-/AOh14GhzCd6_zvyWLaD1iQrW_1w5U86jNHEOuOhIPMVgUR0=s64",
      "userId": "07807283448997122753"
     },
     "user_tz": -420
    },
    "id": "Y-LhH8EpQmr0",
    "outputId": "1cd46387-54e1-41cb-ca02-a47d17ac7bb2"
   },
   "outputs": [
    {
     "data": {
      "text/plain": [
       "Item_Weight                  float64\n",
       "Item_Fat_Content              object\n",
       "Item_Visibility              float64\n",
       "Item_Type                     object\n",
       "Item_MRP                     float64\n",
       "Outlet_Identifier             object\n",
       "Outlet_Establishment_Year      int64\n",
       "Outlet_Size                   object\n",
       "Outlet_Location_Type          object\n",
       "Outlet_Type                   object\n",
       "Item_Outlet_Sales            float64\n",
       "dtype: object"
      ]
     },
     "execution_count": 17,
     "metadata": {
      "tags": []
     },
     "output_type": "execute_result"
    }
   ],
   "source": [
    "bms.dtypes"
   ]
  },
  {
   "cell_type": "code",
   "execution_count": 18,
   "metadata": {
    "colab": {
     "base_uri": "https://localhost:8080/"
    },
    "executionInfo": {
     "elapsed": 4409,
     "status": "ok",
     "timestamp": 1610152299131,
     "user": {
      "displayName": "Regita Putri Permata",
      "photoUrl": "https://lh3.googleusercontent.com/a-/AOh14GhzCd6_zvyWLaD1iQrW_1w5U86jNHEOuOhIPMVgUR0=s64",
      "userId": "07807283448997122753"
     },
     "user_tz": -420
    },
    "id": "VPtvc6ptQvQD",
    "outputId": "2791265d-ef17-48d5-8981-f4a29b59ed15"
   },
   "outputs": [
    {
     "data": {
      "text/plain": [
       "(8523, 11)"
      ]
     },
     "execution_count": 18,
     "metadata": {
      "tags": []
     },
     "output_type": "execute_result"
    }
   ],
   "source": [
    "bms.shape"
   ]
  },
  {
   "cell_type": "code",
   "execution_count": 19,
   "metadata": {
    "colab": {
     "base_uri": "https://localhost:8080/",
     "height": 297
    },
    "executionInfo": {
     "elapsed": 4375,
     "status": "ok",
     "timestamp": 1610152299133,
     "user": {
      "displayName": "Regita Putri Permata",
      "photoUrl": "https://lh3.googleusercontent.com/a-/AOh14GhzCd6_zvyWLaD1iQrW_1w5U86jNHEOuOhIPMVgUR0=s64",
      "userId": "07807283448997122753"
     },
     "user_tz": -420
    },
    "id": "d0uO8T6xQybF",
    "outputId": "55195e1f-5d3d-4200-bb8f-81558fae5a8b"
   },
   "outputs": [
    {
     "data": {
      "text/html": [
       "<div>\n",
       "<style scoped>\n",
       "    .dataframe tbody tr th:only-of-type {\n",
       "        vertical-align: middle;\n",
       "    }\n",
       "\n",
       "    .dataframe tbody tr th {\n",
       "        vertical-align: top;\n",
       "    }\n",
       "\n",
       "    .dataframe thead th {\n",
       "        text-align: right;\n",
       "    }\n",
       "</style>\n",
       "<table border=\"1\" class=\"dataframe\">\n",
       "  <thead>\n",
       "    <tr style=\"text-align: right;\">\n",
       "      <th></th>\n",
       "      <th>Item_Weight</th>\n",
       "      <th>Item_Visibility</th>\n",
       "      <th>Item_MRP</th>\n",
       "      <th>Outlet_Establishment_Year</th>\n",
       "      <th>Item_Outlet_Sales</th>\n",
       "    </tr>\n",
       "  </thead>\n",
       "  <tbody>\n",
       "    <tr>\n",
       "      <th>count</th>\n",
       "      <td>7060.000000</td>\n",
       "      <td>8523.000000</td>\n",
       "      <td>8523.000000</td>\n",
       "      <td>8523.000000</td>\n",
       "      <td>8523.000000</td>\n",
       "    </tr>\n",
       "    <tr>\n",
       "      <th>mean</th>\n",
       "      <td>12.857645</td>\n",
       "      <td>0.066132</td>\n",
       "      <td>140.992782</td>\n",
       "      <td>1997.831867</td>\n",
       "      <td>2181.288914</td>\n",
       "    </tr>\n",
       "    <tr>\n",
       "      <th>std</th>\n",
       "      <td>4.643456</td>\n",
       "      <td>0.051598</td>\n",
       "      <td>62.275067</td>\n",
       "      <td>8.371760</td>\n",
       "      <td>1706.499616</td>\n",
       "    </tr>\n",
       "    <tr>\n",
       "      <th>min</th>\n",
       "      <td>4.555000</td>\n",
       "      <td>0.000000</td>\n",
       "      <td>31.290000</td>\n",
       "      <td>1985.000000</td>\n",
       "      <td>33.290000</td>\n",
       "    </tr>\n",
       "    <tr>\n",
       "      <th>25%</th>\n",
       "      <td>8.773750</td>\n",
       "      <td>0.026989</td>\n",
       "      <td>93.826500</td>\n",
       "      <td>1987.000000</td>\n",
       "      <td>834.247400</td>\n",
       "    </tr>\n",
       "    <tr>\n",
       "      <th>50%</th>\n",
       "      <td>12.600000</td>\n",
       "      <td>0.053931</td>\n",
       "      <td>143.012800</td>\n",
       "      <td>1999.000000</td>\n",
       "      <td>1794.331000</td>\n",
       "    </tr>\n",
       "    <tr>\n",
       "      <th>75%</th>\n",
       "      <td>16.850000</td>\n",
       "      <td>0.094585</td>\n",
       "      <td>185.643700</td>\n",
       "      <td>2004.000000</td>\n",
       "      <td>3101.296400</td>\n",
       "    </tr>\n",
       "    <tr>\n",
       "      <th>max</th>\n",
       "      <td>21.350000</td>\n",
       "      <td>0.328391</td>\n",
       "      <td>266.888400</td>\n",
       "      <td>2009.000000</td>\n",
       "      <td>13086.964800</td>\n",
       "    </tr>\n",
       "  </tbody>\n",
       "</table>\n",
       "</div>"
      ],
      "text/plain": [
       "       Item_Weight  ...  Item_Outlet_Sales\n",
       "count  7060.000000  ...        8523.000000\n",
       "mean     12.857645  ...        2181.288914\n",
       "std       4.643456  ...        1706.499616\n",
       "min       4.555000  ...          33.290000\n",
       "25%       8.773750  ...         834.247400\n",
       "50%      12.600000  ...        1794.331000\n",
       "75%      16.850000  ...        3101.296400\n",
       "max      21.350000  ...       13086.964800\n",
       "\n",
       "[8 rows x 5 columns]"
      ]
     },
     "execution_count": 19,
     "metadata": {
      "tags": []
     },
     "output_type": "execute_result"
    }
   ],
   "source": [
    "bms.describe()"
   ]
  },
  {
   "cell_type": "code",
   "execution_count": 20,
   "metadata": {
    "colab": {
     "base_uri": "https://localhost:8080/"
    },
    "executionInfo": {
     "elapsed": 4333,
     "status": "ok",
     "timestamp": 1610152299137,
     "user": {
      "displayName": "Regita Putri Permata",
      "photoUrl": "https://lh3.googleusercontent.com/a-/AOh14GhzCd6_zvyWLaD1iQrW_1w5U86jNHEOuOhIPMVgUR0=s64",
      "userId": "07807283448997122753"
     },
     "user_tz": -420
    },
    "id": "dk5nM63qQ8OS",
    "outputId": "9ecba3a1-110b-484f-a543-573cf63485ef"
   },
   "outputs": [
    {
     "data": {
      "text/plain": [
       "Low Fat    5089\n",
       "Regular    2889\n",
       "LF          316\n",
       "reg         117\n",
       "low fat     112\n",
       "Name: Item_Fat_Content, dtype: int64"
      ]
     },
     "execution_count": 20,
     "metadata": {
      "tags": []
     },
     "output_type": "execute_result"
    }
   ],
   "source": [
    "bms[\"Item_Fat_Content\"].value_counts()"
   ]
  },
  {
   "cell_type": "code",
   "execution_count": 67,
   "metadata": {
    "colab": {
     "base_uri": "https://localhost:8080/",
     "height": 317
    },
    "executionInfo": {
     "elapsed": 987,
     "status": "ok",
     "timestamp": 1610158528622,
     "user": {
      "displayName": "Regita Putri Permata",
      "photoUrl": "https://lh3.googleusercontent.com/a-/AOh14GhzCd6_zvyWLaD1iQrW_1w5U86jNHEOuOhIPMVgUR0=s64",
      "userId": "07807283448997122753"
     },
     "user_tz": -420
    },
    "id": "-SbtmhcN7IrT",
    "outputId": "de853a73-bcd7-46ca-b9b6-91c8b12fe03f"
   },
   "outputs": [
    {
     "data": {
      "text/plain": [
       "<matplotlib.axes._subplots.AxesSubplot at 0x7f2cedcccbe0>"
      ]
     },
     "execution_count": 67,
     "metadata": {
      "tags": []
     },
     "output_type": "execute_result"
    },
    {
     "data": {
      "image/png": "[encoded data removed]",
      "text/plain": [
       "<Figure size 432x288 with 1 Axes>"
      ]
     },
     "metadata": {
      "tags": []
     },
     "output_type": "display_data"
    }
   ],
   "source": [
    "bms[\"Item_Fat_Content\"].value_counts().plot(kind=\"bar\")"
   ]
  },
  {
   "cell_type": "markdown",
   "metadata": {
    "id": "HlZf3Q3GRHjw"
   },
   "source": [
    "There is an inconsistent data in Item_Fat_Content Variable, so we need to replace \"LF\" and \"low fat\" to \"Low Fat, \"reg\" to \"Regular\"."
   ]
  },
  {
   "cell_type": "code",
   "execution_count": 21,
   "metadata": {
    "executionInfo": {
     "elapsed": 4290,
     "status": "ok",
     "timestamp": 1610152299142,
     "user": {
      "displayName": "Regita Putri Permata",
      "photoUrl": "https://lh3.googleusercontent.com/a-/AOh14GhzCd6_zvyWLaD1iQrW_1w5U86jNHEOuOhIPMVgUR0=s64",
      "userId": "07807283448997122753"
     },
     "user_tz": -420
    },
    "id": "mN52pVw6REkZ"
   },
   "outputs": [],
   "source": [
    "bms[\"Item_Fat_Content\"]=bms[\"Item_Fat_Content\"].replace([\"LF\",\"low fat\"],\"Low Fat\")\n",
    "bms[\"Item_Fat_Content\"]=bms[\"Item_Fat_Content\"].replace(\"reg\",\"Regular\")"
   ]
  },
  {
   "cell_type": "code",
   "execution_count": 22,
   "metadata": {
    "colab": {
     "base_uri": "https://localhost:8080/"
    },
    "executionInfo": {
     "elapsed": 4278,
     "status": "ok",
     "timestamp": 1610152299148,
     "user": {
      "displayName": "Regita Putri Permata",
      "photoUrl": "https://lh3.googleusercontent.com/a-/AOh14GhzCd6_zvyWLaD1iQrW_1w5U86jNHEOuOhIPMVgUR0=s64",
      "userId": "07807283448997122753"
     },
     "user_tz": -420
    },
    "id": "hlt6eeYrRRX2",
    "outputId": "ff649b6b-e408-4158-8801-705a0c5d72b0"
   },
   "outputs": [
    {
     "data": {
      "text/plain": [
       "Low Fat    5517\n",
       "Regular    3006\n",
       "Name: Item_Fat_Content, dtype: int64"
      ]
     },
     "execution_count": 22,
     "metadata": {
      "tags": []
     },
     "output_type": "execute_result"
    }
   ],
   "source": [
    "bms['Item_Fat_Content'].value_counts()"
   ]
  },
  {
   "cell_type": "markdown",
   "metadata": {
    "id": "kDj-2da0Ruva"
   },
   "source": [
    "# Detecting Missing Values"
   ]
  },
  {
   "cell_type": "code",
   "execution_count": 23,
   "metadata": {
    "colab": {
     "base_uri": "https://localhost:8080/"
    },
    "executionInfo": {
     "elapsed": 4262,
     "status": "ok",
     "timestamp": 1610152299154,
     "user": {
      "displayName": "Regita Putri Permata",
      "photoUrl": "https://lh3.googleusercontent.com/a-/AOh14GhzCd6_zvyWLaD1iQrW_1w5U86jNHEOuOhIPMVgUR0=s64",
      "userId": "07807283448997122753"
     },
     "user_tz": -420
    },
    "id": "IcwQDlC5LoFg",
    "outputId": "6c8523e2-9cd2-4390-c029-69732289e1d3"
   },
   "outputs": [
    {
     "name": "stdout",
     "output_type": "stream",
     "text": [
      "<class 'pandas.core.frame.DataFrame'>\n",
      "Index: 8523 entries, FDA15 to DRG01\n",
      "Data columns (total 11 columns):\n",
      " #   Column                     Non-Null Count  Dtype  \n",
      "---  ------                     --------------  -----  \n",
      " 0   Item_Weight                7060 non-null   float64\n",
      " 1   Item_Fat_Content           8523 non-null   object \n",
      " 2   Item_Visibility            8523 non-null   float64\n",
      " 3   Item_Type                  8523 non-null   object \n",
      " 4   Item_MRP                   8523 non-null   float64\n",
      " 5   Outlet_Identifier          8523 non-null   object \n",
      " 6   Outlet_Establishment_Year  8523 non-null   int64  \n",
      " 7   Outlet_Size                6113 non-null   object \n",
      " 8   Outlet_Location_Type       8523 non-null   object \n",
      " 9   Outlet_Type                8523 non-null   object \n",
      " 10  Item_Outlet_Sales          8523 non-null   float64\n",
      "dtypes: float64(4), int64(1), object(6)\n",
      "memory usage: 799.0+ KB\n"
     ]
    }
   ],
   "source": [
    "bms.info()"
   ]
  },
  {
   "cell_type": "code",
   "execution_count": 24,
   "metadata": {
    "colab": {
     "base_uri": "https://localhost:8080/"
    },
    "executionInfo": {
     "elapsed": 4224,
     "status": "ok",
     "timestamp": 1610152299161,
     "user": {
      "displayName": "Regita Putri Permata",
      "photoUrl": "https://lh3.googleusercontent.com/a-/AOh14GhzCd6_zvyWLaD1iQrW_1w5U86jNHEOuOhIPMVgUR0=s64",
      "userId": "07807283448997122753"
     },
     "user_tz": -420
    },
    "id": "7OBkEDTGL75u",
    "outputId": "b656b770-05bf-4dfa-9705-0ab570a06613"
   },
   "outputs": [
    {
     "data": {
      "text/plain": [
       "Item_Weight                  1463\n",
       "Item_Fat_Content                0\n",
       "Item_Visibility                 0\n",
       "Item_Type                       0\n",
       "Item_MRP                        0\n",
       "Outlet_Identifier               0\n",
       "Outlet_Establishment_Year       0\n",
       "Outlet_Size                  2410\n",
       "Outlet_Location_Type            0\n",
       "Outlet_Type                     0\n",
       "Item_Outlet_Sales               0\n",
       "dtype: int64"
      ]
     },
     "execution_count": 24,
     "metadata": {
      "tags": []
     },
     "output_type": "execute_result"
    }
   ],
   "source": [
    "bms.isnull().sum()"
   ]
  },
  {
   "cell_type": "markdown",
   "metadata": {
    "id": "D-01A4IMSFAg"
   },
   "source": [
    "We know that there is some missing values in Item_Weight and Outlet_Size Variable, the persentation of missing values in Item_Weight Variable is 17.16% and 28.28% in Outlet_Sales Variable. Based on the correlation matrix above, we don't need to drop this missing values or variables but we need to cleaning this missing values by imputing with mean, median, or mode."
   ]
  },
  {
   "cell_type": "markdown",
   "metadata": {
    "id": "ZAIeNmjASHWI"
   },
   "source": [
    "# Cleaning Missing Values"
   ]
  },
  {
   "cell_type": "code",
   "execution_count": 25,
   "metadata": {
    "executionInfo": {
     "elapsed": 4160,
     "status": "ok",
     "timestamp": 1610152299163,
     "user": {
      "displayName": "Regita Putri Permata",
      "photoUrl": "https://lh3.googleusercontent.com/a-/AOh14GhzCd6_zvyWLaD1iQrW_1w5U86jNHEOuOhIPMVgUR0=s64",
      "userId": "07807283448997122753"
     },
     "user_tz": -420
    },
    "id": "hAZJcoWuSAI6"
   },
   "outputs": [],
   "source": [
    "from sklearn.impute import SimpleImputer\n",
    "from scipy.stats import mode"
   ]
  },
  {
   "cell_type": "code",
   "execution_count": 26,
   "metadata": {
    "executionInfo": {
     "elapsed": 4155,
     "status": "ok",
     "timestamp": 1610152299168,
     "user": {
      "displayName": "Regita Putri Permata",
      "photoUrl": "https://lh3.googleusercontent.com/a-/AOh14GhzCd6_zvyWLaD1iQrW_1w5U86jNHEOuOhIPMVgUR0=s64",
      "userId": "07807283448997122753"
     },
     "user_tz": -420
    },
    "id": "kSFLJZN_SYFL"
   },
   "outputs": [],
   "source": [
    "bms[\"Item_Weight\"]=bms[\"Item_Weight\"].fillna(bms[\"Item_Weight\"].mean())\n",
    "bms[\"Outlet_Size\"]=bms[\"Outlet_Size\"].fillna(bms[\"Outlet_Size\"].mode()[0])"
   ]
  },
  {
   "cell_type": "code",
   "execution_count": 27,
   "metadata": {
    "colab": {
     "base_uri": "https://localhost:8080/"
    },
    "executionInfo": {
     "elapsed": 4146,
     "status": "ok",
     "timestamp": 1610152299171,
     "user": {
      "displayName": "Regita Putri Permata",
      "photoUrl": "https://lh3.googleusercontent.com/a-/AOh14GhzCd6_zvyWLaD1iQrW_1w5U86jNHEOuOhIPMVgUR0=s64",
      "userId": "07807283448997122753"
     },
     "user_tz": -420
    },
    "id": "-ggVLTtYSf4I",
    "outputId": "4a28ce9d-cd51-44dd-c33b-1d42122682a5"
   },
   "outputs": [
    {
     "data": {
      "text/plain": [
       "Item_Weight                  0\n",
       "Item_Fat_Content             0\n",
       "Item_Visibility              0\n",
       "Item_Type                    0\n",
       "Item_MRP                     0\n",
       "Outlet_Identifier            0\n",
       "Outlet_Establishment_Year    0\n",
       "Outlet_Size                  0\n",
       "Outlet_Location_Type         0\n",
       "Outlet_Type                  0\n",
       "Item_Outlet_Sales            0\n",
       "dtype: int64"
      ]
     },
     "execution_count": 27,
     "metadata": {
      "tags": []
     },
     "output_type": "execute_result"
    }
   ],
   "source": [
    "bms.isnull().sum()"
   ]
  },
  {
   "cell_type": "markdown",
   "metadata": {
    "id": "DCzmNKWPSoxT"
   },
   "source": [
    "# Handling Duplicate Records"
   ]
  },
  {
   "cell_type": "code",
   "execution_count": 28,
   "metadata": {
    "colab": {
     "base_uri": "https://localhost:8080/",
     "height": 117
    },
    "executionInfo": {
     "elapsed": 4125,
     "status": "ok",
     "timestamp": 1610152299173,
     "user": {
      "displayName": "Regita Putri Permata",
      "photoUrl": "https://lh3.googleusercontent.com/a-/AOh14GhzCd6_zvyWLaD1iQrW_1w5U86jNHEOuOhIPMVgUR0=s64",
      "userId": "07807283448997122753"
     },
     "user_tz": -420
    },
    "id": "JmRsHWM4Slid",
    "outputId": "1ac13b09-65cc-4978-c74b-57231c9d3539"
   },
   "outputs": [
    {
     "name": "stdout",
     "output_type": "stream",
     "text": [
      "0\n"
     ]
    },
    {
     "data": {
      "text/html": [
       "<div>\n",
       "<style scoped>\n",
       "    .dataframe tbody tr th:only-of-type {\n",
       "        vertical-align: middle;\n",
       "    }\n",
       "\n",
       "    .dataframe tbody tr th {\n",
       "        vertical-align: top;\n",
       "    }\n",
       "\n",
       "    .dataframe thead th {\n",
       "        text-align: right;\n",
       "    }\n",
       "</style>\n",
       "<table border=\"1\" class=\"dataframe\">\n",
       "  <thead>\n",
       "    <tr style=\"text-align: right;\">\n",
       "      <th></th>\n",
       "      <th>Item_Weight</th>\n",
       "      <th>Item_Fat_Content</th>\n",
       "      <th>Item_Visibility</th>\n",
       "      <th>Item_Type</th>\n",
       "      <th>Item_MRP</th>\n",
       "      <th>Outlet_Identifier</th>\n",
       "      <th>Outlet_Establishment_Year</th>\n",
       "      <th>Outlet_Size</th>\n",
       "      <th>Outlet_Location_Type</th>\n",
       "      <th>Outlet_Type</th>\n",
       "      <th>Item_Outlet_Sales</th>\n",
       "    </tr>\n",
       "    <tr>\n",
       "      <th>Item_Identifier</th>\n",
       "      <th></th>\n",
       "      <th></th>\n",
       "      <th></th>\n",
       "      <th></th>\n",
       "      <th></th>\n",
       "      <th></th>\n",
       "      <th></th>\n",
       "      <th></th>\n",
       "      <th></th>\n",
       "      <th></th>\n",
       "      <th></th>\n",
       "    </tr>\n",
       "  </thead>\n",
       "  <tbody>\n",
       "  </tbody>\n",
       "</table>\n",
       "</div>"
      ],
      "text/plain": [
       "Empty DataFrame\n",
       "Columns: [Item_Weight, Item_Fat_Content, Item_Visibility, Item_Type, Item_MRP, Outlet_Identifier, Outlet_Establishment_Year, Outlet_Size, Outlet_Location_Type, Outlet_Type, Item_Outlet_Sales]\n",
       "Index: []"
      ]
     },
     "execution_count": 28,
     "metadata": {
      "tags": []
     },
     "output_type": "execute_result"
    }
   ],
   "source": [
    "dup = bms.duplicated()\n",
    "print(dup.sum())\n",
    "bms[dup]"
   ]
  },
  {
   "cell_type": "markdown",
   "metadata": {
    "id": "TeaBiJgWTMPL"
   },
   "source": [
    "We know that in this dataset, there are no duplicate data"
   ]
  },
  {
   "cell_type": "markdown",
   "metadata": {
    "id": "pgSzK_UBUQcn"
   },
   "source": [
    "# Handling Outliers"
   ]
  },
  {
   "cell_type": "code",
   "execution_count": 29,
   "metadata": {
    "colab": {
     "base_uri": "https://localhost:8080/",
     "height": 283
    },
    "executionInfo": {
     "elapsed": 4104,
     "status": "ok",
     "timestamp": 1610152299176,
     "user": {
      "displayName": "Regita Putri Permata",
      "photoUrl": "https://lh3.googleusercontent.com/a-/AOh14GhzCd6_zvyWLaD1iQrW_1w5U86jNHEOuOhIPMVgUR0=s64",
      "userId": "07807283448997122753"
     },
     "user_tz": -420
    },
    "id": "a2hutFbVTHZk",
    "outputId": "843b2b33-438c-4053-fcb3-c378b67e9a73"
   },
   "outputs": [
    {
     "data": {
      "text/plain": [
       "<matplotlib.axes._subplots.AxesSubplot at 0x7f2cfd82dcf8>"
      ]
     },
     "execution_count": 29,
     "metadata": {
      "tags": []
     },
     "output_type": "execute_result"
    },
    {
     "data": {
      "image/png": "[encoded data removed]",
      "text/plain": [
       "<Figure size 432x288 with 1 Axes>"
      ]
     },
     "metadata": {
      "needs_background": "light",
      "tags": []
     },
     "output_type": "display_data"
    }
   ],
   "source": [
    "bms.boxplot([\"Item_Outlet_Sales\"])"
   ]
  },
  {
   "cell_type": "code",
   "execution_count": 30,
   "metadata": {
    "colab": {
     "base_uri": "https://localhost:8080/"
    },
    "executionInfo": {
     "elapsed": 4068,
     "status": "ok",
     "timestamp": 1610152299177,
     "user": {
      "displayName": "Regita Putri Permata",
      "photoUrl": "https://lh3.googleusercontent.com/a-/AOh14GhzCd6_zvyWLaD1iQrW_1w5U86jNHEOuOhIPMVgUR0=s64",
      "userId": "07807283448997122753"
     },
     "user_tz": -420
    },
    "id": "5EggJyehUdb3",
    "outputId": "795bb073-4135-4455-eff5-0c4420c6bcce"
   },
   "outputs": [
    {
     "data": {
      "text/plain": [
       "count     8523.000000\n",
       "mean      2181.288914\n",
       "std       1706.499616\n",
       "min         33.290000\n",
       "25%        834.247400\n",
       "50%       1794.331000\n",
       "75%       3101.296400\n",
       "max      13086.964800\n",
       "Name: Item_Outlet_Sales, dtype: float64"
      ]
     },
     "execution_count": 30,
     "metadata": {
      "tags": []
     },
     "output_type": "execute_result"
    }
   ],
   "source": [
    "bms[\"Item_Outlet_Sales\"].describe()"
   ]
  },
  {
   "cell_type": "code",
   "execution_count": 31,
   "metadata": {
    "colab": {
     "base_uri": "https://localhost:8080/",
     "height": 282
    },
    "executionInfo": {
     "elapsed": 4036,
     "status": "ok",
     "timestamp": 1610152299180,
     "user": {
      "displayName": "Regita Putri Permata",
      "photoUrl": "https://lh3.googleusercontent.com/a-/AOh14GhzCd6_zvyWLaD1iQrW_1w5U86jNHEOuOhIPMVgUR0=s64",
      "userId": "07807283448997122753"
     },
     "user_tz": -420
    },
    "id": "lM_MAnCXUlyt",
    "outputId": "e6eb0a0a-bd2d-417b-8889-e6e298e86839"
   },
   "outputs": [
    {
     "data": {
      "text/plain": [
       "<matplotlib.axes._subplots.AxesSubplot at 0x7f2cfd7c4ef0>"
      ]
     },
     "execution_count": 31,
     "metadata": {
      "tags": []
     },
     "output_type": "execute_result"
    },
    {
     "data": {
      "image/png": "[encoded data removed]",
      "text/plain": [
       "<Figure size 432x288 with 1 Axes>"
      ]
     },
     "metadata": {
      "needs_background": "light",
      "tags": []
     },
     "output_type": "display_data"
    }
   ],
   "source": [
    "bms[\"Item_Outlet_Sales\"].plot(kind=\"hist\")"
   ]
  },
  {
   "cell_type": "markdown",
   "metadata": {
    "id": "OwwTBFx6VSDv"
   },
   "source": [
    "# Normalization"
   ]
  },
  {
   "cell_type": "code",
   "execution_count": 32,
   "metadata": {
    "colab": {
     "base_uri": "https://localhost:8080/"
    },
    "executionInfo": {
     "elapsed": 4006,
     "status": "ok",
     "timestamp": 1610152299186,
     "user": {
      "displayName": "Regita Putri Permata",
      "photoUrl": "https://lh3.googleusercontent.com/a-/AOh14GhzCd6_zvyWLaD1iQrW_1w5U86jNHEOuOhIPMVgUR0=s64",
      "userId": "07807283448997122753"
     },
     "user_tz": -420
    },
    "id": "X2hul6PLUorL",
    "outputId": "1889b979-aa1c-4639-91ae-d902a67e9675"
   },
   "outputs": [
    {
     "name": "stdout",
     "output_type": "stream",
     "text": [
      "[[0.84187169 0.97073217 1.74745381 0.13954076 0.910601  ]\n",
      " [1.64170589 0.90811123 1.48902325 1.33410274 1.01844035]\n",
      " [1.09855449 0.95691733 0.01004021 0.13954076 0.04923754]\n",
      " ...\n",
      " [0.53424315 0.59978449 0.89720755 0.73682175 0.57909963]\n",
      " [1.33644372 1.53287976 0.60797692 1.33410274 0.19672492]\n",
      " [0.45963367 0.41193591 1.05226104 0.09937163 0.82959407]]\n"
     ]
    }
   ],
   "source": [
    "from scipy import stats\n",
    "z=np.abs(stats.zscore(bms._get_numeric_data()))\n",
    "print(z)"
   ]
  },
  {
   "cell_type": "code",
   "execution_count": 33,
   "metadata": {
    "colab": {
     "base_uri": "https://localhost:8080/"
    },
    "executionInfo": {
     "elapsed": 3982,
     "status": "ok",
     "timestamp": 1610152299189,
     "user": {
      "displayName": "Regita Putri Permata",
      "photoUrl": "https://lh3.googleusercontent.com/a-/AOh14GhzCd6_zvyWLaD1iQrW_1w5U86jNHEOuOhIPMVgUR0=s64",
      "userId": "07807283448997122753"
     },
     "user_tz": -420
    },
    "id": "u1DOend-Whnk",
    "outputId": "08d8509f-544a-4082-ead5-acead8166a3e"
   },
   "outputs": [
    {
     "data": {
      "text/plain": [
       "(8523, 5)"
      ]
     },
     "execution_count": 33,
     "metadata": {
      "tags": []
     },
     "output_type": "execute_result"
    }
   ],
   "source": [
    "z.shape"
   ]
  },
  {
   "cell_type": "code",
   "execution_count": 34,
   "metadata": {
    "colab": {
     "base_uri": "https://localhost:8080/"
    },
    "executionInfo": {
     "elapsed": 3969,
     "status": "ok",
     "timestamp": 1610152299192,
     "user": {
      "displayName": "Regita Putri Permata",
      "photoUrl": "https://lh3.googleusercontent.com/a-/AOh14GhzCd6_zvyWLaD1iQrW_1w5U86jNHEOuOhIPMVgUR0=s64",
      "userId": "07807283448997122753"
     },
     "user_tz": -420
    },
    "id": "dw-DN4z3WlnB",
    "outputId": "1be9eb77-819e-4290-9dfe-41ea61b9e87d"
   },
   "outputs": [
    {
     "name": "stdout",
     "output_type": "stream",
     "text": [
      "(8338, 11)\n"
     ]
    }
   ],
   "source": [
    "bms_new=bms[(z<3).all(axis=1)]\n",
    "print(bms_new.shape)"
   ]
  },
  {
   "cell_type": "code",
   "execution_count": 35,
   "metadata": {
    "colab": {
     "base_uri": "https://localhost:8080/",
     "height": 340
    },
    "executionInfo": {
     "elapsed": 3959,
     "status": "ok",
     "timestamp": 1610152299194,
     "user": {
      "displayName": "Regita Putri Permata",
      "photoUrl": "https://lh3.googleusercontent.com/a-/AOh14GhzCd6_zvyWLaD1iQrW_1w5U86jNHEOuOhIPMVgUR0=s64",
      "userId": "07807283448997122753"
     },
     "user_tz": -420
    },
    "id": "EUPragFKWp0_",
    "outputId": "01e726ba-d3f3-43d1-93a2-d9058fe33007"
   },
   "outputs": [
    {
     "data": {
      "text/html": [
       "<div>\n",
       "<style scoped>\n",
       "    .dataframe tbody tr th:only-of-type {\n",
       "        vertical-align: middle;\n",
       "    }\n",
       "\n",
       "    .dataframe tbody tr th {\n",
       "        vertical-align: top;\n",
       "    }\n",
       "\n",
       "    .dataframe thead th {\n",
       "        text-align: right;\n",
       "    }\n",
       "</style>\n",
       "<table border=\"1\" class=\"dataframe\">\n",
       "  <thead>\n",
       "    <tr style=\"text-align: right;\">\n",
       "      <th></th>\n",
       "      <th>Item_Weight</th>\n",
       "      <th>Item_Fat_Content</th>\n",
       "      <th>Item_Visibility</th>\n",
       "      <th>Item_Type</th>\n",
       "      <th>Item_MRP</th>\n",
       "      <th>Outlet_Identifier</th>\n",
       "      <th>Outlet_Establishment_Year</th>\n",
       "      <th>Outlet_Size</th>\n",
       "      <th>Outlet_Location_Type</th>\n",
       "      <th>Outlet_Type</th>\n",
       "      <th>Item_Outlet_Sales</th>\n",
       "    </tr>\n",
       "    <tr>\n",
       "      <th>Item_Identifier</th>\n",
       "      <th></th>\n",
       "      <th></th>\n",
       "      <th></th>\n",
       "      <th></th>\n",
       "      <th></th>\n",
       "      <th></th>\n",
       "      <th></th>\n",
       "      <th></th>\n",
       "      <th></th>\n",
       "      <th></th>\n",
       "      <th></th>\n",
       "    </tr>\n",
       "  </thead>\n",
       "  <tbody>\n",
       "    <tr>\n",
       "      <th>FDA15</th>\n",
       "      <td>9.30</td>\n",
       "      <td>Low Fat</td>\n",
       "      <td>0.016047</td>\n",
       "      <td>Dairy</td>\n",
       "      <td>249.8092</td>\n",
       "      <td>OUT049</td>\n",
       "      <td>1999</td>\n",
       "      <td>Medium</td>\n",
       "      <td>Tier 1</td>\n",
       "      <td>Supermarket Type1</td>\n",
       "      <td>3735.1380</td>\n",
       "    </tr>\n",
       "    <tr>\n",
       "      <th>DRC01</th>\n",
       "      <td>5.92</td>\n",
       "      <td>Regular</td>\n",
       "      <td>0.019278</td>\n",
       "      <td>Soft Drinks</td>\n",
       "      <td>48.2692</td>\n",
       "      <td>OUT018</td>\n",
       "      <td>2009</td>\n",
       "      <td>Medium</td>\n",
       "      <td>Tier 3</td>\n",
       "      <td>Supermarket Type2</td>\n",
       "      <td>443.4228</td>\n",
       "    </tr>\n",
       "    <tr>\n",
       "      <th>FDN15</th>\n",
       "      <td>17.50</td>\n",
       "      <td>Low Fat</td>\n",
       "      <td>0.016760</td>\n",
       "      <td>Meat</td>\n",
       "      <td>141.6180</td>\n",
       "      <td>OUT049</td>\n",
       "      <td>1999</td>\n",
       "      <td>Medium</td>\n",
       "      <td>Tier 1</td>\n",
       "      <td>Supermarket Type1</td>\n",
       "      <td>2097.2700</td>\n",
       "    </tr>\n",
       "    <tr>\n",
       "      <th>FDX07</th>\n",
       "      <td>19.20</td>\n",
       "      <td>Regular</td>\n",
       "      <td>0.000000</td>\n",
       "      <td>Fruits and Vegetables</td>\n",
       "      <td>182.0950</td>\n",
       "      <td>OUT010</td>\n",
       "      <td>1998</td>\n",
       "      <td>Medium</td>\n",
       "      <td>Tier 3</td>\n",
       "      <td>Grocery Store</td>\n",
       "      <td>732.3800</td>\n",
       "    </tr>\n",
       "    <tr>\n",
       "      <th>NCD19</th>\n",
       "      <td>8.93</td>\n",
       "      <td>Low Fat</td>\n",
       "      <td>0.000000</td>\n",
       "      <td>Household</td>\n",
       "      <td>53.8614</td>\n",
       "      <td>OUT013</td>\n",
       "      <td>1987</td>\n",
       "      <td>High</td>\n",
       "      <td>Tier 3</td>\n",
       "      <td>Supermarket Type1</td>\n",
       "      <td>994.7052</td>\n",
       "    </tr>\n",
       "  </tbody>\n",
       "</table>\n",
       "</div>"
      ],
      "text/plain": [
       "                 Item_Weight  ... Item_Outlet_Sales\n",
       "Item_Identifier               ...                  \n",
       "FDA15                   9.30  ...         3735.1380\n",
       "DRC01                   5.92  ...          443.4228\n",
       "FDN15                  17.50  ...         2097.2700\n",
       "FDX07                  19.20  ...          732.3800\n",
       "NCD19                   8.93  ...          994.7052\n",
       "\n",
       "[5 rows x 11 columns]"
      ]
     },
     "execution_count": 35,
     "metadata": {
      "tags": []
     },
     "output_type": "execute_result"
    }
   ],
   "source": [
    "bms_new.head()"
   ]
  },
  {
   "cell_type": "code",
   "execution_count": 36,
   "metadata": {
    "executionInfo": {
     "elapsed": 3963,
     "status": "ok",
     "timestamp": 1610152299202,
     "user": {
      "displayName": "Regita Putri Permata",
      "photoUrl": "https://lh3.googleusercontent.com/a-/AOh14GhzCd6_zvyWLaD1iQrW_1w5U86jNHEOuOhIPMVgUR0=s64",
      "userId": "07807283448997122753"
     },
     "user_tz": -420
    },
    "id": "_rXUS-JSWsjZ"
   },
   "outputs": [],
   "source": [
    "import seaborn as sns\n",
    "sns.set(style=\"whitegrid\")"
   ]
  },
  {
   "cell_type": "code",
   "execution_count": 37,
   "metadata": {
    "colab": {
     "base_uri": "https://localhost:8080/",
     "height": 111
    },
    "executionInfo": {
     "elapsed": 3956,
     "status": "ok",
     "timestamp": 1610152299203,
     "user": {
      "displayName": "Regita Putri Permata",
      "photoUrl": "https://lh3.googleusercontent.com/a-/AOh14GhzCd6_zvyWLaD1iQrW_1w5U86jNHEOuOhIPMVgUR0=s64",
      "userId": "07807283448997122753"
     },
     "user_tz": -420
    },
    "id": "Mqn14rSRWzNF",
    "outputId": "54ab30e8-f427-4f64-df9b-549af4dd9666"
   },
   "outputs": [
    {
     "data": {
      "text/html": [
       "<div>\n",
       "<style scoped>\n",
       "    .dataframe tbody tr th:only-of-type {\n",
       "        vertical-align: middle;\n",
       "    }\n",
       "\n",
       "    .dataframe tbody tr th {\n",
       "        vertical-align: top;\n",
       "    }\n",
       "\n",
       "    .dataframe thead th {\n",
       "        text-align: right;\n",
       "    }\n",
       "</style>\n",
       "<table border=\"1\" class=\"dataframe\">\n",
       "  <thead>\n",
       "    <tr style=\"text-align: right;\">\n",
       "      <th></th>\n",
       "      <th>Keterangan:</th>\n",
       "      <th>Jumlah observasi</th>\n",
       "    </tr>\n",
       "  </thead>\n",
       "  <tbody>\n",
       "    <tr>\n",
       "      <th>0</th>\n",
       "      <td>Tidak ada outlier</td>\n",
       "      <td>8338</td>\n",
       "    </tr>\n",
       "    <tr>\n",
       "      <th>1</th>\n",
       "      <td>Outlier</td>\n",
       "      <td>185</td>\n",
       "    </tr>\n",
       "  </tbody>\n",
       "</table>\n",
       "</div>"
      ],
      "text/plain": [
       "         Keterangan:  Jumlah observasi\n",
       "0  Tidak ada outlier              8338\n",
       "1            Outlier               185"
      ]
     },
     "execution_count": 37,
     "metadata": {
      "tags": []
     },
     "output_type": "execute_result"
    }
   ],
   "source": [
    "c=pd.DataFrame([])\n",
    "c[\"Keterangan:\"]=[\"Tidak ada outlier\",\"Outlier\"]\n",
    "c[\"Jumlah observasi\"]=[len(bms_new),len(bms)-len(bms_new)]\n",
    "c"
   ]
  },
  {
   "cell_type": "code",
   "execution_count": 38,
   "metadata": {
    "colab": {
     "base_uri": "https://localhost:8080/",
     "height": 285
    },
    "executionInfo": {
     "elapsed": 3950,
     "status": "ok",
     "timestamp": 1610152299210,
     "user": {
      "displayName": "Regita Putri Permata",
      "photoUrl": "https://lh3.googleusercontent.com/a-/AOh14GhzCd6_zvyWLaD1iQrW_1w5U86jNHEOuOhIPMVgUR0=s64",
      "userId": "07807283448997122753"
     },
     "user_tz": -420
    },
    "id": "0HMuLvf_W1Xn",
    "outputId": "5477fc4c-faa5-4591-fdcf-cf9530ebb82d"
   },
   "outputs": [
    {
     "data": {
      "image/png": "[encoded data removed]",
      "text/plain": [
       "<Figure size 432x288 with 1 Axes>"
      ]
     },
     "metadata": {
      "tags": []
     },
     "output_type": "display_data"
    }
   ],
   "source": [
    "plot=sns.barplot(x=\"Keterangan:\",y=\"Jumlah observasi\",data=c)"
   ]
  },
  {
   "cell_type": "markdown",
   "metadata": {
    "id": "cwDY0jr8Y-GF"
   },
   "source": [
    "# Transformation or Recording Categorical Value"
   ]
  },
  {
   "cell_type": "code",
   "execution_count": 39,
   "metadata": {
    "colab": {
     "base_uri": "https://localhost:8080/",
     "height": 340
    },
    "executionInfo": {
     "elapsed": 3938,
     "status": "ok",
     "timestamp": 1610152299211,
     "user": {
      "displayName": "Regita Putri Permata",
      "photoUrl": "https://lh3.googleusercontent.com/a-/AOh14GhzCd6_zvyWLaD1iQrW_1w5U86jNHEOuOhIPMVgUR0=s64",
      "userId": "07807283448997122753"
     },
     "user_tz": -420
    },
    "id": "A036iRsIZFu8",
    "outputId": "7655b8f7-34a9-48bc-cc02-d70b6039f220"
   },
   "outputs": [
    {
     "data": {
      "text/html": [
       "<div>\n",
       "<style scoped>\n",
       "    .dataframe tbody tr th:only-of-type {\n",
       "        vertical-align: middle;\n",
       "    }\n",
       "\n",
       "    .dataframe tbody tr th {\n",
       "        vertical-align: top;\n",
       "    }\n",
       "\n",
       "    .dataframe thead th {\n",
       "        text-align: right;\n",
       "    }\n",
       "</style>\n",
       "<table border=\"1\" class=\"dataframe\">\n",
       "  <thead>\n",
       "    <tr style=\"text-align: right;\">\n",
       "      <th></th>\n",
       "      <th>Item_Weight</th>\n",
       "      <th>Item_Fat_Content</th>\n",
       "      <th>Item_Visibility</th>\n",
       "      <th>Item_Type</th>\n",
       "      <th>Item_MRP</th>\n",
       "      <th>Outlet_Identifier</th>\n",
       "      <th>Outlet_Establishment_Year</th>\n",
       "      <th>Outlet_Size</th>\n",
       "      <th>Outlet_Location_Type</th>\n",
       "      <th>Outlet_Type</th>\n",
       "      <th>Item_Outlet_Sales</th>\n",
       "    </tr>\n",
       "    <tr>\n",
       "      <th>Item_Identifier</th>\n",
       "      <th></th>\n",
       "      <th></th>\n",
       "      <th></th>\n",
       "      <th></th>\n",
       "      <th></th>\n",
       "      <th></th>\n",
       "      <th></th>\n",
       "      <th></th>\n",
       "      <th></th>\n",
       "      <th></th>\n",
       "      <th></th>\n",
       "    </tr>\n",
       "  </thead>\n",
       "  <tbody>\n",
       "    <tr>\n",
       "      <th>FDA15</th>\n",
       "      <td>9.30</td>\n",
       "      <td>Low Fat</td>\n",
       "      <td>0.016047</td>\n",
       "      <td>Dairy</td>\n",
       "      <td>249.8092</td>\n",
       "      <td>OUT049</td>\n",
       "      <td>1999</td>\n",
       "      <td>Medium</td>\n",
       "      <td>Tier 1</td>\n",
       "      <td>Supermarket Type1</td>\n",
       "      <td>3735.1380</td>\n",
       "    </tr>\n",
       "    <tr>\n",
       "      <th>DRC01</th>\n",
       "      <td>5.92</td>\n",
       "      <td>Regular</td>\n",
       "      <td>0.019278</td>\n",
       "      <td>Soft Drinks</td>\n",
       "      <td>48.2692</td>\n",
       "      <td>OUT018</td>\n",
       "      <td>2009</td>\n",
       "      <td>Medium</td>\n",
       "      <td>Tier 3</td>\n",
       "      <td>Supermarket Type2</td>\n",
       "      <td>443.4228</td>\n",
       "    </tr>\n",
       "    <tr>\n",
       "      <th>FDN15</th>\n",
       "      <td>17.50</td>\n",
       "      <td>Low Fat</td>\n",
       "      <td>0.016760</td>\n",
       "      <td>Meat</td>\n",
       "      <td>141.6180</td>\n",
       "      <td>OUT049</td>\n",
       "      <td>1999</td>\n",
       "      <td>Medium</td>\n",
       "      <td>Tier 1</td>\n",
       "      <td>Supermarket Type1</td>\n",
       "      <td>2097.2700</td>\n",
       "    </tr>\n",
       "    <tr>\n",
       "      <th>FDX07</th>\n",
       "      <td>19.20</td>\n",
       "      <td>Regular</td>\n",
       "      <td>0.000000</td>\n",
       "      <td>Fruits and Vegetables</td>\n",
       "      <td>182.0950</td>\n",
       "      <td>OUT010</td>\n",
       "      <td>1998</td>\n",
       "      <td>Medium</td>\n",
       "      <td>Tier 3</td>\n",
       "      <td>Grocery Store</td>\n",
       "      <td>732.3800</td>\n",
       "    </tr>\n",
       "    <tr>\n",
       "      <th>NCD19</th>\n",
       "      <td>8.93</td>\n",
       "      <td>Low Fat</td>\n",
       "      <td>0.000000</td>\n",
       "      <td>Household</td>\n",
       "      <td>53.8614</td>\n",
       "      <td>OUT013</td>\n",
       "      <td>1987</td>\n",
       "      <td>High</td>\n",
       "      <td>Tier 3</td>\n",
       "      <td>Supermarket Type1</td>\n",
       "      <td>994.7052</td>\n",
       "    </tr>\n",
       "  </tbody>\n",
       "</table>\n",
       "</div>"
      ],
      "text/plain": [
       "                 Item_Weight  ... Item_Outlet_Sales\n",
       "Item_Identifier               ...                  \n",
       "FDA15                   9.30  ...         3735.1380\n",
       "DRC01                   5.92  ...          443.4228\n",
       "FDN15                  17.50  ...         2097.2700\n",
       "FDX07                  19.20  ...          732.3800\n",
       "NCD19                   8.93  ...          994.7052\n",
       "\n",
       "[5 rows x 11 columns]"
      ]
     },
     "execution_count": 39,
     "metadata": {
      "tags": []
     },
     "output_type": "execute_result"
    }
   ],
   "source": [
    "bms_new.head()"
   ]
  },
  {
   "cell_type": "code",
   "execution_count": 40,
   "metadata": {
    "colab": {
     "base_uri": "https://localhost:8080/"
    },
    "executionInfo": {
     "elapsed": 3933,
     "status": "ok",
     "timestamp": 1610152299214,
     "user": {
      "displayName": "Regita Putri Permata",
      "photoUrl": "https://lh3.googleusercontent.com/a-/AOh14GhzCd6_zvyWLaD1iQrW_1w5U86jNHEOuOhIPMVgUR0=s64",
      "userId": "07807283448997122753"
     },
     "user_tz": -420
    },
    "id": "EGTwLXijZLin",
    "outputId": "43fa594a-1c1b-4c03-8020-3ee213df0523"
   },
   "outputs": [
    {
     "name": "stderr",
     "output_type": "stream",
     "text": [
      "/usr/local/lib/python3.6/dist-packages/ipykernel_launcher.py:6: SettingWithCopyWarning: \n",
      "A value is trying to be set on a copy of a slice from a DataFrame.\n",
      "Try using .loc[row_indexer,col_indexer] = value instead\n",
      "\n",
      "See the caveats in the documentation: https://pandas.pydata.org/pandas-docs/stable/user_guide/indexing.html#returning-a-view-versus-a-copy\n",
      "  \n"
     ]
    }
   ],
   "source": [
    "kategori=[\"Item_Fat_Content\", \"Item_Type\",\"Outlet_Identifier\",\"Outlet_Establishment_Year\",\"Outlet_Size\",\"Outlet_Location_Type\",\"Outlet_Type\"]\n",
    "from sklearn import preprocessing\n",
    "le=preprocessing.LabelEncoder()\n",
    "for feature in kategori:\n",
    "    if feature in bms_new.columns.values:\n",
    "        bms_new[feature]=le.fit_transform(bms_new[feature])"
   ]
  },
  {
   "cell_type": "code",
   "execution_count": 41,
   "metadata": {
    "colab": {
     "base_uri": "https://localhost:8080/"
    },
    "executionInfo": {
     "elapsed": 3917,
     "status": "ok",
     "timestamp": 1610152299216,
     "user": {
      "displayName": "Regita Putri Permata",
      "photoUrl": "https://lh3.googleusercontent.com/a-/AOh14GhzCd6_zvyWLaD1iQrW_1w5U86jNHEOuOhIPMVgUR0=s64",
      "userId": "07807283448997122753"
     },
     "user_tz": -420
    },
    "id": "d3onke4vZSWN",
    "outputId": "1cf16bc6-e273-404c-e45c-74c725dd314c"
   },
   "outputs": [
    {
     "data": {
      "text/plain": [
       "Item_Weight                  float64\n",
       "Item_Fat_Content               int64\n",
       "Item_Visibility              float64\n",
       "Item_Type                      int64\n",
       "Item_MRP                     float64\n",
       "Outlet_Identifier              int64\n",
       "Outlet_Establishment_Year      int64\n",
       "Outlet_Size                    int64\n",
       "Outlet_Location_Type           int64\n",
       "Outlet_Type                    int64\n",
       "Item_Outlet_Sales            float64\n",
       "dtype: object"
      ]
     },
     "execution_count": 41,
     "metadata": {
      "tags": []
     },
     "output_type": "execute_result"
    }
   ],
   "source": [
    "bms_new.dtypes"
   ]
  },
  {
   "cell_type": "markdown",
   "metadata": {
    "id": "3AeDVly4X6bw"
   },
   "source": [
    "# Feature Selection"
   ]
  },
  {
   "cell_type": "code",
   "execution_count": 42,
   "metadata": {
    "colab": {
     "base_uri": "https://localhost:8080/"
    },
    "executionInfo": {
     "elapsed": 3910,
     "status": "ok",
     "timestamp": 1610152299220,
     "user": {
      "displayName": "Regita Putri Permata",
      "photoUrl": "https://lh3.googleusercontent.com/a-/AOh14GhzCd6_zvyWLaD1iQrW_1w5U86jNHEOuOhIPMVgUR0=s64",
      "userId": "07807283448997122753"
     },
     "user_tz": -420
    },
    "id": "_dZC0phFXBav",
    "outputId": "622471f1-b82d-4cf1-ed4a-e51f498b324a"
   },
   "outputs": [
    {
     "data": {
      "text/plain": [
       "(5, 8338)"
      ]
     },
     "execution_count": 42,
     "metadata": {
      "tags": []
     },
     "output_type": "execute_result"
    }
   ],
   "source": [
    "bmsx=np.array([bms_new[\"Item_Weight\"],bms_new[\"Item_Fat_Content\"],bms_new[\"Item_Visibility\"],bms_new['Item_MRP'],bms_new[\"Outlet_Size\"]])\n",
    "bmsx.shape"
   ]
  },
  {
   "cell_type": "code",
   "execution_count": 43,
   "metadata": {
    "colab": {
     "base_uri": "https://localhost:8080/"
    },
    "executionInfo": {
     "elapsed": 3903,
     "status": "ok",
     "timestamp": 1610152299223,
     "user": {
      "displayName": "Regita Putri Permata",
      "photoUrl": "https://lh3.googleusercontent.com/a-/AOh14GhzCd6_zvyWLaD1iQrW_1w5U86jNHEOuOhIPMVgUR0=s64",
      "userId": "07807283448997122753"
     },
     "user_tz": -420
    },
    "id": "3p8x22OvYfNe",
    "outputId": "02ebd278-d354-42df-d6d6-18319dfd7de7"
   },
   "outputs": [
    {
     "data": {
      "text/plain": [
       "array([[9.30000000e+00, 5.92000000e+00, 1.75000000e+01, ...,\n",
       "        1.06000000e+01, 7.21000000e+00, 1.48000000e+01],\n",
       "       [0.00000000e+00, 1.00000000e+00, 0.00000000e+00, ...,\n",
       "        0.00000000e+00, 1.00000000e+00, 0.00000000e+00],\n",
       "       [1.60473010e-02, 1.92782160e-02, 1.67600750e-02, ...,\n",
       "        3.51862710e-02, 1.45220646e-01, 4.48782800e-02],\n",
       "       [2.49809200e+02, 4.82692000e+01, 1.41618000e+02, ...,\n",
       "        8.51224000e+01, 1.03133200e+02, 7.54670000e+01],\n",
       "       [1.00000000e+00, 1.00000000e+00, 1.00000000e+00, ...,\n",
       "        2.00000000e+00, 1.00000000e+00, 2.00000000e+00]])"
      ]
     },
     "execution_count": 43,
     "metadata": {
      "tags": []
     },
     "output_type": "execute_result"
    }
   ],
   "source": [
    "bmsx"
   ]
  },
  {
   "cell_type": "code",
   "execution_count": 44,
   "metadata": {
    "colab": {
     "base_uri": "https://localhost:8080/"
    },
    "executionInfo": {
     "elapsed": 3898,
     "status": "ok",
     "timestamp": 1610152299225,
     "user": {
      "displayName": "Regita Putri Permata",
      "photoUrl": "https://lh3.googleusercontent.com/a-/AOh14GhzCd6_zvyWLaD1iQrW_1w5U86jNHEOuOhIPMVgUR0=s64",
      "userId": "07807283448997122753"
     },
     "user_tz": -420
    },
    "id": "NwL5Oq49YlTk",
    "outputId": "7566ec56-9d99-4736-fef7-c11c707508a1"
   },
   "outputs": [
    {
     "data": {
      "text/plain": [
       "(8338, 5)"
      ]
     },
     "execution_count": 44,
     "metadata": {
      "tags": []
     },
     "output_type": "execute_result"
    }
   ],
   "source": [
    "bmsxt=bmsx.transpose()\n",
    "bmsxt.shape"
   ]
  },
  {
   "cell_type": "code",
   "execution_count": 45,
   "metadata": {
    "colab": {
     "base_uri": "https://localhost:8080/"
    },
    "executionInfo": {
     "elapsed": 3900,
     "status": "ok",
     "timestamp": 1610152299235,
     "user": {
      "displayName": "Regita Putri Permata",
      "photoUrl": "https://lh3.googleusercontent.com/a-/AOh14GhzCd6_zvyWLaD1iQrW_1w5U86jNHEOuOhIPMVgUR0=s64",
      "userId": "07807283448997122753"
     },
     "user_tz": -420
    },
    "id": "h37auNedZlwH",
    "outputId": "7296dcec-d33e-4f05-e518-ff226788bba2"
   },
   "outputs": [
    {
     "data": {
      "text/plain": [
       "array([[-0.8371775 , -0.73664489, -1.0115072 ,  1.77183095, -0.27887393],\n",
       "       [-1.63203555,  1.35750619, -0.94331963, -1.48293919, -0.27887393],\n",
       "       [ 1.09117635, -0.73664489, -0.9964643 ,  0.02459721, -0.27887393],\n",
       "       ...,\n",
       "       [-0.53146287, -0.73664489, -0.60758452, -0.88777846,  1.38320672],\n",
       "       [-1.32867257,  1.35750619,  1.71466062, -0.59691305, -0.27887393],\n",
       "       [ 0.45623057, -0.73664489, -0.40303734, -1.04370833,  1.38320672]])"
      ]
     },
     "execution_count": 45,
     "metadata": {
      "tags": []
     },
     "output_type": "execute_result"
    }
   ],
   "source": [
    "bms_std=StandardScaler().fit_transform(bmsxt)\n",
    "bms_std"
   ]
  },
  {
   "cell_type": "code",
   "execution_count": 46,
   "metadata": {
    "executionInfo": {
     "elapsed": 3908,
     "status": "ok",
     "timestamp": 1610152299247,
     "user": {
      "displayName": "Regita Putri Permata",
      "photoUrl": "https://lh3.googleusercontent.com/a-/AOh14GhzCd6_zvyWLaD1iQrW_1w5U86jNHEOuOhIPMVgUR0=s64",
      "userId": "07807283448997122753"
     },
     "user_tz": -420
    },
    "id": "MSbRna_rZpmw"
   },
   "outputs": [],
   "source": [
    "pcafs=PCA(n_components=0.70,whiten=True)\n",
    "bmsfs_pca=pcafs.fit_transform(bms_std)"
   ]
  },
  {
   "cell_type": "code",
   "execution_count": 47,
   "metadata": {
    "colab": {
     "base_uri": "https://localhost:8080/"
    },
    "executionInfo": {
     "elapsed": 3904,
     "status": "ok",
     "timestamp": 1610152299250,
     "user": {
      "displayName": "Regita Putri Permata",
      "photoUrl": "https://lh3.googleusercontent.com/a-/AOh14GhzCd6_zvyWLaD1iQrW_1w5U86jNHEOuOhIPMVgUR0=s64",
      "userId": "07807283448997122753"
     },
     "user_tz": -420
    },
    "id": "jWCIZ_ANZ0Hc",
    "outputId": "7f2ce2dd-aea3-43a8-c840-36d397c79e2c"
   },
   "outputs": [
    {
     "name": "stdout",
     "output_type": "stream",
     "text": [
      "Original number of features: 5\n",
      "Reduced numer of features: 4\n"
     ]
    }
   ],
   "source": [
    "print('Original number of features:', bms_std.shape[1])\n",
    "print('Reduced numer of features:', bmsfs_pca.shape[1])"
   ]
  },
  {
   "cell_type": "code",
   "execution_count": 48,
   "metadata": {
    "colab": {
     "base_uri": "https://localhost:8080/",
     "height": 419
    },
    "executionInfo": {
     "elapsed": 3897,
     "status": "ok",
     "timestamp": 1610152299256,
     "user": {
      "displayName": "Regita Putri Permata",
      "photoUrl": "https://lh3.googleusercontent.com/a-/AOh14GhzCd6_zvyWLaD1iQrW_1w5U86jNHEOuOhIPMVgUR0=s64",
      "userId": "07807283448997122753"
     },
     "user_tz": -420
    },
    "id": "4TL1tkPdZ3Zw",
    "outputId": "d3632f1e-e610-4f90-d560-b5a562d0c282"
   },
   "outputs": [
    {
     "data": {
      "text/html": [
       "<div>\n",
       "<style scoped>\n",
       "    .dataframe tbody tr th:only-of-type {\n",
       "        vertical-align: middle;\n",
       "    }\n",
       "\n",
       "    .dataframe tbody tr th {\n",
       "        vertical-align: top;\n",
       "    }\n",
       "\n",
       "    .dataframe thead th {\n",
       "        text-align: right;\n",
       "    }\n",
       "</style>\n",
       "<table border=\"1\" class=\"dataframe\">\n",
       "  <thead>\n",
       "    <tr style=\"text-align: right;\">\n",
       "      <th></th>\n",
       "      <th>PC1</th>\n",
       "      <th>PC2</th>\n",
       "      <th>PC3</th>\n",
       "      <th>PC4</th>\n",
       "    </tr>\n",
       "  </thead>\n",
       "  <tbody>\n",
       "    <tr>\n",
       "      <th>0</th>\n",
       "      <td>-0.912433</td>\n",
       "      <td>0.546175</td>\n",
       "      <td>0.290143</td>\n",
       "      <td>2.055451</td>\n",
       "    </tr>\n",
       "    <tr>\n",
       "      <th>1</th>\n",
       "      <td>0.418725</td>\n",
       "      <td>-2.355724</td>\n",
       "      <td>0.592925</td>\n",
       "      <td>0.338264</td>\n",
       "    </tr>\n",
       "    <tr>\n",
       "      <th>2</th>\n",
       "      <td>-1.441137</td>\n",
       "      <td>0.525621</td>\n",
       "      <td>-0.212325</td>\n",
       "      <td>-0.392709</td>\n",
       "    </tr>\n",
       "    <tr>\n",
       "      <th>3</th>\n",
       "      <td>-0.733764</td>\n",
       "      <td>1.033857</td>\n",
       "      <td>1.395953</td>\n",
       "      <td>-0.405072</td>\n",
       "    </tr>\n",
       "    <tr>\n",
       "      <th>4</th>\n",
       "      <td>-1.811051</td>\n",
       "      <td>-2.231591</td>\n",
       "      <td>0.419211</td>\n",
       "      <td>-0.000375</td>\n",
       "    </tr>\n",
       "    <tr>\n",
       "      <th>...</th>\n",
       "      <td>...</td>\n",
       "      <td>...</td>\n",
       "      <td>...</td>\n",
       "      <td>...</td>\n",
       "    </tr>\n",
       "    <tr>\n",
       "      <th>8333</th>\n",
       "      <td>-0.909913</td>\n",
       "      <td>-0.550853</td>\n",
       "      <td>1.188352</td>\n",
       "      <td>1.557060</td>\n",
       "    </tr>\n",
       "    <tr>\n",
       "      <th>8334</th>\n",
       "      <td>0.629122</td>\n",
       "      <td>-1.238035</td>\n",
       "      <td>0.897021</td>\n",
       "      <td>0.336711</td>\n",
       "    </tr>\n",
       "    <tr>\n",
       "      <th>8335</th>\n",
       "      <td>-0.012503</td>\n",
       "      <td>-0.597001</td>\n",
       "      <td>-1.701556</td>\n",
       "      <td>0.339143</td>\n",
       "    </tr>\n",
       "    <tr>\n",
       "      <th>8336</th>\n",
       "      <td>2.045007</td>\n",
       "      <td>-1.169950</td>\n",
       "      <td>0.780045</td>\n",
       "      <td>-0.190434</td>\n",
       "    </tr>\n",
       "    <tr>\n",
       "      <th>8337</th>\n",
       "      <td>-0.158945</td>\n",
       "      <td>-0.063548</td>\n",
       "      <td>-1.729919</td>\n",
       "      <td>-0.522253</td>\n",
       "    </tr>\n",
       "  </tbody>\n",
       "</table>\n",
       "<p>8338 rows × 4 columns</p>\n",
       "</div>"
      ],
      "text/plain": [
       "           PC1       PC2       PC3       PC4\n",
       "0    -0.912433  0.546175  0.290143  2.055451\n",
       "1     0.418725 -2.355724  0.592925  0.338264\n",
       "2    -1.441137  0.525621 -0.212325 -0.392709\n",
       "3    -0.733764  1.033857  1.395953 -0.405072\n",
       "4    -1.811051 -2.231591  0.419211 -0.000375\n",
       "...        ...       ...       ...       ...\n",
       "8333 -0.909913 -0.550853  1.188352  1.557060\n",
       "8334  0.629122 -1.238035  0.897021  0.336711\n",
       "8335 -0.012503 -0.597001 -1.701556  0.339143\n",
       "8336  2.045007 -1.169950  0.780045 -0.190434\n",
       "8337 -0.158945 -0.063548 -1.729919 -0.522253\n",
       "\n",
       "[8338 rows x 4 columns]"
      ]
     },
     "execution_count": 48,
     "metadata": {
      "tags": []
     },
     "output_type": "execute_result"
    }
   ],
   "source": [
    "datafs_pca=pd.DataFrame(bmsfs_pca, columns=[\"PC1\",\"PC2\",\"PC3\",\"PC4\"])\n",
    "datafs_pca"
   ]
  },
  {
   "cell_type": "markdown",
   "metadata": {
    "id": "ryGwnSQuaCro"
   },
   "source": [
    "# Feature Extraction"
   ]
  },
  {
   "cell_type": "code",
   "execution_count": 49,
   "metadata": {
    "executionInfo": {
     "elapsed": 3896,
     "status": "ok",
     "timestamp": 1610152299259,
     "user": {
      "displayName": "Regita Putri Permata",
      "photoUrl": "https://lh3.googleusercontent.com/a-/AOh14GhzCd6_zvyWLaD1iQrW_1w5U86jNHEOuOhIPMVgUR0=s64",
      "userId": "07807283448997122753"
     },
     "user_tz": -420
    },
    "id": "PySfcgD3Z5gb"
   },
   "outputs": [],
   "source": [
    "pcafe=decomposition.PCA(n_components=3)\n",
    "bmsfe_pca=pcafe.fit_transform(bms_std)"
   ]
  },
  {
   "cell_type": "code",
   "execution_count": 50,
   "metadata": {
    "colab": {
     "base_uri": "https://localhost:8080/"
    },
    "executionInfo": {
     "elapsed": 3892,
     "status": "ok",
     "timestamp": 1610152299262,
     "user": {
      "displayName": "Regita Putri Permata",
      "photoUrl": "https://lh3.googleusercontent.com/a-/AOh14GhzCd6_zvyWLaD1iQrW_1w5U86jNHEOuOhIPMVgUR0=s64",
      "userId": "07807283448997122753"
     },
     "user_tz": -420
    },
    "id": "Sa96SN6aaMQ7",
    "outputId": "4f93c385-74df-4264-ae44-382b02355447"
   },
   "outputs": [
    {
     "name": "stdout",
     "output_type": "stream",
     "text": [
      "Original number of features: 5\n",
      "Reduced numer of features: 3\n"
     ]
    }
   ],
   "source": [
    "print('Original number of features:', bms_std.shape[1])\n",
    "print('Reduced numer of features:', bmsfe_pca.shape[1])"
   ]
  },
  {
   "cell_type": "code",
   "execution_count": 51,
   "metadata": {
    "colab": {
     "base_uri": "https://localhost:8080/",
     "height": 419
    },
    "executionInfo": {
     "elapsed": 3888,
     "status": "ok",
     "timestamp": 1610152299267,
     "user": {
      "displayName": "Regita Putri Permata",
      "photoUrl": "https://lh3.googleusercontent.com/a-/AOh14GhzCd6_zvyWLaD1iQrW_1w5U86jNHEOuOhIPMVgUR0=s64",
      "userId": "07807283448997122753"
     },
     "user_tz": -420
    },
    "id": "2w_-rT6IaQ3_",
    "outputId": "587487ee-f3fd-455c-dc82-15f5450c0ea4"
   },
   "outputs": [
    {
     "data": {
      "text/html": [
       "<div>\n",
       "<style scoped>\n",
       "    .dataframe tbody tr th:only-of-type {\n",
       "        vertical-align: middle;\n",
       "    }\n",
       "\n",
       "    .dataframe tbody tr th {\n",
       "        vertical-align: top;\n",
       "    }\n",
       "\n",
       "    .dataframe thead th {\n",
       "        text-align: right;\n",
       "    }\n",
       "</style>\n",
       "<table border=\"1\" class=\"dataframe\">\n",
       "  <thead>\n",
       "    <tr style=\"text-align: right;\">\n",
       "      <th></th>\n",
       "      <th>PC1</th>\n",
       "      <th>PC2</th>\n",
       "      <th>PC3</th>\n",
       "    </tr>\n",
       "  </thead>\n",
       "  <tbody>\n",
       "    <tr>\n",
       "      <th>0</th>\n",
       "      <td>-0.944303</td>\n",
       "      <td>0.552666</td>\n",
       "      <td>0.290285</td>\n",
       "    </tr>\n",
       "    <tr>\n",
       "      <th>1</th>\n",
       "      <td>0.433350</td>\n",
       "      <td>-2.383720</td>\n",
       "      <td>0.593214</td>\n",
       "    </tr>\n",
       "    <tr>\n",
       "      <th>2</th>\n",
       "      <td>-1.491475</td>\n",
       "      <td>0.531868</td>\n",
       "      <td>-0.212429</td>\n",
       "    </tr>\n",
       "    <tr>\n",
       "      <th>3</th>\n",
       "      <td>-0.759394</td>\n",
       "      <td>1.046143</td>\n",
       "      <td>1.396634</td>\n",
       "    </tr>\n",
       "    <tr>\n",
       "      <th>4</th>\n",
       "      <td>-1.874310</td>\n",
       "      <td>-2.258112</td>\n",
       "      <td>0.419416</td>\n",
       "    </tr>\n",
       "    <tr>\n",
       "      <th>...</th>\n",
       "      <td>...</td>\n",
       "      <td>...</td>\n",
       "      <td>...</td>\n",
       "    </tr>\n",
       "    <tr>\n",
       "      <th>8333</th>\n",
       "      <td>-0.941696</td>\n",
       "      <td>-0.557400</td>\n",
       "      <td>1.188931</td>\n",
       "    </tr>\n",
       "    <tr>\n",
       "      <th>8334</th>\n",
       "      <td>0.651097</td>\n",
       "      <td>-1.252748</td>\n",
       "      <td>0.897458</td>\n",
       "    </tr>\n",
       "    <tr>\n",
       "      <th>8335</th>\n",
       "      <td>-0.012940</td>\n",
       "      <td>-0.604096</td>\n",
       "      <td>-1.702386</td>\n",
       "    </tr>\n",
       "    <tr>\n",
       "      <th>8336</th>\n",
       "      <td>2.116437</td>\n",
       "      <td>-1.183854</td>\n",
       "      <td>0.780425</td>\n",
       "    </tr>\n",
       "    <tr>\n",
       "      <th>8337</th>\n",
       "      <td>-0.164497</td>\n",
       "      <td>-0.064304</td>\n",
       "      <td>-1.730762</td>\n",
       "    </tr>\n",
       "  </tbody>\n",
       "</table>\n",
       "<p>8338 rows × 3 columns</p>\n",
       "</div>"
      ],
      "text/plain": [
       "           PC1       PC2       PC3\n",
       "0    -0.944303  0.552666  0.290285\n",
       "1     0.433350 -2.383720  0.593214\n",
       "2    -1.491475  0.531868 -0.212429\n",
       "3    -0.759394  1.046143  1.396634\n",
       "4    -1.874310 -2.258112  0.419416\n",
       "...        ...       ...       ...\n",
       "8333 -0.941696 -0.557400  1.188931\n",
       "8334  0.651097 -1.252748  0.897458\n",
       "8335 -0.012940 -0.604096 -1.702386\n",
       "8336  2.116437 -1.183854  0.780425\n",
       "8337 -0.164497 -0.064304 -1.730762\n",
       "\n",
       "[8338 rows x 3 columns]"
      ]
     },
     "execution_count": 51,
     "metadata": {
      "tags": []
     },
     "output_type": "execute_result"
    }
   ],
   "source": [
    "datafe_pca=pd.DataFrame(bmsfe_pca, columns=[\"PC1\",\"PC2\", \"PC3\"])\n",
    "datafe_pca"
   ]
  },
  {
   "cell_type": "markdown",
   "metadata": {
    "id": "tThWibtNacKF"
   },
   "source": [
    "## Let's take a look distributed"
   ]
  },
  {
   "cell_type": "code",
   "execution_count": 52,
   "metadata": {
    "colab": {
     "base_uri": "https://localhost:8080/",
     "height": 835
    },
    "executionInfo": {
     "elapsed": 4337,
     "status": "ok",
     "timestamp": 1610152299727,
     "user": {
      "displayName": "Regita Putri Permata",
      "photoUrl": "https://lh3.googleusercontent.com/a-/AOh14GhzCd6_zvyWLaD1iQrW_1w5U86jNHEOuOhIPMVgUR0=s64",
      "userId": "07807283448997122753"
     },
     "user_tz": -420
    },
    "id": "Y7puim-0aS0Z",
    "outputId": "a64deff1-cf91-4fb0-d4b4-c10359066df7"
   },
   "outputs": [
    {
     "name": "stdout",
     "output_type": "stream",
     "text": [
      "count     8523.000000\n",
      "mean      2181.288914\n",
      "std       1706.499616\n",
      "min         33.290000\n",
      "25%        834.247400\n",
      "50%       1794.331000\n",
      "75%       3101.296400\n",
      "max      13086.964800\n",
      "Name: Item_Outlet_Sales, dtype: float64\n"
     ]
    },
    {
     "name": "stderr",
     "output_type": "stream",
     "text": [
      "/usr/local/lib/python3.6/dist-packages/seaborn/distributions.py:2551: FutureWarning: `distplot` is a deprecated function and will be removed in a future version. Please adapt your code to use either `displot` (a figure-level function with similar flexibility) or `histplot` (an axes-level function for histograms).\n",
      "  warnings.warn(msg, FutureWarning)\n"
     ]
    },
    {
     "data": {
      "text/plain": [
       "<matplotlib.axes._subplots.AxesSubplot at 0x7f2cfd20de10>"
      ]
     },
     "execution_count": 52,
     "metadata": {
      "tags": []
     },
     "output_type": "execute_result"
    },
    {
     "data": {
      "image/png": "[encoded data removed]",
      "text/plain": [
       "<Figure size 1080x720 with 1 Axes>"
      ]
     },
     "metadata": {
      "tags": []
     },
     "output_type": "display_data"
    }
   ],
   "source": [
    "print(bms['Item_Outlet_Sales'].describe())\n",
    "plt.figure(figsize=(15, 10))\n",
    "sns.distplot(bms['Item_Outlet_Sales'], color='g', bins=100, hist_kws={'alpha': 0.4})"
   ]
  },
  {
   "cell_type": "code",
   "execution_count": null,
   "metadata": {
    "id": "uTK4iFq_-TI-"
   },
   "outputs": [],
   "source": []
  },
  {
   "cell_type": "markdown",
   "metadata": {
    "id": "X-HnRjEtbmwe"
   },
   "source": [
    "From the visualization above, it can be seen that the Item Outlet Sales skewed right"
   ]
  },
  {
   "cell_type": "markdown",
   "metadata": {
    "id": "jHsOJzg9dCjN"
   },
   "source": [
    "# Numerical Data Distribution"
   ]
  },
  {
   "cell_type": "code",
   "execution_count": 53,
   "metadata": {
    "colab": {
     "base_uri": "https://localhost:8080/"
    },
    "executionInfo": {
     "elapsed": 4325,
     "status": "ok",
     "timestamp": 1610152299730,
     "user": {
      "displayName": "Regita Putri Permata",
      "photoUrl": "https://lh3.googleusercontent.com/a-/AOh14GhzCd6_zvyWLaD1iQrW_1w5U86jNHEOuOhIPMVgUR0=s64",
      "userId": "07807283448997122753"
     },
     "user_tz": -420
    },
    "id": "V5C5WaGibbky",
    "outputId": "5cd471b8-48fd-449e-a56f-d836dfa86ced"
   },
   "outputs": [
    {
     "data": {
      "text/plain": [
       "[dtype('O'), dtype('float64'), dtype('int64')]"
      ]
     },
     "execution_count": 53,
     "metadata": {
      "tags": []
     },
     "output_type": "execute_result"
    }
   ],
   "source": [
    "list(set(bms.dtypes.to_list()))"
   ]
  },
  {
   "cell_type": "code",
   "execution_count": 54,
   "metadata": {
    "colab": {
     "base_uri": "https://localhost:8080/",
     "height": 235
    },
    "executionInfo": {
     "elapsed": 4318,
     "status": "ok",
     "timestamp": 1610152299734,
     "user": {
      "displayName": "Regita Putri Permata",
      "photoUrl": "https://lh3.googleusercontent.com/a-/AOh14GhzCd6_zvyWLaD1iQrW_1w5U86jNHEOuOhIPMVgUR0=s64",
      "userId": "07807283448997122753"
     },
     "user_tz": -420
    },
    "id": "wyO_BapLdOSG",
    "outputId": "b3e5d387-342d-419d-b200-3668416ba3b9"
   },
   "outputs": [
    {
     "data": {
      "text/html": [
       "<div>\n",
       "<style scoped>\n",
       "    .dataframe tbody tr th:only-of-type {\n",
       "        vertical-align: middle;\n",
       "    }\n",
       "\n",
       "    .dataframe tbody tr th {\n",
       "        vertical-align: top;\n",
       "    }\n",
       "\n",
       "    .dataframe thead th {\n",
       "        text-align: right;\n",
       "    }\n",
       "</style>\n",
       "<table border=\"1\" class=\"dataframe\">\n",
       "  <thead>\n",
       "    <tr style=\"text-align: right;\">\n",
       "      <th></th>\n",
       "      <th>Item_Weight</th>\n",
       "      <th>Item_Visibility</th>\n",
       "      <th>Item_MRP</th>\n",
       "      <th>Outlet_Establishment_Year</th>\n",
       "      <th>Item_Outlet_Sales</th>\n",
       "    </tr>\n",
       "    <tr>\n",
       "      <th>Item_Identifier</th>\n",
       "      <th></th>\n",
       "      <th></th>\n",
       "      <th></th>\n",
       "      <th></th>\n",
       "      <th></th>\n",
       "    </tr>\n",
       "  </thead>\n",
       "  <tbody>\n",
       "    <tr>\n",
       "      <th>FDA15</th>\n",
       "      <td>9.30</td>\n",
       "      <td>0.016047</td>\n",
       "      <td>249.8092</td>\n",
       "      <td>1999</td>\n",
       "      <td>3735.1380</td>\n",
       "    </tr>\n",
       "    <tr>\n",
       "      <th>DRC01</th>\n",
       "      <td>5.92</td>\n",
       "      <td>0.019278</td>\n",
       "      <td>48.2692</td>\n",
       "      <td>2009</td>\n",
       "      <td>443.4228</td>\n",
       "    </tr>\n",
       "    <tr>\n",
       "      <th>FDN15</th>\n",
       "      <td>17.50</td>\n",
       "      <td>0.016760</td>\n",
       "      <td>141.6180</td>\n",
       "      <td>1999</td>\n",
       "      <td>2097.2700</td>\n",
       "    </tr>\n",
       "    <tr>\n",
       "      <th>FDX07</th>\n",
       "      <td>19.20</td>\n",
       "      <td>0.000000</td>\n",
       "      <td>182.0950</td>\n",
       "      <td>1998</td>\n",
       "      <td>732.3800</td>\n",
       "    </tr>\n",
       "    <tr>\n",
       "      <th>NCD19</th>\n",
       "      <td>8.93</td>\n",
       "      <td>0.000000</td>\n",
       "      <td>53.8614</td>\n",
       "      <td>1987</td>\n",
       "      <td>994.7052</td>\n",
       "    </tr>\n",
       "  </tbody>\n",
       "</table>\n",
       "</div>"
      ],
      "text/plain": [
       "                 Item_Weight  ...  Item_Outlet_Sales\n",
       "Item_Identifier               ...                   \n",
       "FDA15                   9.30  ...          3735.1380\n",
       "DRC01                   5.92  ...           443.4228\n",
       "FDN15                  17.50  ...          2097.2700\n",
       "FDX07                  19.20  ...           732.3800\n",
       "NCD19                   8.93  ...           994.7052\n",
       "\n",
       "[5 rows x 5 columns]"
      ]
     },
     "execution_count": 54,
     "metadata": {
      "tags": []
     },
     "output_type": "execute_result"
    }
   ],
   "source": [
    "bms_num = bms.select_dtypes(include = ['float64', 'int64'])\n",
    "bms_num.head()"
   ]
  },
  {
   "cell_type": "markdown",
   "metadata": {
    "id": "GFkByoKNdoSM"
   },
   "source": [
    "let's plot them all"
   ]
  },
  {
   "cell_type": "code",
   "execution_count": 55,
   "metadata": {
    "colab": {
     "base_uri": "https://localhost:8080/",
     "height": 1000
    },
    "executionInfo": {
     "elapsed": 6748,
     "status": "ok",
     "timestamp": 1610152302175,
     "user": {
      "displayName": "Regita Putri Permata",
      "photoUrl": "https://lh3.googleusercontent.com/a-/AOh14GhzCd6_zvyWLaD1iQrW_1w5U86jNHEOuOhIPMVgUR0=s64",
      "userId": "07807283448997122753"
     },
     "user_tz": -420
    },
    "id": "RtbWK_T6deS5",
    "outputId": "be247316-11cd-4424-fc79-c23f39a59668"
   },
   "outputs": [
    {
     "data": {
      "text/plain": [
       "array([[<matplotlib.axes._subplots.AxesSubplot object at 0x7f2cf8989cf8>,\n",
       "        <matplotlib.axes._subplots.AxesSubplot object at 0x7f2cf857cc88>],\n",
       "       [<matplotlib.axes._subplots.AxesSubplot object at 0x7f2cf85b4320>,\n",
       "        <matplotlib.axes._subplots.AxesSubplot object at 0x7f2cf8563978>],\n",
       "       [<matplotlib.axes._subplots.AxesSubplot object at 0x7f2cf8515fd0>,\n",
       "        <matplotlib.axes._subplots.AxesSubplot object at 0x7f2cf84d0668>]],\n",
       "      dtype=object)"
      ]
     },
     "execution_count": 55,
     "metadata": {
      "tags": []
     },
     "output_type": "execute_result"
    },
    {
     "data": {
      "image/png": "[encoded data removed]",
      "text/plain": [
       "<Figure size 1152x1440 with 6 Axes>"
      ]
     },
     "metadata": {
      "tags": []
     },
     "output_type": "display_data"
    }
   ],
   "source": [
    "bms_num.hist(figsize=(16,20), bins=50, xlabelsize=8, ylabelsize=8)"
   ]
  },
  {
   "cell_type": "markdown",
   "metadata": {
    "id": "YmKsTsQBd7y_"
   },
   "source": [
    "# Correlation"
   ]
  },
  {
   "cell_type": "code",
   "execution_count": 56,
   "metadata": {
    "colab": {
     "base_uri": "https://localhost:8080/"
    },
    "executionInfo": {
     "elapsed": 6738,
     "status": "ok",
     "timestamp": 1610152302176,
     "user": {
      "displayName": "Regita Putri Permata",
      "photoUrl": "https://lh3.googleusercontent.com/a-/AOh14GhzCd6_zvyWLaD1iQrW_1w5U86jNHEOuOhIPMVgUR0=s64",
      "userId": "07807283448997122753"
     },
     "user_tz": -420
    },
    "id": "SIAQgxdJd1xm",
    "outputId": "1675dd8c-4c7c-410b-d41b-1d1abc24eb02"
   },
   "outputs": [
    {
     "name": "stdout",
     "output_type": "stream",
     "text": [
      "There is 1 strongly correlated values with Item Outlet Sales:\n",
      "Item_MRP    0.567574\n",
      "Name: Item_Outlet_Sales, dtype: float64\n"
     ]
    }
   ],
   "source": [
    "bms_num_corr = bms_num.corr()['Item_Outlet_Sales'][:-1] # -1 because the latest row is Item_Outlet_Sales\n",
    "gold_features_list = bms_num_corr[abs(bms_num_corr) > 0.5].sort_values(ascending=False)\n",
    "print(\"There is {} strongly correlated values with Item Outlet Sales:\\n{}\".format(len(gold_features_list), gold_features_list))"
   ]
  },
  {
   "cell_type": "code",
   "execution_count": 57,
   "metadata": {
    "colab": {
     "base_uri": "https://localhost:8080/",
     "height": 195
    },
    "executionInfo": {
     "elapsed": 9603,
     "status": "ok",
     "timestamp": 1610152305060,
     "user": {
      "displayName": "Regita Putri Permata",
      "photoUrl": "https://lh3.googleusercontent.com/a-/AOh14GhzCd6_zvyWLaD1iQrW_1w5U86jNHEOuOhIPMVgUR0=s64",
      "userId": "07807283448997122753"
     },
     "user_tz": -420
    },
    "id": "YAwSC1l9ehYy",
    "outputId": "b9f44018-5996-4633-cd3a-d0f877293dd6"
   },
   "outputs": [
    {
     "data": {
      "image/png": "[encoded data removed]",
      "text/plain": [
       "<Figure size 900x180 with 6 Axes>"
      ]
     },
     "metadata": {
      "tags": []
     },
     "output_type": "display_data"
    }
   ],
   "source": [
    "for i in range(0, len(bms_num.columns), 5):\n",
    "    sns.pairplot(data=bms_num,\n",
    "                x_vars=bms_num.columns[i:i+5],\n",
    "                y_vars=['Item_Outlet_Sales'])"
   ]
  },
  {
   "cell_type": "markdown",
   "metadata": {
    "id": "e_0Xi4UffF5G"
   },
   "source": [
    "# Feature Relationships using Heatmap"
   ]
  },
  {
   "cell_type": "code",
   "execution_count": 58,
   "metadata": {
    "colab": {
     "base_uri": "https://localhost:8080/",
     "height": 668
    },
    "executionInfo": {
     "elapsed": 9587,
     "status": "ok",
     "timestamp": 1610152305062,
     "user": {
      "displayName": "Regita Putri Permata",
      "photoUrl": "https://lh3.googleusercontent.com/a-/AOh14GhzCd6_zvyWLaD1iQrW_1w5U86jNHEOuOhIPMVgUR0=s64",
      "userId": "07807283448997122753"
     },
     "user_tz": -420
    },
    "id": "0ktuubuqewxv",
    "outputId": "d8690fed-a004-4498-f2d7-d9e39cab9240"
   },
   "outputs": [
    {
     "data": {
      "text/plain": [
       "<matplotlib.axes._subplots.AxesSubplot at 0x7f2cf88905f8>"
      ]
     },
     "execution_count": 58,
     "metadata": {
      "tags": []
     },
     "output_type": "execute_result"
    },
    {
     "data": {
      "image/png": "[encoded data removed]",
      "text/plain": [
       "<Figure size 864x720 with 2 Axes>"
      ]
     },
     "metadata": {
      "tags": []
     },
     "output_type": "display_data"
    }
   ],
   "source": [
    "corr = bms_num.drop('Item_Outlet_Sales', axis=1).corr()\n",
    "plt.figure(figsize=(12,10))\n",
    "\n",
    "sns.heatmap(corr[(corr >= 0.5) | (corr <= -0.4)],\n",
    "            cmap='viridis', vmax=1.0, vmin=-1.0, linewidths=0.1, annot=True, annot_kws={'size': 8}, square=True)"
   ]
  },
  {
   "cell_type": "code",
   "execution_count": 65,
   "metadata": {
    "colab": {
     "base_uri": "https://localhost:8080/",
     "height": 426
    },
    "executionInfo": {
     "elapsed": 1304,
     "status": "ok",
     "timestamp": 1610154758663,
     "user": {
      "displayName": "Regita Putri Permata",
      "photoUrl": "https://lh3.googleusercontent.com/a-/AOh14GhzCd6_zvyWLaD1iQrW_1w5U86jNHEOuOhIPMVgUR0=s64",
      "userId": "07807283448997122753"
     },
     "user_tz": -420
    },
    "id": "NfcZ0ZL8s3cj",
    "outputId": "63711a54-9026-468f-9c0a-6b18bf51ef3c"
   },
   "outputs": [
    {
     "data": {
      "text/plain": [
       "<matplotlib.axes._subplots.AxesSubplot at 0x7f2cedd69fd0>"
      ]
     },
     "execution_count": 65,
     "metadata": {
      "tags": []
     },
     "output_type": "execute_result"
    },
    {
     "data": {
      "image/png": "[encoded data removed]",
      "text/plain": [
       "<Figure size 432x288 with 2 Axes>"
      ]
     },
     "metadata": {
      "tags": []
     },
     "output_type": "display_data"
    }
   ],
   "source": [
    "sns.heatmap(bms_num[bms_num.columns].corr(),annot=True)"
   ]
  },
  {
   "cell_type": "code",
   "execution_count": 59,
   "metadata": {
    "colab": {
     "base_uri": "https://localhost:8080/",
     "height": 635
    },
    "executionInfo": {
     "elapsed": 11151,
     "status": "ok",
     "timestamp": 1610152306640,
     "user": {
      "displayName": "Regita Putri Permata",
      "photoUrl": "https://lh3.googleusercontent.com/a-/AOh14GhzCd6_zvyWLaD1iQrW_1w5U86jNHEOuOhIPMVgUR0=s64",
      "userId": "07807283448997122753"
     },
     "user_tz": -420
    },
    "id": "5jBJg9Rhf3Re",
    "outputId": "a84f4614-8048-43de-cce7-3df5d86eaa11"
   },
   "outputs": [
    {
     "name": "stderr",
     "output_type": "stream",
     "text": [
      "/usr/local/lib/python3.6/dist-packages/pandas/plotting/_matplotlib/hist.py:434: MatplotlibDeprecationWarning: Support for uppercase single-letter colors is deprecated since Matplotlib 3.1 and will be removed in 3.3; please use lowercase instead.\n",
      "  ax.hist(data[col].dropna().values, bins=bins, **kwds)\n"
     ]
    },
    {
     "data": {
      "image/png": "[encoded data removed]",
      "text/plain": [
       "<Figure size 720x576 with 6 Axes>"
      ]
     },
     "metadata": {
      "tags": []
     },
     "output_type": "display_data"
    }
   ],
   "source": [
    "bms_num.hist(figsize=(10,8),bins=6,color='Y')\n",
    "plt.tight_layout()\n",
    "plt.show()"
   ]
  },
  {
   "cell_type": "code",
   "execution_count": 60,
   "metadata": {
    "colab": {
     "base_uri": "https://localhost:8080/",
     "height": 868
    },
    "executionInfo": {
     "elapsed": 2518,
     "status": "ok",
     "timestamp": 1610152542699,
     "user": {
      "displayName": "Regita Putri Permata",
      "photoUrl": "https://lh3.googleusercontent.com/a-/AOh14GhzCd6_zvyWLaD1iQrW_1w5U86jNHEOuOhIPMVgUR0=s64",
      "userId": "07807283448997122753"
     },
     "user_tz": -420
    },
    "id": "ZXddB0ZIjgFY",
    "outputId": "054f9637-ce14-46fa-d35b-57cf7a8f69a7"
   },
   "outputs": [
    {
     "data": {
      "image/png": "[encoded data removed]",
      "text/plain": [
       "<Figure size 720x864 with 6 Axes>"
      ]
     },
     "metadata": {
      "tags": []
     },
     "output_type": "display_data"
    }
   ],
   "source": [
    "plt.figure(1)\n",
    "plt.subplot(321)\n",
    "bms['Outlet_Type'].value_counts().plot(figsize=(10,12),kind='bar',color='green')\n",
    "\n",
    "plt.subplot(322)\n",
    "bms['Item_Fat_Content'].value_counts().plot(figsize=(10,12),kind='bar',color='yellow')\n",
    "\n",
    "plt.subplot(323)\n",
    "bms['Item_Type'].value_counts().plot(figsize=(10,12),kind='bar',color='red')\n",
    "\n",
    "plt.subplot(324)\n",
    "bms['Outlet_Size'].value_counts().plot(figsize=(10,12),kind='bar',color='orange')\n",
    "\n",
    "plt.subplot(325)\n",
    "bms['Outlet_Location_Type'].value_counts().plot(figsize=(10,12),kind='bar',color='black')\n",
    "\n",
    "plt.subplot(326)\n",
    "bms['Outlet_Establishment_Year'].value_counts().plot(figsize=(10,12),kind='bar',color='olive')\n",
    "\n",
    "\n",
    "plt.tight_layout()\n",
    "plt.show()"
   ]
  },
  {
   "cell_type": "code",
   "execution_count": 78,
   "metadata": {
    "colab": {
     "base_uri": "https://localhost:8080/",
     "height": 394
    },
    "executionInfo": {
     "elapsed": 920,
     "status": "ok",
     "timestamp": 1610160432461,
     "user": {
      "displayName": "Regita Putri Permata",
      "photoUrl": "https://lh3.googleusercontent.com/a-/AOh14GhzCd6_zvyWLaD1iQrW_1w5U86jNHEOuOhIPMVgUR0=s64",
      "userId": "07807283448997122753"
     },
     "user_tz": -420
    },
    "id": "HBvGTemsBFkR",
    "outputId": "2e170189-a52b-456e-c7d3-85272d63076b"
   },
   "outputs": [
    {
     "data": {
      "text/plain": [
       "<matplotlib.axes._subplots.AxesSubplot at 0x7f2cedf5c278>"
      ]
     },
     "execution_count": 78,
     "metadata": {
      "tags": []
     },
     "output_type": "execute_result"
    },
    {
     "data": {
      "image/png": "[encoded data removed]",
      "text/plain": [
       "<Figure size 432x288 with 1 Axes>"
      ]
     },
     "metadata": {
      "tags": []
     },
     "output_type": "display_data"
    }
   ],
   "source": [
    "bms[bms[\"Outlet_Type\"]==\"Supermarket Type1\"][\"Item_Type\"].value_counts().plot(kind=\"bar\")"
   ]
  },
  {
   "cell_type": "markdown",
   "metadata": {
    "id": "EXzSC_Z0DTmE"
   },
   "source": [
    "Jadi item type yang sering dijual di sumpermarket tipe 1 adalah fruit, vagetables, snack food, household, frozex food dan diary."
   ]
  },
  {
   "cell_type": "code",
   "execution_count": 81,
   "metadata": {
    "colab": {
     "base_uri": "https://localhost:8080/",
     "height": 320
    },
    "executionInfo": {
     "elapsed": 1337,
     "status": "ok",
     "timestamp": 1610160811610,
     "user": {
      "displayName": "Regita Putri Permata",
      "photoUrl": "https://lh3.googleusercontent.com/a-/AOh14GhzCd6_zvyWLaD1iQrW_1w5U86jNHEOuOhIPMVgUR0=s64",
      "userId": "07807283448997122753"
     },
     "user_tz": -420
    },
    "id": "dLJu8KW2DKdh",
    "outputId": "c08bdc71-db65-490a-e65c-7ed2a6041a57"
   },
   "outputs": [
    {
     "data": {
      "text/plain": [
       "<matplotlib.axes._subplots.AxesSubplot at 0x7f2ced0b2b70>"
      ]
     },
     "execution_count": 81,
     "metadata": {
      "tags": []
     },
     "output_type": "execute_result"
    },
    {
     "data": {
      "image/png": "[encoded data removed]",
      "text/plain": [
       "<Figure size 432x288 with 1 Axes>"
      ]
     },
     "metadata": {
      "tags": []
     },
     "output_type": "display_data"
    }
   ],
   "source": [
    "#untuk mengetahui Outlet_size di supermarket type 1\n",
    "bms[bms['Outlet_Type']==\"Supermarket Type1\"][\"Outlet_Size\"].value_counts().plot(kind=\"bar\")"
   ]
  },
  {
   "cell_type": "markdown",
   "metadata": {
    "id": "p4ednNq2knou"
   },
   "source": [
    "#Boxplot"
   ]
  },
  {
   "cell_type": "code",
   "execution_count": 61,
   "metadata": {
    "colab": {
     "base_uri": "https://localhost:8080/",
     "height": 284
    },
    "executionInfo": {
     "elapsed": 1095,
     "status": "ok",
     "timestamp": 1610152695593,
     "user": {
      "displayName": "Regita Putri Permata",
      "photoUrl": "https://lh3.googleusercontent.com/a-/AOh14GhzCd6_zvyWLaD1iQrW_1w5U86jNHEOuOhIPMVgUR0=s64",
      "userId": "07807283448997122753"
     },
     "user_tz": -420
    },
    "id": "GgTOBvnUknWS",
    "outputId": "b0a17701-08ee-4e62-b2e5-ea9d5128c3ba"
   },
   "outputs": [
    {
     "data": {
      "image/png": "[encoded data removed]",
      "text/plain": [
       "<Figure size 432x288 with 1 Axes>"
      ]
     },
     "metadata": {
      "tags": []
     },
     "output_type": "display_data"
    }
   ],
   "source": [
    "ax = sns.boxplot(x=\"Outlet_Size\", y=\"Item_Outlet_Sales\", data=bms)"
   ]
  },
  {
   "cell_type": "code",
   "execution_count": 87,
   "metadata": {
    "colab": {
     "base_uri": "https://localhost:8080/",
     "height": 611
    },
    "executionInfo": {
     "elapsed": 1012,
     "status": "ok",
     "timestamp": 1610161246267,
     "user": {
      "displayName": "Regita Putri Permata",
      "photoUrl": "https://lh3.googleusercontent.com/a-/AOh14GhzCd6_zvyWLaD1iQrW_1w5U86jNHEOuOhIPMVgUR0=s64",
      "userId": "07807283448997122753"
     },
     "user_tz": -420
    },
    "id": "NZRgHBgCEgSt",
    "outputId": "d9fe6790-297f-4698-8445-4b9970daf319"
   },
   "outputs": [
    {
     "data": {
      "image/png": "[encoded data removed]",
      "text/plain": [
       "<Figure size 720x720 with 1 Axes>"
      ]
     },
     "metadata": {
      "tags": []
     },
     "output_type": "display_data"
    }
   ],
   "source": [
    "#berdasarkan outlet_Size=Medium\n",
    "fig,axes = plt.subplots(figsize = (10,10))\n",
    "ax = sns.boxplot(x=\"Outlet_Type\", y=\"Item_Outlet_Sales\", data=bms[bms[\"Outlet_Size\"]==\"Medium\"])"
   ]
  },
  {
   "cell_type": "markdown",
   "metadata": {
    "id": "InlL0XHKGZtf"
   },
   "source": [
    "Ternyata berdasarkan tipe outlet yang medium, persebaran penjualan paling banyak ada di supermarket type 3 dengan range sekitar 0-13000"
   ]
  },
  {
   "cell_type": "code",
   "execution_count": 89,
   "metadata": {
    "colab": {
     "base_uri": "https://localhost:8080/",
     "height": 395
    },
    "executionInfo": {
     "elapsed": 1072,
     "status": "ok",
     "timestamp": 1610161675381,
     "user": {
      "displayName": "Regita Putri Permata",
      "photoUrl": "https://lh3.googleusercontent.com/a-/AOh14GhzCd6_zvyWLaD1iQrW_1w5U86jNHEOuOhIPMVgUR0=s64",
      "userId": "07807283448997122753"
     },
     "user_tz": -420
    },
    "id": "Ev7pQhE7GvCN",
    "outputId": "1b7b7c88-d162-4815-82e7-71c6c815bf07"
   },
   "outputs": [
    {
     "data": {
      "text/plain": [
       "<matplotlib.axes._subplots.AxesSubplot at 0x7f2cece37f28>"
      ]
     },
     "execution_count": 89,
     "metadata": {
      "tags": []
     },
     "output_type": "execute_result"
    },
    {
     "data": {
      "image/png": "[encoded data removed]",
      "text/plain": [
       "<Figure size 432x288 with 1 Axes>"
      ]
     },
     "metadata": {
      "tags": []
     },
     "output_type": "display_data"
    }
   ],
   "source": [
    "bms_medium = bms[bms[\"Outlet_Size\"]==\"Medium\"]\n",
    "bms_medium[bms_medium[\"Outlet_Type\"]==\"Supermarket Type3\"][\"Item_Type\"].value_counts().plot(kind=\"bar\")"
   ]
  },
  {
   "cell_type": "markdown",
   "metadata": {
    "id": "5vuRNuMLG-Ai"
   },
   "source": [
    "dengan type outlet medium, type barang yang dijual di supermarket type 3 adalah fruit, vagetables, snack foods, house hold, frozen food dan canned"
   ]
  },
  {
   "cell_type": "code",
   "execution_count": 62,
   "metadata": {
    "colab": {
     "base_uri": "https://localhost:8080/",
     "height": 285
    },
    "executionInfo": {
     "elapsed": 1274,
     "status": "ok",
     "timestamp": 1610152712402,
     "user": {
      "displayName": "Regita Putri Permata",
      "photoUrl": "https://lh3.googleusercontent.com/a-/AOh14GhzCd6_zvyWLaD1iQrW_1w5U86jNHEOuOhIPMVgUR0=s64",
      "userId": "07807283448997122753"
     },
     "user_tz": -420
    },
    "id": "P2_eJJ1clHq2",
    "outputId": "db32ffd4-9b62-4cb2-f292-5fbce2eb9ca6"
   },
   "outputs": [
    {
     "data": {
      "image/png": "[encoded data removed]",
      "text/plain": [
       "<Figure size 432x288 with 1 Axes>"
      ]
     },
     "metadata": {
      "tags": []
     },
     "output_type": "display_data"
    }
   ],
   "source": [
    "ax = sns.boxplot(x=\"Item_Fat_Content\", y=\"Item_Outlet_Sales\", data=bms)"
   ]
  },
  {
   "cell_type": "code",
   "execution_count": 63,
   "metadata": {
    "colab": {
     "base_uri": "https://localhost:8080/",
     "height": 628
    },
    "executionInfo": {
     "elapsed": 1763,
     "status": "ok",
     "timestamp": 1610152793298,
     "user": {
      "displayName": "Regita Putri Permata",
      "photoUrl": "https://lh3.googleusercontent.com/a-/AOh14GhzCd6_zvyWLaD1iQrW_1w5U86jNHEOuOhIPMVgUR0=s64",
      "userId": "07807283448997122753"
     },
     "user_tz": -420
    },
    "id": "9gPpIg0NlJHV",
    "outputId": "1efa2ef1-0148-4c32-b70a-893158175cf5"
   },
   "outputs": [
    {
     "data": {
      "text/plain": [
       "<function matplotlib.pyplot.plot>"
      ]
     },
     "execution_count": 63,
     "metadata": {
      "tags": []
     },
     "output_type": "execute_result"
    },
    {
     "data": {
      "image/png": "[encoded data removed]",
      "text/plain": [
       "<Figure size 720x720 with 1 Axes>"
      ]
     },
     "metadata": {
      "tags": []
     },
     "output_type": "display_data"
    }
   ],
   "source": [
    "fig,axes = plt.subplots(figsize = (10,10))\n",
    "sns.boxplot(x = bms['Outlet_Establishment_Year'], y = bms['Item_Outlet_Sales'], hue = bms['Outlet_Type'], ax = axes )\n",
    "plt.plot"
   ]
  },
  {
   "cell_type": "code",
   "execution_count": 108,
   "metadata": {
    "colab": {
     "base_uri": "https://localhost:8080/",
     "height": 639
    },
    "executionInfo": {
     "elapsed": 1046,
     "status": "ok",
     "timestamp": 1610163389303,
     "user": {
      "displayName": "Regita Putri Permata",
      "photoUrl": "https://lh3.googleusercontent.com/a-/AOh14GhzCd6_zvyWLaD1iQrW_1w5U86jNHEOuOhIPMVgUR0=s64",
      "userId": "07807283448997122753"
     },
     "user_tz": -420
    },
    "id": "YV69-8_eMB5J",
    "outputId": "0439037f-d77f-4916-e56d-75b8e48bf7bb"
   },
   "outputs": [
    {
     "data": {
      "text/plain": [
       "<matplotlib.axes._subplots.AxesSubplot at 0x7f2cec40b160>"
      ]
     },
     "execution_count": 108,
     "metadata": {
      "tags": []
     },
     "output_type": "execute_result"
    },
    {
     "data": {
      "image/png": "[encoded data removed]",
      "text/plain": [
       "<Figure size 720x720 with 1 Axes>"
      ]
     },
     "metadata": {
      "tags": []
     },
     "output_type": "display_data"
    }
   ],
   "source": [
    "fig,axes = plt.subplots(figsize = (10,10))\n",
    "bms.groupby(\"Outlet_Establishment_Year\")[\"Item_Outlet_Sales\"].sum().plot(kind=\"line\")"
   ]
  },
  {
   "cell_type": "code",
   "execution_count": 109,
   "metadata": {
    "colab": {
     "base_uri": "https://localhost:8080/"
    },
    "executionInfo": {
     "elapsed": 1121,
     "status": "ok",
     "timestamp": 1610163450516,
     "user": {
      "displayName": "Regita Putri Permata",
      "photoUrl": "https://lh3.googleusercontent.com/a-/AOh14GhzCd6_zvyWLaD1iQrW_1w5U86jNHEOuOhIPMVgUR0=s64",
      "userId": "07807283448997122753"
     },
     "user_tz": -420
    },
    "id": "UFVy50agOGUa",
    "outputId": "70c07f7d-758f-4f36-de90-3a63b3ef2cd6"
   },
   "outputs": [
    {
     "data": {
      "text/plain": [
       "Outlet_Establishment_Year\n",
       "1985    3.633620e+06\n",
       "1987    2.142664e+06\n",
       "1997    2.118395e+06\n",
       "1998    1.883402e+05\n",
       "1999    2.183970e+06\n",
       "2002    2.036725e+06\n",
       "2004    2.268123e+06\n",
       "2007    2.167465e+06\n",
       "2009    1.851823e+06\n",
       "Name: Item_Outlet_Sales, dtype: float64"
      ]
     },
     "execution_count": 109,
     "metadata": {
      "tags": []
     },
     "output_type": "execute_result"
    }
   ],
   "source": [
    "bms.groupby(\"Outlet_Establishment_Year\")[\"Item_Outlet_Sales\"].sum()"
   ]
  },
  {
   "cell_type": "code",
   "execution_count": 96,
   "metadata": {
    "colab": {
     "base_uri": "https://localhost:8080/",
     "height": 935
    },
    "executionInfo": {
     "elapsed": 1452,
     "status": "ok",
     "timestamp": 1610162799024,
     "user": {
      "displayName": "Regita Putri Permata",
      "photoUrl": "https://lh3.googleusercontent.com/a-/AOh14GhzCd6_zvyWLaD1iQrW_1w5U86jNHEOuOhIPMVgUR0=s64",
      "userId": "07807283448997122753"
     },
     "user_tz": -420
    },
    "id": "AtGNikfhlcwK",
    "outputId": "fad45102-60c3-4d49-d68f-c650b72b59d4"
   },
   "outputs": [
    {
     "data": {
      "text/plain": [
       "<matplotlib.axes._subplots.AxesSubplot at 0x7f2cec947828>"
      ]
     },
     "execution_count": 96,
     "metadata": {
      "tags": []
     },
     "output_type": "execute_result"
    },
    {
     "data": {
      "image/png": "[encoded data removed]",
      "text/plain": [
       "<Figure size 1440x1440 with 1 Axes>"
      ]
     },
     "metadata": {
      "tags": []
     },
     "output_type": "display_data"
    }
   ],
   "source": [
    "#supermarket type 3\n",
    "#sales dengan tipe apa yang paling mahal?\n",
    "fig,axes = plt.subplots(figsize = (20,20))\n",
    "bms_market3=bms[bms['Outlet_Type']==\"Supermarket Type3\"]\n",
    "sns.boxplot(x=\"Item_Type\", y=\"Item_Outlet_Sales\", data=bms_market3)"
   ]
  },
  {
   "cell_type": "code",
   "execution_count": null,
   "metadata": {
    "id": "o3k5b9K2KzY6"
   },
   "outputs": [],
   "source": []
  }
 ],
 "metadata": {
  "colab": {
   "collapsed_sections": [],
   "name": "Pertemuan 6_EDA.ipynb",
   "provenance": [],
   "toc_visible": true
  },
  "kernelspec": {
   "display_name": "Python 3",
   "language": "python",
   "name": "python3"
  },
  "language_info": {
   "codemirror_mode": {
    "name": "ipython",
    "version": 3
   },
   "file_extension": ".py",
   "mimetype": "text/x-python",
   "name": "python",
   "nbconvert_exporter": "python",
   "pygments_lexer": "ipython3",
   "version": "3.8.5"
  }
 },
 "nbformat": 4,
 "nbformat_minor": 1
}
